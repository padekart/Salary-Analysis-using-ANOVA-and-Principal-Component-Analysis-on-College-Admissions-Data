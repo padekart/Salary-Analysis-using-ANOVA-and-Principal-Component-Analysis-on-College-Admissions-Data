{
 "cells": [
  {
   "cell_type": "code",
   "execution_count": 1,
   "metadata": {},
   "outputs": [],
   "source": [
    "import pandas as pd\n",
    "import numpy as np\n",
    "import seaborn as sns\n",
    "import matplotlib.pyplot as plt\n",
    "%matplotlib inline\n",
    "from statsmodels.formula.api import ols     \n",
    "from statsmodels.stats.anova import _get_covariance,anova_lm "
   ]
  },
  {
   "cell_type": "markdown",
   "metadata": {},
   "source": [
    "# Problem 1A:\n",
    "\n",
    "**Salary is hypothesized to depend on educational qualification and occupation. To understand the dependency, the salaries of 40 individuals [SalaryData.csv] are collected and each person’s educational qualification and occupation are noted. Educational qualification is at three levels, High school graduate, Bachelor, and Doctorate. Occupation is at four levels, Administrative and clerical, Sales, Professional or specialty, and Executive or managerial. A different number of observations are in each level of education – occupation combination.**\n",
    "\n",
    "1. State the null and the alternate hypothesis for conducting one-way ANOVA for both Education and Occupation individually.\n",
    "2. Perform a one-way ANOVA on Salary with respect to Education. State whether the null hypothesis is accepted or rejected based on the ANOVA results.\n",
    "3. Perform a one-way ANOVA on Salary with respect to Occupation. State whether the null hypothesis is accepted or rejected based on the ANOVA results.\n",
    "4. If the null hypothesis is rejected in either (2) or in (3), find out which class means are significantly different. Interpret the result. (Non-Graded)"
   ]
  },
  {
   "cell_type": "code",
   "execution_count": 2,
   "metadata": {},
   "outputs": [
    {
     "data": {
      "text/html": [
       "<div>\n",
       "<style scoped>\n",
       "    .dataframe tbody tr th:only-of-type {\n",
       "        vertical-align: middle;\n",
       "    }\n",
       "\n",
       "    .dataframe tbody tr th {\n",
       "        vertical-align: top;\n",
       "    }\n",
       "\n",
       "    .dataframe thead th {\n",
       "        text-align: right;\n",
       "    }\n",
       "</style>\n",
       "<table border=\"1\" class=\"dataframe\">\n",
       "  <thead>\n",
       "    <tr style=\"text-align: right;\">\n",
       "      <th></th>\n",
       "      <th>Education</th>\n",
       "      <th>Occupation</th>\n",
       "      <th>Salary</th>\n",
       "    </tr>\n",
       "  </thead>\n",
       "  <tbody>\n",
       "    <tr>\n",
       "      <th>0</th>\n",
       "      <td>Doctorate</td>\n",
       "      <td>Adm-clerical</td>\n",
       "      <td>153197</td>\n",
       "    </tr>\n",
       "    <tr>\n",
       "      <th>1</th>\n",
       "      <td>Doctorate</td>\n",
       "      <td>Adm-clerical</td>\n",
       "      <td>115945</td>\n",
       "    </tr>\n",
       "    <tr>\n",
       "      <th>2</th>\n",
       "      <td>Doctorate</td>\n",
       "      <td>Adm-clerical</td>\n",
       "      <td>175935</td>\n",
       "    </tr>\n",
       "    <tr>\n",
       "      <th>3</th>\n",
       "      <td>Doctorate</td>\n",
       "      <td>Adm-clerical</td>\n",
       "      <td>220754</td>\n",
       "    </tr>\n",
       "    <tr>\n",
       "      <th>4</th>\n",
       "      <td>Doctorate</td>\n",
       "      <td>Sales</td>\n",
       "      <td>170769</td>\n",
       "    </tr>\n",
       "  </tbody>\n",
       "</table>\n",
       "</div>"
      ],
      "text/plain": [
       "    Education     Occupation  Salary\n",
       "0   Doctorate   Adm-clerical  153197\n",
       "1   Doctorate   Adm-clerical  115945\n",
       "2   Doctorate   Adm-clerical  175935\n",
       "3   Doctorate   Adm-clerical  220754\n",
       "4   Doctorate          Sales  170769"
      ]
     },
     "execution_count": 2,
     "metadata": {},
     "output_type": "execute_result"
    }
   ],
   "source": [
    "df = pd.read_csv('SalaryData.csv')\n",
    "df.head()"
   ]
  },
  {
   "cell_type": "code",
   "execution_count": 4,
   "metadata": {},
   "outputs": [
    {
     "data": {
      "text/plain": [
       "(40, 3)"
      ]
     },
     "execution_count": 4,
     "metadata": {},
     "output_type": "execute_result"
    }
   ],
   "source": [
    "df.shape"
   ]
  },
  {
   "cell_type": "code",
   "execution_count": 5,
   "metadata": {},
   "outputs": [
    {
     "data": {
      "text/plain": [
       "Education     0\n",
       "Occupation    0\n",
       "Salary        0\n",
       "dtype: int64"
      ]
     },
     "execution_count": 5,
     "metadata": {},
     "output_type": "execute_result"
    }
   ],
   "source": [
    "df.isnull().sum()"
   ]
  },
  {
   "cell_type": "code",
   "execution_count": 6,
   "metadata": {},
   "outputs": [
    {
     "name": "stdout",
     "output_type": "stream",
     "text": [
      "<class 'pandas.core.frame.DataFrame'>\n",
      "RangeIndex: 40 entries, 0 to 39\n",
      "Data columns (total 3 columns):\n",
      " #   Column      Non-Null Count  Dtype \n",
      "---  ------      --------------  ----- \n",
      " 0   Education   40 non-null     object\n",
      " 1   Occupation  40 non-null     object\n",
      " 2   Salary      40 non-null     int64 \n",
      "dtypes: int64(1), object(2)\n",
      "memory usage: 1.1+ KB\n"
     ]
    }
   ],
   "source": [
    "df.info()"
   ]
  },
  {
   "cell_type": "code",
   "execution_count": 7,
   "metadata": {},
   "outputs": [
    {
     "data": {
      "text/html": [
       "<div>\n",
       "<style scoped>\n",
       "    .dataframe tbody tr th:only-of-type {\n",
       "        vertical-align: middle;\n",
       "    }\n",
       "\n",
       "    .dataframe tbody tr th {\n",
       "        vertical-align: top;\n",
       "    }\n",
       "\n",
       "    .dataframe thead th {\n",
       "        text-align: right;\n",
       "    }\n",
       "</style>\n",
       "<table border=\"1\" class=\"dataframe\">\n",
       "  <thead>\n",
       "    <tr style=\"text-align: right;\">\n",
       "      <th></th>\n",
       "      <th>Education</th>\n",
       "      <th>Occupation</th>\n",
       "      <th>Salary</th>\n",
       "    </tr>\n",
       "  </thead>\n",
       "  <tbody>\n",
       "    <tr>\n",
       "      <th>count</th>\n",
       "      <td>40</td>\n",
       "      <td>40</td>\n",
       "      <td>40.000000</td>\n",
       "    </tr>\n",
       "    <tr>\n",
       "      <th>unique</th>\n",
       "      <td>3</td>\n",
       "      <td>4</td>\n",
       "      <td>NaN</td>\n",
       "    </tr>\n",
       "    <tr>\n",
       "      <th>top</th>\n",
       "      <td>Doctorate</td>\n",
       "      <td>Prof-specialty</td>\n",
       "      <td>NaN</td>\n",
       "    </tr>\n",
       "    <tr>\n",
       "      <th>freq</th>\n",
       "      <td>16</td>\n",
       "      <td>13</td>\n",
       "      <td>NaN</td>\n",
       "    </tr>\n",
       "    <tr>\n",
       "      <th>mean</th>\n",
       "      <td>NaN</td>\n",
       "      <td>NaN</td>\n",
       "      <td>162186.875000</td>\n",
       "    </tr>\n",
       "    <tr>\n",
       "      <th>std</th>\n",
       "      <td>NaN</td>\n",
       "      <td>NaN</td>\n",
       "      <td>64860.407506</td>\n",
       "    </tr>\n",
       "    <tr>\n",
       "      <th>min</th>\n",
       "      <td>NaN</td>\n",
       "      <td>NaN</td>\n",
       "      <td>50103.000000</td>\n",
       "    </tr>\n",
       "    <tr>\n",
       "      <th>25%</th>\n",
       "      <td>NaN</td>\n",
       "      <td>NaN</td>\n",
       "      <td>99897.500000</td>\n",
       "    </tr>\n",
       "    <tr>\n",
       "      <th>50%</th>\n",
       "      <td>NaN</td>\n",
       "      <td>NaN</td>\n",
       "      <td>169100.000000</td>\n",
       "    </tr>\n",
       "    <tr>\n",
       "      <th>75%</th>\n",
       "      <td>NaN</td>\n",
       "      <td>NaN</td>\n",
       "      <td>214440.750000</td>\n",
       "    </tr>\n",
       "    <tr>\n",
       "      <th>max</th>\n",
       "      <td>NaN</td>\n",
       "      <td>NaN</td>\n",
       "      <td>260151.000000</td>\n",
       "    </tr>\n",
       "  </tbody>\n",
       "</table>\n",
       "</div>"
      ],
      "text/plain": [
       "         Education       Occupation         Salary\n",
       "count           40               40      40.000000\n",
       "unique           3                4            NaN\n",
       "top      Doctorate   Prof-specialty            NaN\n",
       "freq            16               13            NaN\n",
       "mean           NaN              NaN  162186.875000\n",
       "std            NaN              NaN   64860.407506\n",
       "min            NaN              NaN   50103.000000\n",
       "25%            NaN              NaN   99897.500000\n",
       "50%            NaN              NaN  169100.000000\n",
       "75%            NaN              NaN  214440.750000\n",
       "max            NaN              NaN  260151.000000"
      ]
     },
     "execution_count": 7,
     "metadata": {},
     "output_type": "execute_result"
    }
   ],
   "source": [
    "df.describe(include='all')"
   ]
  },
  {
   "cell_type": "code",
   "execution_count": 8,
   "metadata": {},
   "outputs": [
    {
     "data": {
      "text/plain": [
       " Doctorate    16\n",
       " Bachelors    15\n",
       " HS-grad       9\n",
       "Name: Education, dtype: int64"
      ]
     },
     "execution_count": 8,
     "metadata": {},
     "output_type": "execute_result"
    }
   ],
   "source": [
    "df.Education.value_counts()"
   ]
  },
  {
   "cell_type": "code",
   "execution_count": 9,
   "metadata": {},
   "outputs": [
    {
     "data": {
      "text/plain": [
       " Prof-specialty     13\n",
       " Sales              12\n",
       " Adm-clerical       10\n",
       " Exec-managerial     5\n",
       "Name: Occupation, dtype: int64"
      ]
     },
     "execution_count": 9,
     "metadata": {},
     "output_type": "execute_result"
    }
   ],
   "source": [
    "df.Occupation.value_counts()"
   ]
  },
  {
   "cell_type": "markdown",
   "metadata": {},
   "source": [
    "## 1.1 State the null and the alternate hypothesis for conducting one-way ANOVA for both Education and Occupation individually."
   ]
  },
  {
   "cell_type": "markdown",
   "metadata": {},
   "source": [
    "## ANS\n",
    "\n",
    "**null and alternate hypothesis for conducting one-way ANOVA for Education with respect to the variable ‘Salary’:**\n",
    "\n",
    "H0: The means of 'Salary' variable with respect to each type of 'Education' is equal.\n",
    "\n",
    "𝐻a: At least one of the means of 'Salary' variable with respect to each type of 'Education' is unequal.\n",
    "\n",
    "**null and alternate hypothesis for conducting one-way ANOVA for Occupation with respect to the variable ‘Salary’:**\n",
    "\n",
    "H0: The means of 'Salary' variable with respect to each type of 'Occupation' is equal.\n",
    "\n",
    "𝐻a: At least one of the means of 'Salary' variable with respect to each type of 'Occupation' is unequal."
   ]
  },
  {
   "cell_type": "markdown",
   "metadata": {},
   "source": [
    "## 1.2 Perform one-way ANOVA for Education with respect to the variable ‘Salary’. State whether the null hypothesis is accepted or rejected based on the ANOVA results."
   ]
  },
  {
   "cell_type": "markdown",
   "metadata": {},
   "source": [
    "**Testing one way ANOVA for 'Education' variable with 'Salary' variable.**\n",
    "\n",
    "H0: The means of 'Salary' variable with respect to each type of 'Education' is equal.\n",
    "\n",
    "𝐻a: At least one of the means of 'Salary' variable with respect to each type of 'Education' is unequal."
   ]
  },
  {
   "cell_type": "code",
   "execution_count": 3,
   "metadata": {},
   "outputs": [
    {
     "name": "stdout",
     "output_type": "stream",
     "text": [
      "                df        sum_sq       mean_sq         F        PR(>F)\n",
      "C(Education)   2.0  1.026955e+11  5.134773e+10  30.95628  1.257709e-08\n",
      "Residual      37.0  6.137256e+10  1.658718e+09       NaN           NaN\n"
     ]
    }
   ],
   "source": [
    "formula = 'Salary ~ C(Education)'\n",
    "model = ols(formula, df).fit()\n",
    "aov_table = anova_lm(model)\n",
    "print(aov_table)"
   ]
  },
  {
   "cell_type": "markdown",
   "metadata": {},
   "source": [
    "**Since the p value in this scenario is less than $\\alpha$ (0.05), we can say that we reject the Null Hypothesis ($H_0$)**"
   ]
  },
  {
   "cell_type": "code",
   "execution_count": 11,
   "metadata": {},
   "outputs": [
    {
     "data": {
      "text/plain": [
       "<AxesSubplot:xlabel='Education', ylabel='Salary'>"
      ]
     },
     "execution_count": 11,
     "metadata": {},
     "output_type": "execute_result"
    },
    {
     "data": {
      "image/png": "[encoded data removed]",
      "text/plain": [
       "<Figure size 432x288 with 1 Axes>"
      ]
     },
     "metadata": {
      "needs_background": "light"
     },
     "output_type": "display_data"
    }
   ],
   "source": [
    "sns.pointplot(x='Education', y='Salary', data=df, ci=None)"
   ]
  },
  {
   "cell_type": "code",
   "execution_count": 14,
   "metadata": {},
   "outputs": [
    {
     "data": {
      "image/png": "[encoded data removed]",
      "text/plain": [
       "<Figure size 432x288 with 1 Axes>"
      ]
     },
     "metadata": {
      "needs_background": "light"
     },
     "output_type": "display_data"
    }
   ],
   "source": [
    "sns.boxplot(x= \"Education\", y = 'Salary' , data = df, hue = 'Education') \n",
    "plt.show()"
   ]
  },
  {
   "cell_type": "code",
   "execution_count": 15,
   "metadata": {},
   "outputs": [
    {
     "data": {
      "text/plain": [
       "Education\n",
       " Bachelors    165152.933333\n",
       " Doctorate    208427.000000\n",
       " HS-grad       75038.777778\n",
       "Name: Salary, dtype: float64"
      ]
     },
     "execution_count": 15,
     "metadata": {},
     "output_type": "execute_result"
    }
   ],
   "source": [
    "df.groupby(\"Education\")[\"Salary\"].mean()"
   ]
  },
  {
   "cell_type": "markdown",
   "metadata": {},
   "source": [
    "## 1.3 Perform one-way ANOVA for variable Occupation with respect to the variable ‘Salary’. State whether the null hypothesis is accepted or rejected based on the ANOVA results."
   ]
  },
  {
   "cell_type": "markdown",
   "metadata": {},
   "source": [
    "**Testing one way ANOVA for 'Education' variable with 'Salary' variable.**\n",
    "\n",
    "H0: The means of 'Salary' variable with respect to each type of 'Occupation' is equal.\n",
    "\n",
    "𝐻a: At least one of the means of 'Salary' variable with respect to each type of 'Occupation' is unequal."
   ]
  },
  {
   "cell_type": "code",
   "execution_count": 4,
   "metadata": {},
   "outputs": [
    {
     "name": "stdout",
     "output_type": "stream",
     "text": [
      "                 df        sum_sq       mean_sq         F    PR(>F)\n",
      "C(Occupation)   3.0  1.125878e+10  3.752928e+09  0.884144  0.458508\n",
      "Residual       36.0  1.528092e+11  4.244701e+09       NaN       NaN\n"
     ]
    }
   ],
   "source": [
    "formula = 'Salary ~ C(Occupation)'\n",
    "model = ols(formula, df).fit()\n",
    "aov_table = anova_lm(model)\n",
    "print(aov_table)"
   ]
  },
  {
   "cell_type": "markdown",
   "metadata": {},
   "source": [
    "**Since the p value in this scenario is more than $\\alpha$ (0.05), we can say that we fail to reject the Null Hypothesis ($H_0$)**"
   ]
  },
  {
   "cell_type": "code",
   "execution_count": 12,
   "metadata": {},
   "outputs": [
    {
     "data": {
      "text/plain": [
       "<AxesSubplot:xlabel='Occupation', ylabel='Salary'>"
      ]
     },
     "execution_count": 12,
     "metadata": {},
     "output_type": "execute_result"
    },
    {
     "data": {
      "image/png": "[encoded data removed]",
      "text/plain": [
       "<Figure size 432x288 with 1 Axes>"
      ]
     },
     "metadata": {
      "needs_background": "light"
     },
     "output_type": "display_data"
    }
   ],
   "source": [
    "sns.pointplot(x='Occupation', y='Salary', data=df, ci=None)"
   ]
  },
  {
   "cell_type": "code",
   "execution_count": 16,
   "metadata": {},
   "outputs": [
    {
     "data": {
      "image/png": "[encoded data removed]",
      "text/plain": [
       "<Figure size 432x288 with 1 Axes>"
      ]
     },
     "metadata": {
      "needs_background": "light"
     },
     "output_type": "display_data"
    }
   ],
   "source": [
    "sns.boxplot(x= \"Occupation\", y = 'Salary' , data = df, hue = 'Occupation') \n",
    "plt.show()"
   ]
  },
  {
   "cell_type": "code",
   "execution_count": 13,
   "metadata": {},
   "outputs": [
    {
     "data": {
      "text/plain": [
       "Occupation\n",
       " Adm-clerical       141424.300000\n",
       " Exec-managerial    197117.600000\n",
       " Prof-specialty     168953.153846\n",
       " Sales              157604.416667\n",
       "Name: Salary, dtype: float64"
      ]
     },
     "execution_count": 13,
     "metadata": {},
     "output_type": "execute_result"
    }
   ],
   "source": [
    "df.groupby(\"Occupation\")[\"Salary\"].mean()"
   ]
  },
  {
   "cell_type": "markdown",
   "metadata": {},
   "source": [
    "## 1.4 If the null hypothesis is rejected in either (1.2) or in (1.3), find out which class means are significantly different. Interpret the result."
   ]
  },
  {
   "cell_type": "markdown",
   "metadata": {},
   "source": [
    "**The null hypothesis is rejected in (1.2)**"
   ]
  },
  {
   "cell_type": "code",
   "execution_count": 15,
   "metadata": {},
   "outputs": [],
   "source": [
    "from statsmodels.stats.multicomp import (pairwise_tukeyhsd,MultiComparison)"
   ]
  },
  {
   "cell_type": "code",
   "execution_count": 16,
   "metadata": {},
   "outputs": [
    {
     "name": "stdout",
     "output_type": "stream",
     "text": [
      "           Multiple Comparison of Means - Tukey HSD, FWER=0.05           \n",
      "=========================================================================\n",
      "  group1     group2     meandiff   p-adj     lower        upper    reject\n",
      "-------------------------------------------------------------------------\n",
      " Bachelors  Doctorate   43274.0667 0.0146    7541.1439  79006.9894   True\n",
      " Bachelors    HS-grad  -90114.1556  0.001 -132035.1958 -48193.1153   True\n",
      " Doctorate    HS-grad -133388.2222  0.001 -174815.0876 -91961.3569   True\n",
      "-------------------------------------------------------------------------\n"
     ]
    }
   ],
   "source": [
    "MultiComp=MultiComparison(df['Salary'],df['Education']) \n",
    "print(MultiComp.tukeyhsd().summary())"
   ]
  },
  {
   "cell_type": "markdown",
   "metadata": {},
   "source": [
    "**It is clear from the above table that there is a significant difference in mean Salary between all three pairs.**"
   ]
  },
  {
   "cell_type": "code",
   "execution_count": 18,
   "metadata": {},
   "outputs": [
    {
     "data": {
      "image/png": "[encoded data removed]",
      "text/plain": [
       "<Figure size 576x504 with 1 Axes>"
      ]
     },
     "metadata": {
      "needs_background": "light"
     },
     "output_type": "display_data"
    }
   ],
   "source": [
    "results = MultiComp.tukeyhsd() \n",
    "df=results.summary() \n",
    "results_as_html = df.as_html() \n",
    "df1=pd.read_html(results_as_html, header=0, index_col=0)[0].reset_index() \n",
    "groups = np.array([df1.group1+ '-'+ df1.group2]) \n",
    "plt.figure(figsize=(8,7)) \n",
    "data_dict = {} \n",
    "data_dict['category'] = groups.ravel() \n",
    "data_dict['lower'] = results.confint[:,0] \n",
    "data_dict['upper'] = results.confint[:,1] \n",
    "dataset = pd.DataFrame(data_dict) \n",
    "for lower,upper,y in zip(dataset['lower'],dataset['upper'],range(len(dataset))):\n",
    "    plt.plot((lower,upper),(y,y),'ro-',color='orange') \n",
    "plt.yticks(range(len(dataset)),list(dataset['category']));"
   ]
  },
  {
   "cell_type": "markdown",
   "metadata": {},
   "source": [
    "**From above graph it is evident that the confidence intervals of difference of mean salaries for all the three pairs do not contain zero, therefore these pairs are significantly different from each other.**"
   ]
  },
  {
   "cell_type": "markdown",
   "metadata": {},
   "source": [
    "# Problem 1B"
   ]
  },
  {
   "cell_type": "markdown",
   "metadata": {},
   "source": [
    "## 1.5 What is the interaction between the two treatments? Analyze the effects of one variable on the other (Education and Occupation) with the help of an interaction plot."
   ]
  },
  {
   "cell_type": "code",
   "execution_count": 18,
   "metadata": {},
   "outputs": [
    {
     "data": {
      "image/png": "[encoded data removed]",
      "text/plain": [
       "<Figure size 432x288 with 1 Axes>"
      ]
     },
     "metadata": {
      "needs_background": "light"
     },
     "output_type": "display_data"
    }
   ],
   "source": [
    "sns.pointplot(x = 'Occupation', y = 'Salary',data=df, hue='Education', ci=None)\n",
    "plt.grid()\n",
    "plt.show()"
   ]
  },
  {
   "cell_type": "code",
   "execution_count": 8,
   "metadata": {},
   "outputs": [
    {
     "data": {
      "image/png": "[encoded data removed]",
      "text/plain": [
       "<Figure size 720x432 with 1 Axes>"
      ]
     },
     "metadata": {
      "needs_background": "light"
     },
     "output_type": "display_data"
    }
   ],
   "source": [
    "from statsmodels.graphics.factorplots import interaction_plot\n",
    "fig, ax = plt.subplots(figsize=(10, 6)) \n",
    "fig = interaction_plot(x=df['Occupation'], trace=df['Education'], response=df[\"Salary\"],colors=['red', 'blue','green'], ylabel='Salary', xlabel='Occupation',ax=ax) \n",
    "plt.show()"
   ]
  },
  {
   "cell_type": "markdown",
   "metadata": {},
   "source": [
    "**As seen from the above interaction plot, there seems to be very less or almost no interaction amongst the two categorical variables (Occupation and Education). Interaction can be observed only between Doctorate and Bachelor types of Education for the Occupation levels of Adm-clerical and Sales.**"
   ]
  },
  {
   "cell_type": "markdown",
   "metadata": {},
   "source": [
    "## 1.6 Perform a two-way ANOVA based on the Education and Occupation (along with their interaction Education*Occupation) with the variable ‘Salary’. State the null and alternative hypotheses and state your results. How will you interpret this result?"
   ]
  },
  {
   "cell_type": "markdown",
   "metadata": {},
   "source": [
    "**Testing two way ANOVA with both 'Education' and 'Occupation' variables with respect to the variable 'Salary'.**\n",
    "\n",
    "𝐻0  : The means of 'Salary' variable with respect to each Occupation category and Education is equal.\n",
    "\n",
    "𝐻a  : At least one of the means of 'Salary' variable with respect to each Occupation category and Education is unequal."
   ]
  },
  {
   "cell_type": "code",
   "execution_count": 20,
   "metadata": {},
   "outputs": [
    {
     "name": "stdout",
     "output_type": "stream",
     "text": [
      "                 df        sum_sq       mean_sq          F        PR(>F)\n",
      "C(Education)    2.0  1.026955e+11  5.134773e+10  31.257677  1.981539e-08\n",
      "C(Occupation)   3.0  5.519946e+09  1.839982e+09   1.120080  3.545825e-01\n",
      "Residual       34.0  5.585261e+10  1.642724e+09        NaN           NaN\n"
     ]
    }
   ],
   "source": [
    "formula = 'Salary ~ C(Education) + C(Occupation)'\n",
    "model = ols(formula, df).fit()\n",
    "aov_table = anova_lm(model)\n",
    "print(aov_table)"
   ]
  },
  {
   "cell_type": "markdown",
   "metadata": {},
   "source": [
    "**Considering both the factors (Education and Occupation), Education qualification is a significant factor as the p value is < $\\alpha$ (0.05) wheras Occupation level is not a significant variable as p value is > $\\alpha$ (0.05).**"
   ]
  },
  {
   "cell_type": "code",
   "execution_count": 21,
   "metadata": {},
   "outputs": [
    {
     "name": "stdout",
     "output_type": "stream",
     "text": [
      "                              df        sum_sq       mean_sq          F  \\\n",
      "C(Education)                 2.0  1.026955e+11  5.134773e+10  72.211958   \n",
      "C(Occupation)                3.0  5.519946e+09  1.839982e+09   2.587626   \n",
      "C(Education):C(Occupation)   6.0  3.634909e+10  6.058182e+09   8.519815   \n",
      "Residual                    29.0  2.062102e+10  7.110697e+08        NaN   \n",
      "\n",
      "                                  PR(>F)  \n",
      "C(Education)                5.466264e-12  \n",
      "C(Occupation)               7.211580e-02  \n",
      "C(Education):C(Occupation)  2.232500e-05  \n",
      "Residual                             NaN  \n"
     ]
    }
   ],
   "source": [
    "model=ols('Salary~C(Education)+C(Occupation)+C(Education):C(Occupation)',data=df).fit()\n",
    "aov_table=anova_lm(model)\n",
    "print(aov_table)"
   ]
  },
  {
   "cell_type": "markdown",
   "metadata": {},
   "source": [
    "**Considering interaction for both the factors (Education and Occupation), Education qualification still remains a significant factor as the p value is < $\\alpha$ (0.05) wheras Occupation level continues to remain insignificant variable as p value is > $\\alpha$ (0.05).However, the interaction of both the factors (Education and Occupation) is a significant factor as p value is < $\\alpha$ (0.05)**"
   ]
  },
  {
   "cell_type": "markdown",
   "metadata": {},
   "source": [
    "## 1.7 Explain the business implications of performing ANOVA for this particular case study."
   ]
  },
  {
   "cell_type": "markdown",
   "metadata": {},
   "source": [
    "**Business can increase the weightage of salaries offered more based on Occupational experience**\n",
    "\n",
    "**The salaries could also be reshuffled according to the Occupation experience irrespective of the Education qualification for junior positions to boost moral**\n",
    "\n",
    "**Business can also try to shuffle positions based on Educational qualifications creating a universal experience parameter where experience in all four types of Occupations are provided to the employees**"
   ]
  },
  {
   "cell_type": "code",
   "execution_count": null,
   "metadata": {},
   "outputs": [],
   "source": []
  },
  {
   "cell_type": "code",
   "execution_count": null,
   "metadata": {},
   "outputs": [],
   "source": []
  }
 ],
 "metadata": {
  "kernelspec": {
   "display_name": "Python 3",
   "language": "python",
   "name": "python3"
  },
  "language_info": {
   "codemirror_mode": {
    "name": "ipython",
    "version": 3
   },
   "file_extension": ".py",
   "mimetype": "text/x-python",
   "name": "python",
   "nbconvert_exporter": "python",
   "pygments_lexer": "ipython3",
   "version": "3.8.5"
  }
 },
 "nbformat": 4,
 "nbformat_minor": 4
}
