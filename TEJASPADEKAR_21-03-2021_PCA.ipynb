{
 "cells": [
  {
   "cell_type": "code",
   "execution_count": 1,
   "metadata": {},
   "outputs": [],
   "source": [
    "import numpy as np\n",
    "import pandas as pd\n",
    "import seaborn as sns\n",
    "import os\n",
    "import matplotlib.pyplot as plt\n",
    "%matplotlib inline\n",
    "from statsmodels.formula.api import ols    \n",
    "from statsmodels.stats.anova import _get_covariance,anova_lm \n",
    "from statsmodels import multivariate\n",
    "import statsmodels.api as sm\n",
    "from scipy.stats import zscore\n",
    "from sklearn.preprocessing import StandardScaler\n",
    "from sklearn.decomposition import PCA\n",
    "from sklearn.impute import SimpleImputer\n",
    "from factor_analyzer import FactorAnalyzer\n",
    "from factor_analyzer.factor_analyzer import calculate_bartlett_sphericity,calculate_kmo\n",
    "from matplotlib.patches import Rectangle"
   ]
  },
  {
   "cell_type": "markdown",
   "metadata": {},
   "source": [
    "## Problem 2A:\n",
    "**The dataset Education - Post 12th Standard.csv contains information on various colleges. You are expected to do a Principal Component Analysis for this case study according to the instructions given. The data dictionary of the 'Education - Post 12th Standard.csv' can be found in the following file: Data Dictionary.xlsx.**\n",
    "\n",
    "Perform Exploratory Data Analysis [both univariate and multivariate analysis to be performed]. What insight do you draw from the EDA?\n",
    "Is scaling necessary for PCA in this case? Give justification and perform scaling.\n",
    "Comment on the comparison between the covariance and the correlation matrices from this data.\n",
    "Check the dataset for outliers before and after scaling. What insight do you derive here? [Please do not treat Outliers unless specifically asked to do so]\n",
    "Perform PCA and export the data of the Principal Component scores into a data frame.\n",
    "Extract the eigenvalues and eigenvectors.[print both]\n",
    "Write down the explicit form of the first PC (in terms of the eigenvectors. Use values with two places of decimals only).\n",
    "Consider the cumulative values of the eigenvalues. How does it help you to decide on the optimum number of principal components? What do the eigenvectors indicate?\n",
    "Explain the business implication of using the Principal Component Analysis for this case study. How may PCs help in the further analysis? [Hint: Write Interpretations of the Principal Components Obtained]"
   ]
  },
  {
   "cell_type": "code",
   "execution_count": 2,
   "metadata": {},
   "outputs": [
    {
     "data": {
      "text/html": [
       "<div>\n",
       "<style scoped>\n",
       "    .dataframe tbody tr th:only-of-type {\n",
       "        vertical-align: middle;\n",
       "    }\n",
       "\n",
       "    .dataframe tbody tr th {\n",
       "        vertical-align: top;\n",
       "    }\n",
       "\n",
       "    .dataframe thead th {\n",
       "        text-align: right;\n",
       "    }\n",
       "</style>\n",
       "<table border=\"1\" class=\"dataframe\">\n",
       "  <thead>\n",
       "    <tr style=\"text-align: right;\">\n",
       "      <th></th>\n",
       "      <th>Names</th>\n",
       "      <th>Apps</th>\n",
       "      <th>Accept</th>\n",
       "      <th>Enroll</th>\n",
       "      <th>Top10perc</th>\n",
       "      <th>Top25perc</th>\n",
       "      <th>F.Undergrad</th>\n",
       "      <th>P.Undergrad</th>\n",
       "      <th>Outstate</th>\n",
       "      <th>Room.Board</th>\n",
       "      <th>Books</th>\n",
       "      <th>Personal</th>\n",
       "      <th>PhD</th>\n",
       "      <th>Terminal</th>\n",
       "      <th>S.F.Ratio</th>\n",
       "      <th>perc.alumni</th>\n",
       "      <th>Expend</th>\n",
       "      <th>Grad.Rate</th>\n",
       "    </tr>\n",
       "  </thead>\n",
       "  <tbody>\n",
       "    <tr>\n",
       "      <th>0</th>\n",
       "      <td>Abilene Christian University</td>\n",
       "      <td>1660</td>\n",
       "      <td>1232</td>\n",
       "      <td>721</td>\n",
       "      <td>23</td>\n",
       "      <td>52</td>\n",
       "      <td>2885</td>\n",
       "      <td>537</td>\n",
       "      <td>7440</td>\n",
       "      <td>3300</td>\n",
       "      <td>450</td>\n",
       "      <td>2200</td>\n",
       "      <td>70</td>\n",
       "      <td>78</td>\n",
       "      <td>18.1</td>\n",
       "      <td>12</td>\n",
       "      <td>7041</td>\n",
       "      <td>60</td>\n",
       "    </tr>\n",
       "    <tr>\n",
       "      <th>1</th>\n",
       "      <td>Adelphi University</td>\n",
       "      <td>2186</td>\n",
       "      <td>1924</td>\n",
       "      <td>512</td>\n",
       "      <td>16</td>\n",
       "      <td>29</td>\n",
       "      <td>2683</td>\n",
       "      <td>1227</td>\n",
       "      <td>12280</td>\n",
       "      <td>6450</td>\n",
       "      <td>750</td>\n",
       "      <td>1500</td>\n",
       "      <td>29</td>\n",
       "      <td>30</td>\n",
       "      <td>12.2</td>\n",
       "      <td>16</td>\n",
       "      <td>10527</td>\n",
       "      <td>56</td>\n",
       "    </tr>\n",
       "    <tr>\n",
       "      <th>2</th>\n",
       "      <td>Adrian College</td>\n",
       "      <td>1428</td>\n",
       "      <td>1097</td>\n",
       "      <td>336</td>\n",
       "      <td>22</td>\n",
       "      <td>50</td>\n",
       "      <td>1036</td>\n",
       "      <td>99</td>\n",
       "      <td>11250</td>\n",
       "      <td>3750</td>\n",
       "      <td>400</td>\n",
       "      <td>1165</td>\n",
       "      <td>53</td>\n",
       "      <td>66</td>\n",
       "      <td>12.9</td>\n",
       "      <td>30</td>\n",
       "      <td>8735</td>\n",
       "      <td>54</td>\n",
       "    </tr>\n",
       "    <tr>\n",
       "      <th>3</th>\n",
       "      <td>Agnes Scott College</td>\n",
       "      <td>417</td>\n",
       "      <td>349</td>\n",
       "      <td>137</td>\n",
       "      <td>60</td>\n",
       "      <td>89</td>\n",
       "      <td>510</td>\n",
       "      <td>63</td>\n",
       "      <td>12960</td>\n",
       "      <td>5450</td>\n",
       "      <td>450</td>\n",
       "      <td>875</td>\n",
       "      <td>92</td>\n",
       "      <td>97</td>\n",
       "      <td>7.7</td>\n",
       "      <td>37</td>\n",
       "      <td>19016</td>\n",
       "      <td>59</td>\n",
       "    </tr>\n",
       "    <tr>\n",
       "      <th>4</th>\n",
       "      <td>Alaska Pacific University</td>\n",
       "      <td>193</td>\n",
       "      <td>146</td>\n",
       "      <td>55</td>\n",
       "      <td>16</td>\n",
       "      <td>44</td>\n",
       "      <td>249</td>\n",
       "      <td>869</td>\n",
       "      <td>7560</td>\n",
       "      <td>4120</td>\n",
       "      <td>800</td>\n",
       "      <td>1500</td>\n",
       "      <td>76</td>\n",
       "      <td>72</td>\n",
       "      <td>11.9</td>\n",
       "      <td>2</td>\n",
       "      <td>10922</td>\n",
       "      <td>15</td>\n",
       "    </tr>\n",
       "  </tbody>\n",
       "</table>\n",
       "</div>"
      ],
      "text/plain": [
       "                          Names  Apps  Accept  Enroll  Top10perc  Top25perc  \\\n",
       "0  Abilene Christian University  1660    1232     721         23         52   \n",
       "1            Adelphi University  2186    1924     512         16         29   \n",
       "2                Adrian College  1428    1097     336         22         50   \n",
       "3           Agnes Scott College   417     349     137         60         89   \n",
       "4     Alaska Pacific University   193     146      55         16         44   \n",
       "\n",
       "   F.Undergrad  P.Undergrad  Outstate  Room.Board  Books  Personal  PhD  \\\n",
       "0         2885          537      7440        3300    450      2200   70   \n",
       "1         2683         1227     12280        6450    750      1500   29   \n",
       "2         1036           99     11250        3750    400      1165   53   \n",
       "3          510           63     12960        5450    450       875   92   \n",
       "4          249          869      7560        4120    800      1500   76   \n",
       "\n",
       "   Terminal  S.F.Ratio  perc.alumni  Expend  Grad.Rate  \n",
       "0        78       18.1           12    7041         60  \n",
       "1        30       12.2           16   10527         56  \n",
       "2        66       12.9           30    8735         54  \n",
       "3        97        7.7           37   19016         59  \n",
       "4        72       11.9            2   10922         15  "
      ]
     },
     "execution_count": 2,
     "metadata": {},
     "output_type": "execute_result"
    }
   ],
   "source": [
    "df = pd.read_csv('Education+-+Post+12th+Standard.csv')\n",
    "df.head()"
   ]
  },
  {
   "cell_type": "code",
   "execution_count": 3,
   "metadata": {},
   "outputs": [
    {
     "data": {
      "text/plain": [
       "(777, 18)"
      ]
     },
     "execution_count": 3,
     "metadata": {},
     "output_type": "execute_result"
    }
   ],
   "source": [
    "df.shape"
   ]
  },
  {
   "cell_type": "code",
   "execution_count": 4,
   "metadata": {},
   "outputs": [
    {
     "data": {
      "text/plain": [
       "Names           object\n",
       "Apps             int64\n",
       "Accept           int64\n",
       "Enroll           int64\n",
       "Top10perc        int64\n",
       "Top25perc        int64\n",
       "F.Undergrad      int64\n",
       "P.Undergrad      int64\n",
       "Outstate         int64\n",
       "Room.Board       int64\n",
       "Books            int64\n",
       "Personal         int64\n",
       "PhD              int64\n",
       "Terminal         int64\n",
       "S.F.Ratio      float64\n",
       "perc.alumni      int64\n",
       "Expend           int64\n",
       "Grad.Rate        int64\n",
       "dtype: object"
      ]
     },
     "execution_count": 4,
     "metadata": {},
     "output_type": "execute_result"
    }
   ],
   "source": [
    "df.dtypes"
   ]
  },
  {
   "cell_type": "code",
   "execution_count": 5,
   "metadata": {},
   "outputs": [
    {
     "data": {
      "text/plain": [
       "Names          0\n",
       "Apps           0\n",
       "Accept         0\n",
       "Enroll         0\n",
       "Top10perc      0\n",
       "Top25perc      0\n",
       "F.Undergrad    0\n",
       "P.Undergrad    0\n",
       "Outstate       0\n",
       "Room.Board     0\n",
       "Books          0\n",
       "Personal       0\n",
       "PhD            0\n",
       "Terminal       0\n",
       "S.F.Ratio      0\n",
       "perc.alumni    0\n",
       "Expend         0\n",
       "Grad.Rate      0\n",
       "dtype: int64"
      ]
     },
     "execution_count": 5,
     "metadata": {},
     "output_type": "execute_result"
    }
   ],
   "source": [
    "df.isna().sum()"
   ]
  },
  {
   "cell_type": "code",
   "execution_count": 6,
   "metadata": {},
   "outputs": [
    {
     "name": "stdout",
     "output_type": "stream",
     "text": [
      "<class 'pandas.core.frame.DataFrame'>\n",
      "RangeIndex: 777 entries, 0 to 776\n",
      "Data columns (total 18 columns):\n",
      " #   Column       Non-Null Count  Dtype  \n",
      "---  ------       --------------  -----  \n",
      " 0   Names        777 non-null    object \n",
      " 1   Apps         777 non-null    int64  \n",
      " 2   Accept       777 non-null    int64  \n",
      " 3   Enroll       777 non-null    int64  \n",
      " 4   Top10perc    777 non-null    int64  \n",
      " 5   Top25perc    777 non-null    int64  \n",
      " 6   F.Undergrad  777 non-null    int64  \n",
      " 7   P.Undergrad  777 non-null    int64  \n",
      " 8   Outstate     777 non-null    int64  \n",
      " 9   Room.Board   777 non-null    int64  \n",
      " 10  Books        777 non-null    int64  \n",
      " 11  Personal     777 non-null    int64  \n",
      " 12  PhD          777 non-null    int64  \n",
      " 13  Terminal     777 non-null    int64  \n",
      " 14  S.F.Ratio    777 non-null    float64\n",
      " 15  perc.alumni  777 non-null    int64  \n",
      " 16  Expend       777 non-null    int64  \n",
      " 17  Grad.Rate    777 non-null    int64  \n",
      "dtypes: float64(1), int64(16), object(1)\n",
      "memory usage: 109.4+ KB\n"
     ]
    }
   ],
   "source": [
    "df.info()"
   ]
  },
  {
   "cell_type": "code",
   "execution_count": 7,
   "metadata": {},
   "outputs": [
    {
     "data": {
      "text/html": [
       "<div>\n",
       "<style scoped>\n",
       "    .dataframe tbody tr th:only-of-type {\n",
       "        vertical-align: middle;\n",
       "    }\n",
       "\n",
       "    .dataframe tbody tr th {\n",
       "        vertical-align: top;\n",
       "    }\n",
       "\n",
       "    .dataframe thead th {\n",
       "        text-align: right;\n",
       "    }\n",
       "</style>\n",
       "<table border=\"1\" class=\"dataframe\">\n",
       "  <thead>\n",
       "    <tr style=\"text-align: right;\">\n",
       "      <th></th>\n",
       "      <th>count</th>\n",
       "      <th>mean</th>\n",
       "      <th>std</th>\n",
       "      <th>min</th>\n",
       "      <th>25%</th>\n",
       "      <th>50%</th>\n",
       "      <th>75%</th>\n",
       "      <th>max</th>\n",
       "    </tr>\n",
       "  </thead>\n",
       "  <tbody>\n",
       "    <tr>\n",
       "      <th>Apps</th>\n",
       "      <td>777.0</td>\n",
       "      <td>3001.638353</td>\n",
       "      <td>3870.201484</td>\n",
       "      <td>81.0</td>\n",
       "      <td>776.0</td>\n",
       "      <td>1558.0</td>\n",
       "      <td>3624.0</td>\n",
       "      <td>48094.0</td>\n",
       "    </tr>\n",
       "    <tr>\n",
       "      <th>Accept</th>\n",
       "      <td>777.0</td>\n",
       "      <td>2018.804376</td>\n",
       "      <td>2451.113971</td>\n",
       "      <td>72.0</td>\n",
       "      <td>604.0</td>\n",
       "      <td>1110.0</td>\n",
       "      <td>2424.0</td>\n",
       "      <td>26330.0</td>\n",
       "    </tr>\n",
       "    <tr>\n",
       "      <th>Enroll</th>\n",
       "      <td>777.0</td>\n",
       "      <td>779.972973</td>\n",
       "      <td>929.176190</td>\n",
       "      <td>35.0</td>\n",
       "      <td>242.0</td>\n",
       "      <td>434.0</td>\n",
       "      <td>902.0</td>\n",
       "      <td>6392.0</td>\n",
       "    </tr>\n",
       "    <tr>\n",
       "      <th>Top10perc</th>\n",
       "      <td>777.0</td>\n",
       "      <td>27.558559</td>\n",
       "      <td>17.640364</td>\n",
       "      <td>1.0</td>\n",
       "      <td>15.0</td>\n",
       "      <td>23.0</td>\n",
       "      <td>35.0</td>\n",
       "      <td>96.0</td>\n",
       "    </tr>\n",
       "    <tr>\n",
       "      <th>Top25perc</th>\n",
       "      <td>777.0</td>\n",
       "      <td>55.796654</td>\n",
       "      <td>19.804778</td>\n",
       "      <td>9.0</td>\n",
       "      <td>41.0</td>\n",
       "      <td>54.0</td>\n",
       "      <td>69.0</td>\n",
       "      <td>100.0</td>\n",
       "    </tr>\n",
       "    <tr>\n",
       "      <th>F.Undergrad</th>\n",
       "      <td>777.0</td>\n",
       "      <td>3699.907336</td>\n",
       "      <td>4850.420531</td>\n",
       "      <td>139.0</td>\n",
       "      <td>992.0</td>\n",
       "      <td>1707.0</td>\n",
       "      <td>4005.0</td>\n",
       "      <td>31643.0</td>\n",
       "    </tr>\n",
       "    <tr>\n",
       "      <th>P.Undergrad</th>\n",
       "      <td>777.0</td>\n",
       "      <td>855.298584</td>\n",
       "      <td>1522.431887</td>\n",
       "      <td>1.0</td>\n",
       "      <td>95.0</td>\n",
       "      <td>353.0</td>\n",
       "      <td>967.0</td>\n",
       "      <td>21836.0</td>\n",
       "    </tr>\n",
       "    <tr>\n",
       "      <th>Outstate</th>\n",
       "      <td>777.0</td>\n",
       "      <td>10440.669241</td>\n",
       "      <td>4023.016484</td>\n",
       "      <td>2340.0</td>\n",
       "      <td>7320.0</td>\n",
       "      <td>9990.0</td>\n",
       "      <td>12925.0</td>\n",
       "      <td>21700.0</td>\n",
       "    </tr>\n",
       "    <tr>\n",
       "      <th>Room.Board</th>\n",
       "      <td>777.0</td>\n",
       "      <td>4357.526384</td>\n",
       "      <td>1096.696416</td>\n",
       "      <td>1780.0</td>\n",
       "      <td>3597.0</td>\n",
       "      <td>4200.0</td>\n",
       "      <td>5050.0</td>\n",
       "      <td>8124.0</td>\n",
       "    </tr>\n",
       "    <tr>\n",
       "      <th>Books</th>\n",
       "      <td>777.0</td>\n",
       "      <td>549.380952</td>\n",
       "      <td>165.105360</td>\n",
       "      <td>96.0</td>\n",
       "      <td>470.0</td>\n",
       "      <td>500.0</td>\n",
       "      <td>600.0</td>\n",
       "      <td>2340.0</td>\n",
       "    </tr>\n",
       "    <tr>\n",
       "      <th>Personal</th>\n",
       "      <td>777.0</td>\n",
       "      <td>1340.642214</td>\n",
       "      <td>677.071454</td>\n",
       "      <td>250.0</td>\n",
       "      <td>850.0</td>\n",
       "      <td>1200.0</td>\n",
       "      <td>1700.0</td>\n",
       "      <td>6800.0</td>\n",
       "    </tr>\n",
       "    <tr>\n",
       "      <th>PhD</th>\n",
       "      <td>777.0</td>\n",
       "      <td>72.660232</td>\n",
       "      <td>16.328155</td>\n",
       "      <td>8.0</td>\n",
       "      <td>62.0</td>\n",
       "      <td>75.0</td>\n",
       "      <td>85.0</td>\n",
       "      <td>103.0</td>\n",
       "    </tr>\n",
       "    <tr>\n",
       "      <th>Terminal</th>\n",
       "      <td>777.0</td>\n",
       "      <td>79.702703</td>\n",
       "      <td>14.722359</td>\n",
       "      <td>24.0</td>\n",
       "      <td>71.0</td>\n",
       "      <td>82.0</td>\n",
       "      <td>92.0</td>\n",
       "      <td>100.0</td>\n",
       "    </tr>\n",
       "    <tr>\n",
       "      <th>S.F.Ratio</th>\n",
       "      <td>777.0</td>\n",
       "      <td>14.089704</td>\n",
       "      <td>3.958349</td>\n",
       "      <td>2.5</td>\n",
       "      <td>11.5</td>\n",
       "      <td>13.6</td>\n",
       "      <td>16.5</td>\n",
       "      <td>39.8</td>\n",
       "    </tr>\n",
       "    <tr>\n",
       "      <th>perc.alumni</th>\n",
       "      <td>777.0</td>\n",
       "      <td>22.743887</td>\n",
       "      <td>12.391801</td>\n",
       "      <td>0.0</td>\n",
       "      <td>13.0</td>\n",
       "      <td>21.0</td>\n",
       "      <td>31.0</td>\n",
       "      <td>64.0</td>\n",
       "    </tr>\n",
       "    <tr>\n",
       "      <th>Expend</th>\n",
       "      <td>777.0</td>\n",
       "      <td>9660.171171</td>\n",
       "      <td>5221.768440</td>\n",
       "      <td>3186.0</td>\n",
       "      <td>6751.0</td>\n",
       "      <td>8377.0</td>\n",
       "      <td>10830.0</td>\n",
       "      <td>56233.0</td>\n",
       "    </tr>\n",
       "    <tr>\n",
       "      <th>Grad.Rate</th>\n",
       "      <td>777.0</td>\n",
       "      <td>65.463320</td>\n",
       "      <td>17.177710</td>\n",
       "      <td>10.0</td>\n",
       "      <td>53.0</td>\n",
       "      <td>65.0</td>\n",
       "      <td>78.0</td>\n",
       "      <td>118.0</td>\n",
       "    </tr>\n",
       "  </tbody>\n",
       "</table>\n",
       "</div>"
      ],
      "text/plain": [
       "             count          mean          std     min     25%     50%  \\\n",
       "Apps         777.0   3001.638353  3870.201484    81.0   776.0  1558.0   \n",
       "Accept       777.0   2018.804376  2451.113971    72.0   604.0  1110.0   \n",
       "Enroll       777.0    779.972973   929.176190    35.0   242.0   434.0   \n",
       "Top10perc    777.0     27.558559    17.640364     1.0    15.0    23.0   \n",
       "Top25perc    777.0     55.796654    19.804778     9.0    41.0    54.0   \n",
       "F.Undergrad  777.0   3699.907336  4850.420531   139.0   992.0  1707.0   \n",
       "P.Undergrad  777.0    855.298584  1522.431887     1.0    95.0   353.0   \n",
       "Outstate     777.0  10440.669241  4023.016484  2340.0  7320.0  9990.0   \n",
       "Room.Board   777.0   4357.526384  1096.696416  1780.0  3597.0  4200.0   \n",
       "Books        777.0    549.380952   165.105360    96.0   470.0   500.0   \n",
       "Personal     777.0   1340.642214   677.071454   250.0   850.0  1200.0   \n",
       "PhD          777.0     72.660232    16.328155     8.0    62.0    75.0   \n",
       "Terminal     777.0     79.702703    14.722359    24.0    71.0    82.0   \n",
       "S.F.Ratio    777.0     14.089704     3.958349     2.5    11.5    13.6   \n",
       "perc.alumni  777.0     22.743887    12.391801     0.0    13.0    21.0   \n",
       "Expend       777.0   9660.171171  5221.768440  3186.0  6751.0  8377.0   \n",
       "Grad.Rate    777.0     65.463320    17.177710    10.0    53.0    65.0   \n",
       "\n",
       "                 75%      max  \n",
       "Apps          3624.0  48094.0  \n",
       "Accept        2424.0  26330.0  \n",
       "Enroll         902.0   6392.0  \n",
       "Top10perc       35.0     96.0  \n",
       "Top25perc       69.0    100.0  \n",
       "F.Undergrad   4005.0  31643.0  \n",
       "P.Undergrad    967.0  21836.0  \n",
       "Outstate     12925.0  21700.0  \n",
       "Room.Board    5050.0   8124.0  \n",
       "Books          600.0   2340.0  \n",
       "Personal      1700.0   6800.0  \n",
       "PhD             85.0    103.0  \n",
       "Terminal        92.0    100.0  \n",
       "S.F.Ratio       16.5     39.8  \n",
       "perc.alumni     31.0     64.0  \n",
       "Expend       10830.0  56233.0  \n",
       "Grad.Rate       78.0    118.0  "
      ]
     },
     "execution_count": 7,
     "metadata": {},
     "output_type": "execute_result"
    }
   ],
   "source": [
    "df.describe().T"
   ]
  },
  {
   "cell_type": "code",
   "execution_count": 8,
   "metadata": {},
   "outputs": [
    {
     "name": "stdout",
     "output_type": "stream",
     "text": [
      "Number of duplicate rows = 0\n"
     ]
    },
    {
     "data": {
      "text/html": [
       "<div>\n",
       "<style scoped>\n",
       "    .dataframe tbody tr th:only-of-type {\n",
       "        vertical-align: middle;\n",
       "    }\n",
       "\n",
       "    .dataframe tbody tr th {\n",
       "        vertical-align: top;\n",
       "    }\n",
       "\n",
       "    .dataframe thead th {\n",
       "        text-align: right;\n",
       "    }\n",
       "</style>\n",
       "<table border=\"1\" class=\"dataframe\">\n",
       "  <thead>\n",
       "    <tr style=\"text-align: right;\">\n",
       "      <th></th>\n",
       "      <th>Names</th>\n",
       "      <th>Apps</th>\n",
       "      <th>Accept</th>\n",
       "      <th>Enroll</th>\n",
       "      <th>Top10perc</th>\n",
       "      <th>Top25perc</th>\n",
       "      <th>F.Undergrad</th>\n",
       "      <th>P.Undergrad</th>\n",
       "      <th>Outstate</th>\n",
       "      <th>Room.Board</th>\n",
       "      <th>Books</th>\n",
       "      <th>Personal</th>\n",
       "      <th>PhD</th>\n",
       "      <th>Terminal</th>\n",
       "      <th>S.F.Ratio</th>\n",
       "      <th>perc.alumni</th>\n",
       "      <th>Expend</th>\n",
       "      <th>Grad.Rate</th>\n",
       "    </tr>\n",
       "  </thead>\n",
       "  <tbody>\n",
       "  </tbody>\n",
       "</table>\n",
       "</div>"
      ],
      "text/plain": [
       "Empty DataFrame\n",
       "Columns: [Names, Apps, Accept, Enroll, Top10perc, Top25perc, F.Undergrad, P.Undergrad, Outstate, Room.Board, Books, Personal, PhD, Terminal, S.F.Ratio, perc.alumni, Expend, Grad.Rate]\n",
       "Index: []"
      ]
     },
     "execution_count": 8,
     "metadata": {},
     "output_type": "execute_result"
    }
   ],
   "source": [
    "dups = df.duplicated()\n",
    "print('Number of duplicate rows = %d' % (dups.sum()))\n",
    "\n",
    "df[dups]"
   ]
  },
  {
   "cell_type": "code",
   "execution_count": 9,
   "metadata": {},
   "outputs": [
    {
     "data": {
      "text/html": [
       "<div>\n",
       "<style scoped>\n",
       "    .dataframe tbody tr th:only-of-type {\n",
       "        vertical-align: middle;\n",
       "    }\n",
       "\n",
       "    .dataframe tbody tr th {\n",
       "        vertical-align: top;\n",
       "    }\n",
       "\n",
       "    .dataframe thead th {\n",
       "        text-align: right;\n",
       "    }\n",
       "</style>\n",
       "<table border=\"1\" class=\"dataframe\">\n",
       "  <thead>\n",
       "    <tr style=\"text-align: right;\">\n",
       "      <th></th>\n",
       "      <th>Names</th>\n",
       "      <th>Apps</th>\n",
       "      <th>Accept</th>\n",
       "      <th>Enroll</th>\n",
       "      <th>Top10perc</th>\n",
       "      <th>Top25perc</th>\n",
       "      <th>F.Undergrad</th>\n",
       "      <th>P.Undergrad</th>\n",
       "      <th>Outstate</th>\n",
       "      <th>Room.Board</th>\n",
       "      <th>Books</th>\n",
       "      <th>Personal</th>\n",
       "      <th>PhD</th>\n",
       "      <th>Terminal</th>\n",
       "      <th>S.F.Ratio</th>\n",
       "      <th>perc.alumni</th>\n",
       "      <th>Expend</th>\n",
       "      <th>Grad.Rate</th>\n",
       "    </tr>\n",
       "  </thead>\n",
       "  <tbody>\n",
       "    <tr>\n",
       "      <th>582</th>\n",
       "      <td>Texas A&amp;M University at Galveston</td>\n",
       "      <td>529</td>\n",
       "      <td>481</td>\n",
       "      <td>243</td>\n",
       "      <td>22</td>\n",
       "      <td>47</td>\n",
       "      <td>1206</td>\n",
       "      <td>134</td>\n",
       "      <td>4860</td>\n",
       "      <td>3122</td>\n",
       "      <td>600</td>\n",
       "      <td>650</td>\n",
       "      <td>103</td>\n",
       "      <td>88</td>\n",
       "      <td>17.4</td>\n",
       "      <td>16</td>\n",
       "      <td>6415</td>\n",
       "      <td>43</td>\n",
       "    </tr>\n",
       "  </tbody>\n",
       "</table>\n",
       "</div>"
      ],
      "text/plain": [
       "                                 Names  Apps  Accept  Enroll  Top10perc  \\\n",
       "582  Texas A&M University at Galveston   529     481     243         22   \n",
       "\n",
       "     Top25perc  F.Undergrad  P.Undergrad  Outstate  Room.Board  Books  \\\n",
       "582         47         1206          134      4860        3122    600   \n",
       "\n",
       "     Personal  PhD  Terminal  S.F.Ratio  perc.alumni  Expend  Grad.Rate  \n",
       "582       650  103        88       17.4           16    6415         43  "
      ]
     },
     "execution_count": 9,
     "metadata": {},
     "output_type": "execute_result"
    }
   ],
   "source": [
    "df[df.PhD >100]"
   ]
  },
  {
   "cell_type": "code",
   "execution_count": 10,
   "metadata": {},
   "outputs": [
    {
     "data": {
      "text/html": [
       "<div>\n",
       "<style scoped>\n",
       "    .dataframe tbody tr th:only-of-type {\n",
       "        vertical-align: middle;\n",
       "    }\n",
       "\n",
       "    .dataframe tbody tr th {\n",
       "        vertical-align: top;\n",
       "    }\n",
       "\n",
       "    .dataframe thead th {\n",
       "        text-align: right;\n",
       "    }\n",
       "</style>\n",
       "<table border=\"1\" class=\"dataframe\">\n",
       "  <thead>\n",
       "    <tr style=\"text-align: right;\">\n",
       "      <th></th>\n",
       "      <th>Names</th>\n",
       "      <th>Apps</th>\n",
       "      <th>Accept</th>\n",
       "      <th>Enroll</th>\n",
       "      <th>Top10perc</th>\n",
       "      <th>Top25perc</th>\n",
       "      <th>F.Undergrad</th>\n",
       "      <th>P.Undergrad</th>\n",
       "      <th>Outstate</th>\n",
       "      <th>Room.Board</th>\n",
       "      <th>Books</th>\n",
       "      <th>Personal</th>\n",
       "      <th>PhD</th>\n",
       "      <th>Terminal</th>\n",
       "      <th>S.F.Ratio</th>\n",
       "      <th>perc.alumni</th>\n",
       "      <th>Expend</th>\n",
       "      <th>Grad.Rate</th>\n",
       "    </tr>\n",
       "  </thead>\n",
       "  <tbody>\n",
       "    <tr>\n",
       "      <th>95</th>\n",
       "      <td>Cazenovia College</td>\n",
       "      <td>3847</td>\n",
       "      <td>3433</td>\n",
       "      <td>527</td>\n",
       "      <td>9</td>\n",
       "      <td>35</td>\n",
       "      <td>1010</td>\n",
       "      <td>12</td>\n",
       "      <td>9384</td>\n",
       "      <td>4840</td>\n",
       "      <td>600</td>\n",
       "      <td>500</td>\n",
       "      <td>22</td>\n",
       "      <td>47</td>\n",
       "      <td>14.3</td>\n",
       "      <td>20</td>\n",
       "      <td>7697</td>\n",
       "      <td>118</td>\n",
       "    </tr>\n",
       "  </tbody>\n",
       "</table>\n",
       "</div>"
      ],
      "text/plain": [
       "                Names  Apps  Accept  Enroll  Top10perc  Top25perc  \\\n",
       "95  Cazenovia College  3847    3433     527          9         35   \n",
       "\n",
       "    F.Undergrad  P.Undergrad  Outstate  Room.Board  Books  Personal  PhD  \\\n",
       "95         1010           12      9384        4840    600       500   22   \n",
       "\n",
       "    Terminal  S.F.Ratio  perc.alumni  Expend  Grad.Rate  \n",
       "95        47       14.3           20    7697        118  "
      ]
     },
     "execution_count": 10,
     "metadata": {},
     "output_type": "execute_result"
    }
   ],
   "source": [
    "df[df['Grad.Rate'] >100]"
   ]
  },
  {
   "cell_type": "code",
   "execution_count": 11,
   "metadata": {},
   "outputs": [],
   "source": [
    "df.PhD.replace(to_replace=103, value=df.PhD.median(),inplace=True)\n",
    "df['Grad.Rate'].replace(to_replace=118, value=df['Grad.Rate'].median(),inplace=True)"
   ]
  },
  {
   "cell_type": "code",
   "execution_count": 12,
   "metadata": {},
   "outputs": [
    {
     "data": {
      "image/png": "[encoded data removed]",
      "text/plain": [
       "<Figure size 432x288 with 1 Axes>"
      ]
     },
     "metadata": {
      "needs_background": "light"
     },
     "output_type": "display_data"
    }
   ],
   "source": [
    "df.boxplot(column=['PhD'])\n",
    "plt.show()"
   ]
  },
  {
   "cell_type": "code",
   "execution_count": 13,
   "metadata": {},
   "outputs": [
    {
     "data": {
      "image/png": "[encoded data removed]",
      "text/plain": [
       "<Figure size 432x288 with 1 Axes>"
      ]
     },
     "metadata": {
      "needs_background": "light"
     },
     "output_type": "display_data"
    }
   ],
   "source": [
    "df.boxplot(column=['Grad.Rate'])\n",
    "plt.show()"
   ]
  },
  {
   "cell_type": "code",
   "execution_count": 14,
   "metadata": {},
   "outputs": [
    {
     "data": {
      "text/html": [
       "<div>\n",
       "<style scoped>\n",
       "    .dataframe tbody tr th:only-of-type {\n",
       "        vertical-align: middle;\n",
       "    }\n",
       "\n",
       "    .dataframe tbody tr th {\n",
       "        vertical-align: top;\n",
       "    }\n",
       "\n",
       "    .dataframe thead th {\n",
       "        text-align: right;\n",
       "    }\n",
       "</style>\n",
       "<table border=\"1\" class=\"dataframe\">\n",
       "  <thead>\n",
       "    <tr style=\"text-align: right;\">\n",
       "      <th></th>\n",
       "      <th>count</th>\n",
       "      <th>mean</th>\n",
       "      <th>std</th>\n",
       "      <th>min</th>\n",
       "      <th>25%</th>\n",
       "      <th>50%</th>\n",
       "      <th>75%</th>\n",
       "      <th>max</th>\n",
       "    </tr>\n",
       "  </thead>\n",
       "  <tbody>\n",
       "    <tr>\n",
       "      <th>Apps</th>\n",
       "      <td>777.0</td>\n",
       "      <td>3001.638353</td>\n",
       "      <td>3870.201484</td>\n",
       "      <td>81.0</td>\n",
       "      <td>776.0</td>\n",
       "      <td>1558.0</td>\n",
       "      <td>3624.0</td>\n",
       "      <td>48094.0</td>\n",
       "    </tr>\n",
       "    <tr>\n",
       "      <th>Accept</th>\n",
       "      <td>777.0</td>\n",
       "      <td>2018.804376</td>\n",
       "      <td>2451.113971</td>\n",
       "      <td>72.0</td>\n",
       "      <td>604.0</td>\n",
       "      <td>1110.0</td>\n",
       "      <td>2424.0</td>\n",
       "      <td>26330.0</td>\n",
       "    </tr>\n",
       "    <tr>\n",
       "      <th>Enroll</th>\n",
       "      <td>777.0</td>\n",
       "      <td>779.972973</td>\n",
       "      <td>929.176190</td>\n",
       "      <td>35.0</td>\n",
       "      <td>242.0</td>\n",
       "      <td>434.0</td>\n",
       "      <td>902.0</td>\n",
       "      <td>6392.0</td>\n",
       "    </tr>\n",
       "    <tr>\n",
       "      <th>Top10perc</th>\n",
       "      <td>777.0</td>\n",
       "      <td>27.558559</td>\n",
       "      <td>17.640364</td>\n",
       "      <td>1.0</td>\n",
       "      <td>15.0</td>\n",
       "      <td>23.0</td>\n",
       "      <td>35.0</td>\n",
       "      <td>96.0</td>\n",
       "    </tr>\n",
       "    <tr>\n",
       "      <th>Top25perc</th>\n",
       "      <td>777.0</td>\n",
       "      <td>55.796654</td>\n",
       "      <td>19.804778</td>\n",
       "      <td>9.0</td>\n",
       "      <td>41.0</td>\n",
       "      <td>54.0</td>\n",
       "      <td>69.0</td>\n",
       "      <td>100.0</td>\n",
       "    </tr>\n",
       "    <tr>\n",
       "      <th>F.Undergrad</th>\n",
       "      <td>777.0</td>\n",
       "      <td>3699.907336</td>\n",
       "      <td>4850.420531</td>\n",
       "      <td>139.0</td>\n",
       "      <td>992.0</td>\n",
       "      <td>1707.0</td>\n",
       "      <td>4005.0</td>\n",
       "      <td>31643.0</td>\n",
       "    </tr>\n",
       "    <tr>\n",
       "      <th>P.Undergrad</th>\n",
       "      <td>777.0</td>\n",
       "      <td>855.298584</td>\n",
       "      <td>1522.431887</td>\n",
       "      <td>1.0</td>\n",
       "      <td>95.0</td>\n",
       "      <td>353.0</td>\n",
       "      <td>967.0</td>\n",
       "      <td>21836.0</td>\n",
       "    </tr>\n",
       "    <tr>\n",
       "      <th>Outstate</th>\n",
       "      <td>777.0</td>\n",
       "      <td>10440.669241</td>\n",
       "      <td>4023.016484</td>\n",
       "      <td>2340.0</td>\n",
       "      <td>7320.0</td>\n",
       "      <td>9990.0</td>\n",
       "      <td>12925.0</td>\n",
       "      <td>21700.0</td>\n",
       "    </tr>\n",
       "    <tr>\n",
       "      <th>Room.Board</th>\n",
       "      <td>777.0</td>\n",
       "      <td>4357.526384</td>\n",
       "      <td>1096.696416</td>\n",
       "      <td>1780.0</td>\n",
       "      <td>3597.0</td>\n",
       "      <td>4200.0</td>\n",
       "      <td>5050.0</td>\n",
       "      <td>8124.0</td>\n",
       "    </tr>\n",
       "    <tr>\n",
       "      <th>Books</th>\n",
       "      <td>777.0</td>\n",
       "      <td>549.380952</td>\n",
       "      <td>165.105360</td>\n",
       "      <td>96.0</td>\n",
       "      <td>470.0</td>\n",
       "      <td>500.0</td>\n",
       "      <td>600.0</td>\n",
       "      <td>2340.0</td>\n",
       "    </tr>\n",
       "    <tr>\n",
       "      <th>Personal</th>\n",
       "      <td>777.0</td>\n",
       "      <td>1340.642214</td>\n",
       "      <td>677.071454</td>\n",
       "      <td>250.0</td>\n",
       "      <td>850.0</td>\n",
       "      <td>1200.0</td>\n",
       "      <td>1700.0</td>\n",
       "      <td>6800.0</td>\n",
       "    </tr>\n",
       "    <tr>\n",
       "      <th>PhD</th>\n",
       "      <td>777.0</td>\n",
       "      <td>72.624196</td>\n",
       "      <td>16.291967</td>\n",
       "      <td>8.0</td>\n",
       "      <td>62.0</td>\n",
       "      <td>75.0</td>\n",
       "      <td>85.0</td>\n",
       "      <td>100.0</td>\n",
       "    </tr>\n",
       "    <tr>\n",
       "      <th>Terminal</th>\n",
       "      <td>777.0</td>\n",
       "      <td>79.702703</td>\n",
       "      <td>14.722359</td>\n",
       "      <td>24.0</td>\n",
       "      <td>71.0</td>\n",
       "      <td>82.0</td>\n",
       "      <td>92.0</td>\n",
       "      <td>100.0</td>\n",
       "    </tr>\n",
       "    <tr>\n",
       "      <th>S.F.Ratio</th>\n",
       "      <td>777.0</td>\n",
       "      <td>14.089704</td>\n",
       "      <td>3.958349</td>\n",
       "      <td>2.5</td>\n",
       "      <td>11.5</td>\n",
       "      <td>13.6</td>\n",
       "      <td>16.5</td>\n",
       "      <td>39.8</td>\n",
       "    </tr>\n",
       "    <tr>\n",
       "      <th>perc.alumni</th>\n",
       "      <td>777.0</td>\n",
       "      <td>22.743887</td>\n",
       "      <td>12.391801</td>\n",
       "      <td>0.0</td>\n",
       "      <td>13.0</td>\n",
       "      <td>21.0</td>\n",
       "      <td>31.0</td>\n",
       "      <td>64.0</td>\n",
       "    </tr>\n",
       "    <tr>\n",
       "      <th>Expend</th>\n",
       "      <td>777.0</td>\n",
       "      <td>9660.171171</td>\n",
       "      <td>5221.768440</td>\n",
       "      <td>3186.0</td>\n",
       "      <td>6751.0</td>\n",
       "      <td>8377.0</td>\n",
       "      <td>10830.0</td>\n",
       "      <td>56233.0</td>\n",
       "    </tr>\n",
       "    <tr>\n",
       "      <th>Grad.Rate</th>\n",
       "      <td>777.0</td>\n",
       "      <td>65.395109</td>\n",
       "      <td>17.073737</td>\n",
       "      <td>10.0</td>\n",
       "      <td>53.0</td>\n",
       "      <td>65.0</td>\n",
       "      <td>78.0</td>\n",
       "      <td>100.0</td>\n",
       "    </tr>\n",
       "  </tbody>\n",
       "</table>\n",
       "</div>"
      ],
      "text/plain": [
       "             count          mean          std     min     25%     50%  \\\n",
       "Apps         777.0   3001.638353  3870.201484    81.0   776.0  1558.0   \n",
       "Accept       777.0   2018.804376  2451.113971    72.0   604.0  1110.0   \n",
       "Enroll       777.0    779.972973   929.176190    35.0   242.0   434.0   \n",
       "Top10perc    777.0     27.558559    17.640364     1.0    15.0    23.0   \n",
       "Top25perc    777.0     55.796654    19.804778     9.0    41.0    54.0   \n",
       "F.Undergrad  777.0   3699.907336  4850.420531   139.0   992.0  1707.0   \n",
       "P.Undergrad  777.0    855.298584  1522.431887     1.0    95.0   353.0   \n",
       "Outstate     777.0  10440.669241  4023.016484  2340.0  7320.0  9990.0   \n",
       "Room.Board   777.0   4357.526384  1096.696416  1780.0  3597.0  4200.0   \n",
       "Books        777.0    549.380952   165.105360    96.0   470.0   500.0   \n",
       "Personal     777.0   1340.642214   677.071454   250.0   850.0  1200.0   \n",
       "PhD          777.0     72.624196    16.291967     8.0    62.0    75.0   \n",
       "Terminal     777.0     79.702703    14.722359    24.0    71.0    82.0   \n",
       "S.F.Ratio    777.0     14.089704     3.958349     2.5    11.5    13.6   \n",
       "perc.alumni  777.0     22.743887    12.391801     0.0    13.0    21.0   \n",
       "Expend       777.0   9660.171171  5221.768440  3186.0  6751.0  8377.0   \n",
       "Grad.Rate    777.0     65.395109    17.073737    10.0    53.0    65.0   \n",
       "\n",
       "                 75%      max  \n",
       "Apps          3624.0  48094.0  \n",
       "Accept        2424.0  26330.0  \n",
       "Enroll         902.0   6392.0  \n",
       "Top10perc       35.0     96.0  \n",
       "Top25perc       69.0    100.0  \n",
       "F.Undergrad   4005.0  31643.0  \n",
       "P.Undergrad    967.0  21836.0  \n",
       "Outstate     12925.0  21700.0  \n",
       "Room.Board    5050.0   8124.0  \n",
       "Books          600.0   2340.0  \n",
       "Personal      1700.0   6800.0  \n",
       "PhD             85.0    100.0  \n",
       "Terminal        92.0    100.0  \n",
       "S.F.Ratio       16.5     39.8  \n",
       "perc.alumni     31.0     64.0  \n",
       "Expend       10830.0  56233.0  \n",
       "Grad.Rate       78.0    100.0  "
      ]
     },
     "execution_count": 14,
     "metadata": {},
     "output_type": "execute_result"
    }
   ],
   "source": [
    "df.describe().T"
   ]
  },
  {
   "cell_type": "code",
   "execution_count": 15,
   "metadata": {},
   "outputs": [
    {
     "data": {
      "image/png": "[encoded data removed]",
      "text/plain": [
       "<Figure size 1080x504 with 1 Axes>"
      ]
     },
     "metadata": {
      "needs_background": "light"
     },
     "output_type": "display_data"
    }
   ],
   "source": [
    "df.boxplot(figsize=(15,7))\n",
    "plt.xticks(rotation=90)\n",
    "plt.show()"
   ]
  },
  {
   "cell_type": "markdown",
   "metadata": {},
   "source": [
    "## 2.1 Perform Exploratory Data Analysis [both univariate and multivariate analysis to be performed]. What insight do you draw from the EDA?"
   ]
  },
  {
   "cell_type": "markdown",
   "metadata": {},
   "source": [
    "\n",
    "**Univariate Analysis**"
   ]
  },
  {
   "cell_type": "code",
   "execution_count": 16,
   "metadata": {},
   "outputs": [],
   "source": [
    "def univariateAnalysis_numeric(column,nbins):\n",
    "    print(\"Description of \" + column)\n",
    "    print(\"----------------------------------------------------------------------------\")\n",
    "    print(df[column].describe(),end=' ')\n",
    "    \n",
    "    \n",
    "    plt.figure()\n",
    "    print(\"Distribution of \" + column)\n",
    "    print(\"----------------------------------------------------------------------------\")\n",
    "    sns.distplot(df[column], kde=False, color='g');\n",
    "    plt.show()\n",
    "    \n",
    "    plt.figure()\n",
    "    print(\"BoxPlot of \" + column)\n",
    "    print(\"----------------------------------------------------------------------------\")\n",
    "    ax = sns.boxplot(x=df[column])\n",
    "    plt.show()"
   ]
  },
  {
   "cell_type": "code",
   "execution_count": 17,
   "metadata": {},
   "outputs": [
    {
     "data": {
      "text/plain": [
       "17"
      ]
     },
     "execution_count": 17,
     "metadata": {},
     "output_type": "execute_result"
    }
   ],
   "source": [
    "df_num = df.select_dtypes(include = ['float64', 'int64'])\n",
    "lstnumericcolumns = list(df_num.columns.values)\n",
    "len(lstnumericcolumns)"
   ]
  },
  {
   "cell_type": "code",
   "execution_count": 18,
   "metadata": {},
   "outputs": [
    {
     "name": "stdout",
     "output_type": "stream",
     "text": [
      "Description of Apps\n",
      "----------------------------------------------------------------------------\n",
      "count      777.000000\n",
      "mean      3001.638353\n",
      "std       3870.201484\n",
      "min         81.000000\n",
      "25%        776.000000\n",
      "50%       1558.000000\n",
      "75%       3624.000000\n",
      "max      48094.000000\n",
      "Name: Apps, dtype: float64 Distribution of Apps\n",
      "----------------------------------------------------------------------------\n"
     ]
    },
    {
     "name": "stderr",
     "output_type": "stream",
     "text": [
      "C:\\Users\\Tejas\\anaconda3\\lib\\site-packages\\seaborn\\distributions.py:2551: FutureWarning: `distplot` is a deprecated function and will be removed in a future version. Please adapt your code to use either `displot` (a figure-level function with similar flexibility) or `histplot` (an axes-level function for histograms).\n",
      "  warnings.warn(msg, FutureWarning)\n"
     ]
    },
    {
     "data": {
      "image/png": "[encoded data removed]",
      "text/plain": [
       "<Figure size 432x288 with 1 Axes>"
      ]
     },
     "metadata": {
      "needs_background": "light"
     },
     "output_type": "display_data"
    },
    {
     "name": "stdout",
     "output_type": "stream",
     "text": [
      "BoxPlot of Apps\n",
      "----------------------------------------------------------------------------\n"
     ]
    },
    {
     "data": {
      "image/png": "[encoded data removed]",
      "text/plain": [
       "<Figure size 432x288 with 1 Axes>"
      ]
     },
     "metadata": {
      "needs_background": "light"
     },
     "output_type": "display_data"
    },
    {
     "name": "stdout",
     "output_type": "stream",
     "text": [
      "Description of Accept\n",
      "----------------------------------------------------------------------------\n",
      "count      777.000000\n",
      "mean      2018.804376\n",
      "std       2451.113971\n",
      "min         72.000000\n",
      "25%        604.000000\n",
      "50%       1110.000000\n",
      "75%       2424.000000\n",
      "max      26330.000000\n",
      "Name: Accept, dtype: float64 Distribution of Accept\n",
      "----------------------------------------------------------------------------\n"
     ]
    },
    {
     "name": "stderr",
     "output_type": "stream",
     "text": [
      "C:\\Users\\Tejas\\anaconda3\\lib\\site-packages\\seaborn\\distributions.py:2551: FutureWarning: `distplot` is a deprecated function and will be removed in a future version. Please adapt your code to use either `displot` (a figure-level function with similar flexibility) or `histplot` (an axes-level function for histograms).\n",
      "  warnings.warn(msg, FutureWarning)\n"
     ]
    },
    {
     "data": {
      "image/png": "[encoded data removed]",
      "text/plain": [
       "<Figure size 432x288 with 1 Axes>"
      ]
     },
     "metadata": {
      "needs_background": "light"
     },
     "output_type": "display_data"
    },
    {
     "name": "stdout",
     "output_type": "stream",
     "text": [
      "BoxPlot of Accept\n",
      "----------------------------------------------------------------------------\n"
     ]
    },
    {
     "data": {
      "image/png": "[encoded data removed]",
      "text/plain": [
       "<Figure size 432x288 with 1 Axes>"
      ]
     },
     "metadata": {
      "needs_background": "light"
     },
     "output_type": "display_data"
    },
    {
     "name": "stdout",
     "output_type": "stream",
     "text": [
      "Description of Enroll\n",
      "----------------------------------------------------------------------------\n",
      "count     777.000000\n",
      "mean      779.972973\n",
      "std       929.176190\n",
      "min        35.000000\n",
      "25%       242.000000\n",
      "50%       434.000000\n",
      "75%       902.000000\n",
      "max      6392.000000\n",
      "Name: Enroll, dtype: float64 Distribution of Enroll\n",
      "----------------------------------------------------------------------------\n"
     ]
    },
    {
     "name": "stderr",
     "output_type": "stream",
     "text": [
      "C:\\Users\\Tejas\\anaconda3\\lib\\site-packages\\seaborn\\distributions.py:2551: FutureWarning: `distplot` is a deprecated function and will be removed in a future version. Please adapt your code to use either `displot` (a figure-level function with similar flexibility) or `histplot` (an axes-level function for histograms).\n",
      "  warnings.warn(msg, FutureWarning)\n"
     ]
    },
    {
     "data": {
      "image/png": "[encoded data removed]",
      "text/plain": [
       "<Figure size 432x288 with 1 Axes>"
      ]
     },
     "metadata": {
      "needs_background": "light"
     },
     "output_type": "display_data"
    },
    {
     "name": "stdout",
     "output_type": "stream",
     "text": [
      "BoxPlot of Enroll\n",
      "----------------------------------------------------------------------------\n"
     ]
    },
    {
     "data": {
      "image/png": "[encoded data removed]",
      "text/plain": [
       "<Figure size 432x288 with 1 Axes>"
      ]
     },
     "metadata": {
      "needs_background": "light"
     },
     "output_type": "display_data"
    },
    {
     "name": "stdout",
     "output_type": "stream",
     "text": [
      "Description of Top10perc\n",
      "----------------------------------------------------------------------------\n",
      "count    777.000000\n",
      "mean      27.558559\n",
      "std       17.640364\n",
      "min        1.000000\n",
      "25%       15.000000\n",
      "50%       23.000000\n",
      "75%       35.000000\n",
      "max       96.000000\n",
      "Name: Top10perc, dtype: float64 Distribution of Top10perc\n",
      "----------------------------------------------------------------------------\n"
     ]
    },
    {
     "name": "stderr",
     "output_type": "stream",
     "text": [
      "C:\\Users\\Tejas\\anaconda3\\lib\\site-packages\\seaborn\\distributions.py:2551: FutureWarning: `distplot` is a deprecated function and will be removed in a future version. Please adapt your code to use either `displot` (a figure-level function with similar flexibility) or `histplot` (an axes-level function for histograms).\n",
      "  warnings.warn(msg, FutureWarning)\n"
     ]
    },
    {
     "data": {
      "image/png": "[encoded data removed]",
      "text/plain": [
       "<Figure size 432x288 with 1 Axes>"
      ]
     },
     "metadata": {
      "needs_background": "light"
     },
     "output_type": "display_data"
    },
    {
     "name": "stdout",
     "output_type": "stream",
     "text": [
      "BoxPlot of Top10perc\n",
      "----------------------------------------------------------------------------\n"
     ]
    },
    {
     "data": {
      "image/png": "[encoded data removed]",
      "text/plain": [
       "<Figure size 432x288 with 1 Axes>"
      ]
     },
     "metadata": {
      "needs_background": "light"
     },
     "output_type": "display_data"
    },
    {
     "name": "stdout",
     "output_type": "stream",
     "text": [
      "Description of Top25perc\n",
      "----------------------------------------------------------------------------\n",
      "count    777.000000\n",
      "mean      55.796654\n",
      "std       19.804778\n",
      "min        9.000000\n",
      "25%       41.000000\n",
      "50%       54.000000\n",
      "75%       69.000000\n",
      "max      100.000000\n",
      "Name: Top25perc, dtype: float64 Distribution of Top25perc\n",
      "----------------------------------------------------------------------------\n"
     ]
    },
    {
     "name": "stderr",
     "output_type": "stream",
     "text": [
      "C:\\Users\\Tejas\\anaconda3\\lib\\site-packages\\seaborn\\distributions.py:2551: FutureWarning: `distplot` is a deprecated function and will be removed in a future version. Please adapt your code to use either `displot` (a figure-level function with similar flexibility) or `histplot` (an axes-level function for histograms).\n",
      "  warnings.warn(msg, FutureWarning)\n"
     ]
    },
    {
     "data": {
      "image/png": "[encoded data removed]",
      "text/plain": [
       "<Figure size 432x288 with 1 Axes>"
      ]
     },
     "metadata": {
      "needs_background": "light"
     },
     "output_type": "display_data"
    },
    {
     "name": "stdout",
     "output_type": "stream",
     "text": [
      "BoxPlot of Top25perc\n",
      "----------------------------------------------------------------------------\n"
     ]
    },
    {
     "data": {
      "image/png": "[encoded data removed]",
      "text/plain": [
       "<Figure size 432x288 with 1 Axes>"
      ]
     },
     "metadata": {
      "needs_background": "light"
     },
     "output_type": "display_data"
    },
    {
     "name": "stdout",
     "output_type": "stream",
     "text": [
      "Description of F.Undergrad\n",
      "----------------------------------------------------------------------------\n",
      "count      777.000000\n",
      "mean      3699.907336\n",
      "std       4850.420531\n",
      "min        139.000000\n",
      "25%        992.000000\n",
      "50%       1707.000000\n",
      "75%       4005.000000\n",
      "max      31643.000000\n",
      "Name: F.Undergrad, dtype: float64 Distribution of F.Undergrad\n",
      "----------------------------------------------------------------------------\n"
     ]
    },
    {
     "name": "stderr",
     "output_type": "stream",
     "text": [
      "C:\\Users\\Tejas\\anaconda3\\lib\\site-packages\\seaborn\\distributions.py:2551: FutureWarning: `distplot` is a deprecated function and will be removed in a future version. Please adapt your code to use either `displot` (a figure-level function with similar flexibility) or `histplot` (an axes-level function for histograms).\n",
      "  warnings.warn(msg, FutureWarning)\n"
     ]
    },
    {
     "data": {
      "image/png": "[encoded data removed]",
      "text/plain": [
       "<Figure size 432x288 with 1 Axes>"
      ]
     },
     "metadata": {
      "needs_background": "light"
     },
     "output_type": "display_data"
    },
    {
     "name": "stdout",
     "output_type": "stream",
     "text": [
      "BoxPlot of F.Undergrad\n",
      "----------------------------------------------------------------------------\n"
     ]
    },
    {
     "data": {
      "image/png": "[encoded data removed]",
      "text/plain": [
       "<Figure size 432x288 with 1 Axes>"
      ]
     },
     "metadata": {
      "needs_background": "light"
     },
     "output_type": "display_data"
    },
    {
     "name": "stdout",
     "output_type": "stream",
     "text": [
      "Description of P.Undergrad\n",
      "----------------------------------------------------------------------------\n",
      "count      777.000000\n",
      "mean       855.298584\n",
      "std       1522.431887\n",
      "min          1.000000\n",
      "25%         95.000000\n",
      "50%        353.000000\n",
      "75%        967.000000\n",
      "max      21836.000000\n",
      "Name: P.Undergrad, dtype: float64 Distribution of P.Undergrad\n",
      "----------------------------------------------------------------------------\n"
     ]
    },
    {
     "name": "stderr",
     "output_type": "stream",
     "text": [
      "C:\\Users\\Tejas\\anaconda3\\lib\\site-packages\\seaborn\\distributions.py:2551: FutureWarning: `distplot` is a deprecated function and will be removed in a future version. Please adapt your code to use either `displot` (a figure-level function with similar flexibility) or `histplot` (an axes-level function for histograms).\n",
      "  warnings.warn(msg, FutureWarning)\n"
     ]
    },
    {
     "data": {
      "image/png": "[encoded data removed]",
      "text/plain": [
       "<Figure size 432x288 with 1 Axes>"
      ]
     },
     "metadata": {
      "needs_background": "light"
     },
     "output_type": "display_data"
    },
    {
     "name": "stdout",
     "output_type": "stream",
     "text": [
      "BoxPlot of P.Undergrad\n",
      "----------------------------------------------------------------------------\n"
     ]
    },
    {
     "data": {
      "image/png": "[encoded data removed]",
      "text/plain": [
       "<Figure size 432x288 with 1 Axes>"
      ]
     },
     "metadata": {
      "needs_background": "light"
     },
     "output_type": "display_data"
    },
    {
     "name": "stdout",
     "output_type": "stream",
     "text": [
      "Description of Outstate\n",
      "----------------------------------------------------------------------------\n",
      "count      777.000000\n",
      "mean     10440.669241\n",
      "std       4023.016484\n",
      "min       2340.000000\n",
      "25%       7320.000000\n",
      "50%       9990.000000\n",
      "75%      12925.000000\n",
      "max      21700.000000\n",
      "Name: Outstate, dtype: float64 Distribution of Outstate\n",
      "----------------------------------------------------------------------------\n"
     ]
    },
    {
     "name": "stderr",
     "output_type": "stream",
     "text": [
      "C:\\Users\\Tejas\\anaconda3\\lib\\site-packages\\seaborn\\distributions.py:2551: FutureWarning: `distplot` is a deprecated function and will be removed in a future version. Please adapt your code to use either `displot` (a figure-level function with similar flexibility) or `histplot` (an axes-level function for histograms).\n",
      "  warnings.warn(msg, FutureWarning)\n"
     ]
    },
    {
     "data": {
      "image/png": "[encoded data removed]",
      "text/plain": [
       "<Figure size 432x288 with 1 Axes>"
      ]
     },
     "metadata": {
      "needs_background": "light"
     },
     "output_type": "display_data"
    },
    {
     "name": "stdout",
     "output_type": "stream",
     "text": [
      "BoxPlot of Outstate\n",
      "----------------------------------------------------------------------------\n"
     ]
    },
    {
     "data": {
      "image/png": "[encoded data removed]",
      "text/plain": [
       "<Figure size 432x288 with 1 Axes>"
      ]
     },
     "metadata": {
      "needs_background": "light"
     },
     "output_type": "display_data"
    },
    {
     "name": "stdout",
     "output_type": "stream",
     "text": [
      "Description of Room.Board\n",
      "----------------------------------------------------------------------------\n",
      "count     777.000000\n",
      "mean     4357.526384\n",
      "std      1096.696416\n",
      "min      1780.000000\n",
      "25%      3597.000000\n",
      "50%      4200.000000\n",
      "75%      5050.000000\n",
      "max      8124.000000\n",
      "Name: Room.Board, dtype: float64 Distribution of Room.Board\n",
      "----------------------------------------------------------------------------\n"
     ]
    },
    {
     "name": "stderr",
     "output_type": "stream",
     "text": [
      "C:\\Users\\Tejas\\anaconda3\\lib\\site-packages\\seaborn\\distributions.py:2551: FutureWarning: `distplot` is a deprecated function and will be removed in a future version. Please adapt your code to use either `displot` (a figure-level function with similar flexibility) or `histplot` (an axes-level function for histograms).\n",
      "  warnings.warn(msg, FutureWarning)\n"
     ]
    },
    {
     "data": {
      "image/png": "[encoded data removed]",
      "text/plain": [
       "<Figure size 432x288 with 1 Axes>"
      ]
     },
     "metadata": {
      "needs_background": "light"
     },
     "output_type": "display_data"
    },
    {
     "name": "stdout",
     "output_type": "stream",
     "text": [
      "BoxPlot of Room.Board\n",
      "----------------------------------------------------------------------------\n"
     ]
    },
    {
     "data": {
      "image/png": "[encoded data removed]",
      "text/plain": [
       "<Figure size 432x288 with 1 Axes>"
      ]
     },
     "metadata": {
      "needs_background": "light"
     },
     "output_type": "display_data"
    },
    {
     "name": "stdout",
     "output_type": "stream",
     "text": [
      "Description of Books\n",
      "----------------------------------------------------------------------------\n",
      "count     777.000000\n",
      "mean      549.380952\n",
      "std       165.105360\n",
      "min        96.000000\n",
      "25%       470.000000\n",
      "50%       500.000000\n",
      "75%       600.000000\n",
      "max      2340.000000\n",
      "Name: Books, dtype: float64 Distribution of Books\n",
      "----------------------------------------------------------------------------\n"
     ]
    },
    {
     "name": "stderr",
     "output_type": "stream",
     "text": [
      "C:\\Users\\Tejas\\anaconda3\\lib\\site-packages\\seaborn\\distributions.py:2551: FutureWarning: `distplot` is a deprecated function and will be removed in a future version. Please adapt your code to use either `displot` (a figure-level function with similar flexibility) or `histplot` (an axes-level function for histograms).\n",
      "  warnings.warn(msg, FutureWarning)\n"
     ]
    },
    {
     "data": {
      "image/png": "[encoded data removed]",
      "text/plain": [
       "<Figure size 432x288 with 1 Axes>"
      ]
     },
     "metadata": {
      "needs_background": "light"
     },
     "output_type": "display_data"
    },
    {
     "name": "stdout",
     "output_type": "stream",
     "text": [
      "BoxPlot of Books\n",
      "----------------------------------------------------------------------------\n"
     ]
    },
    {
     "data": {
      "image/png": "[encoded data removed]",
      "text/plain": [
       "<Figure size 432x288 with 1 Axes>"
      ]
     },
     "metadata": {
      "needs_background": "light"
     },
     "output_type": "display_data"
    },
    {
     "name": "stdout",
     "output_type": "stream",
     "text": [
      "Description of Personal\n",
      "----------------------------------------------------------------------------\n",
      "count     777.000000\n",
      "mean     1340.642214\n",
      "std       677.071454\n",
      "min       250.000000\n",
      "25%       850.000000\n",
      "50%      1200.000000\n",
      "75%      1700.000000\n",
      "max      6800.000000\n",
      "Name: Personal, dtype: float64 Distribution of Personal\n",
      "----------------------------------------------------------------------------\n"
     ]
    },
    {
     "name": "stderr",
     "output_type": "stream",
     "text": [
      "C:\\Users\\Tejas\\anaconda3\\lib\\site-packages\\seaborn\\distributions.py:2551: FutureWarning: `distplot` is a deprecated function and will be removed in a future version. Please adapt your code to use either `displot` (a figure-level function with similar flexibility) or `histplot` (an axes-level function for histograms).\n",
      "  warnings.warn(msg, FutureWarning)\n"
     ]
    },
    {
     "data": {
      "image/png": "[encoded data removed]",
      "text/plain": [
       "<Figure size 432x288 with 1 Axes>"
      ]
     },
     "metadata": {
      "needs_background": "light"
     },
     "output_type": "display_data"
    },
    {
     "name": "stdout",
     "output_type": "stream",
     "text": [
      "BoxPlot of Personal\n",
      "----------------------------------------------------------------------------\n"
     ]
    },
    {
     "data": {
      "image/png": "[encoded data removed]",
      "text/plain": [
       "<Figure size 432x288 with 1 Axes>"
      ]
     },
     "metadata": {
      "needs_background": "light"
     },
     "output_type": "display_data"
    },
    {
     "name": "stdout",
     "output_type": "stream",
     "text": [
      "Description of PhD\n",
      "----------------------------------------------------------------------------\n",
      "count    777.000000\n",
      "mean      72.624196\n",
      "std       16.291967\n",
      "min        8.000000\n",
      "25%       62.000000\n",
      "50%       75.000000\n",
      "75%       85.000000\n",
      "max      100.000000\n",
      "Name: PhD, dtype: float64 Distribution of PhD\n",
      "----------------------------------------------------------------------------\n"
     ]
    },
    {
     "name": "stderr",
     "output_type": "stream",
     "text": [
      "C:\\Users\\Tejas\\anaconda3\\lib\\site-packages\\seaborn\\distributions.py:2551: FutureWarning: `distplot` is a deprecated function and will be removed in a future version. Please adapt your code to use either `displot` (a figure-level function with similar flexibility) or `histplot` (an axes-level function for histograms).\n",
      "  warnings.warn(msg, FutureWarning)\n"
     ]
    },
    {
     "data": {
      "image/png": "[encoded data removed]",
      "text/plain": [
       "<Figure size 432x288 with 1 Axes>"
      ]
     },
     "metadata": {
      "needs_background": "light"
     },
     "output_type": "display_data"
    },
    {
     "name": "stdout",
     "output_type": "stream",
     "text": [
      "BoxPlot of PhD\n",
      "----------------------------------------------------------------------------\n"
     ]
    },
    {
     "data": {
      "image/png": "[encoded data removed]",
      "text/plain": [
       "<Figure size 432x288 with 1 Axes>"
      ]
     },
     "metadata": {
      "needs_background": "light"
     },
     "output_type": "display_data"
    },
    {
     "name": "stdout",
     "output_type": "stream",
     "text": [
      "Description of Terminal\n",
      "----------------------------------------------------------------------------\n",
      "count    777.000000\n",
      "mean      79.702703\n",
      "std       14.722359\n",
      "min       24.000000\n",
      "25%       71.000000\n",
      "50%       82.000000\n",
      "75%       92.000000\n",
      "max      100.000000\n",
      "Name: Terminal, dtype: float64 Distribution of Terminal\n",
      "----------------------------------------------------------------------------\n"
     ]
    },
    {
     "name": "stderr",
     "output_type": "stream",
     "text": [
      "C:\\Users\\Tejas\\anaconda3\\lib\\site-packages\\seaborn\\distributions.py:2551: FutureWarning: `distplot` is a deprecated function and will be removed in a future version. Please adapt your code to use either `displot` (a figure-level function with similar flexibility) or `histplot` (an axes-level function for histograms).\n",
      "  warnings.warn(msg, FutureWarning)\n"
     ]
    },
    {
     "data": {
      "image/png": "[encoded data removed]",
      "text/plain": [
       "<Figure size 432x288 with 1 Axes>"
      ]
     },
     "metadata": {
      "needs_background": "light"
     },
     "output_type": "display_data"
    },
    {
     "name": "stdout",
     "output_type": "stream",
     "text": [
      "BoxPlot of Terminal\n",
      "----------------------------------------------------------------------------\n"
     ]
    },
    {
     "data": {
      "image/png": "[encoded data removed]",
      "text/plain": [
       "<Figure size 432x288 with 1 Axes>"
      ]
     },
     "metadata": {
      "needs_background": "light"
     },
     "output_type": "display_data"
    },
    {
     "name": "stdout",
     "output_type": "stream",
     "text": [
      "Description of S.F.Ratio\n",
      "----------------------------------------------------------------------------\n",
      "count    777.000000\n",
      "mean      14.089704\n",
      "std        3.958349\n",
      "min        2.500000\n",
      "25%       11.500000\n",
      "50%       13.600000\n",
      "75%       16.500000\n",
      "max       39.800000\n",
      "Name: S.F.Ratio, dtype: float64 Distribution of S.F.Ratio\n",
      "----------------------------------------------------------------------------\n"
     ]
    },
    {
     "name": "stderr",
     "output_type": "stream",
     "text": [
      "C:\\Users\\Tejas\\anaconda3\\lib\\site-packages\\seaborn\\distributions.py:2551: FutureWarning: `distplot` is a deprecated function and will be removed in a future version. Please adapt your code to use either `displot` (a figure-level function with similar flexibility) or `histplot` (an axes-level function for histograms).\n",
      "  warnings.warn(msg, FutureWarning)\n"
     ]
    },
    {
     "data": {
      "image/png": "[encoded data removed]",
      "text/plain": [
       "<Figure size 432x288 with 1 Axes>"
      ]
     },
     "metadata": {
      "needs_background": "light"
     },
     "output_type": "display_data"
    },
    {
     "name": "stdout",
     "output_type": "stream",
     "text": [
      "BoxPlot of S.F.Ratio\n",
      "----------------------------------------------------------------------------\n"
     ]
    },
    {
     "data": {
      "image/png": "[encoded data removed]",
      "text/plain": [
       "<Figure size 432x288 with 1 Axes>"
      ]
     },
     "metadata": {
      "needs_background": "light"
     },
     "output_type": "display_data"
    },
    {
     "name": "stdout",
     "output_type": "stream",
     "text": [
      "Description of perc.alumni\n",
      "----------------------------------------------------------------------------\n",
      "count    777.000000\n",
      "mean      22.743887\n",
      "std       12.391801\n",
      "min        0.000000\n",
      "25%       13.000000\n",
      "50%       21.000000\n",
      "75%       31.000000\n",
      "max       64.000000\n",
      "Name: perc.alumni, dtype: float64 Distribution of perc.alumni\n",
      "----------------------------------------------------------------------------\n"
     ]
    },
    {
     "name": "stderr",
     "output_type": "stream",
     "text": [
      "C:\\Users\\Tejas\\anaconda3\\lib\\site-packages\\seaborn\\distributions.py:2551: FutureWarning: `distplot` is a deprecated function and will be removed in a future version. Please adapt your code to use either `displot` (a figure-level function with similar flexibility) or `histplot` (an axes-level function for histograms).\n",
      "  warnings.warn(msg, FutureWarning)\n"
     ]
    },
    {
     "data": {
      "image/png": "[encoded data removed]",
      "text/plain": [
       "<Figure size 432x288 with 1 Axes>"
      ]
     },
     "metadata": {
      "needs_background": "light"
     },
     "output_type": "display_data"
    },
    {
     "name": "stdout",
     "output_type": "stream",
     "text": [
      "BoxPlot of perc.alumni\n",
      "----------------------------------------------------------------------------\n"
     ]
    },
    {
     "data": {
      "image/png": "[encoded data removed]",
      "text/plain": [
       "<Figure size 432x288 with 1 Axes>"
      ]
     },
     "metadata": {
      "needs_background": "light"
     },
     "output_type": "display_data"
    },
    {
     "name": "stdout",
     "output_type": "stream",
     "text": [
      "Description of Expend\n",
      "----------------------------------------------------------------------------\n",
      "count      777.000000\n",
      "mean      9660.171171\n",
      "std       5221.768440\n",
      "min       3186.000000\n",
      "25%       6751.000000\n",
      "50%       8377.000000\n",
      "75%      10830.000000\n",
      "max      56233.000000\n",
      "Name: Expend, dtype: float64 Distribution of Expend\n",
      "----------------------------------------------------------------------------\n"
     ]
    },
    {
     "name": "stderr",
     "output_type": "stream",
     "text": [
      "C:\\Users\\Tejas\\anaconda3\\lib\\site-packages\\seaborn\\distributions.py:2551: FutureWarning: `distplot` is a deprecated function and will be removed in a future version. Please adapt your code to use either `displot` (a figure-level function with similar flexibility) or `histplot` (an axes-level function for histograms).\n",
      "  warnings.warn(msg, FutureWarning)\n"
     ]
    },
    {
     "data": {
      "image/png": "[encoded data removed]",
      "text/plain": [
       "<Figure size 432x288 with 1 Axes>"
      ]
     },
     "metadata": {
      "needs_background": "light"
     },
     "output_type": "display_data"
    },
    {
     "name": "stdout",
     "output_type": "stream",
     "text": [
      "BoxPlot of Expend\n",
      "----------------------------------------------------------------------------\n"
     ]
    },
    {
     "data": {
      "image/png": "[encoded data removed]",
      "text/plain": [
       "<Figure size 432x288 with 1 Axes>"
      ]
     },
     "metadata": {
      "needs_background": "light"
     },
     "output_type": "display_data"
    },
    {
     "name": "stdout",
     "output_type": "stream",
     "text": [
      "Description of Grad.Rate\n",
      "----------------------------------------------------------------------------\n",
      "count    777.000000\n",
      "mean      65.395109\n",
      "std       17.073737\n",
      "min       10.000000\n",
      "25%       53.000000\n",
      "50%       65.000000\n",
      "75%       78.000000\n",
      "max      100.000000\n",
      "Name: Grad.Rate, dtype: float64 Distribution of Grad.Rate\n",
      "----------------------------------------------------------------------------\n"
     ]
    },
    {
     "name": "stderr",
     "output_type": "stream",
     "text": [
      "C:\\Users\\Tejas\\anaconda3\\lib\\site-packages\\seaborn\\distributions.py:2551: FutureWarning: `distplot` is a deprecated function and will be removed in a future version. Please adapt your code to use either `displot` (a figure-level function with similar flexibility) or `histplot` (an axes-level function for histograms).\n",
      "  warnings.warn(msg, FutureWarning)\n"
     ]
    },
    {
     "data": {
      "image/png": "[encoded data removed]",
      "text/plain": [
       "<Figure size 432x288 with 1 Axes>"
      ]
     },
     "metadata": {
      "needs_background": "light"
     },
     "output_type": "display_data"
    },
    {
     "name": "stdout",
     "output_type": "stream",
     "text": [
      "BoxPlot of Grad.Rate\n",
      "----------------------------------------------------------------------------\n"
     ]
    },
    {
     "data": {
      "image/png": "[encoded data removed]",
      "text/plain": [
       "<Figure size 432x288 with 1 Axes>"
      ]
     },
     "metadata": {
      "needs_background": "light"
     },
     "output_type": "display_data"
    }
   ],
   "source": [
    "for x in lstnumericcolumns:\n",
    "    univariateAnalysis_numeric(x,20)"
   ]
  },
  {
   "cell_type": "markdown",
   "metadata": {},
   "source": [
    "**Observations of Univariate Analysis**\n",
    "\n",
    "Avg of 3001 application were received whereas Avg applications accepted stands at 2019 with the highest being 26330.\n",
    "\n",
    "Avg of F.Undergrad were 3700 whereas Avg P.Undergrad were 855 and Avg Outstate was highest at 10440.\n",
    "\n",
    "Mean and Median for Room Board per student are almost similar reflecting similar charges being imposed by almost 50% of the universities whereas Mean and Median for Book Costs per student is similar for 75% of the universities.\n",
    "\n",
    "Personal expenses for most of the students ranges from 250 to 3000.\n",
    "\n",
    "A minimum of 8% faculty members have a PhD qualification and min 24% have terminal degrees across all universities. \n",
    "\n",
    "The Avg student/Faculty ratio is 14 which is similar to the student/faculty ratio for 50% of the universities.\n",
    "\n",
    "9660 is the Avg instructional expenditure per student which is very close to 10830 which is the instruction expenditure per student for 75% of the universities.\n",
    "\n",
    "Maximum data across most continuous variables lies above IQR 3 with exceptions of Phd & Terminal.\n",
    "\n",
    "All variables have outliers except for Top25perc (Percentage of new students from top 25% of Higher Secondary class). However, we are not trating the outliers in this case. \n",
    "\n",
    "Both Right and Left Skewness is present in the variables as well as a few are normally distributed. \n"
   ]
  },
  {
   "cell_type": "markdown",
   "metadata": {},
   "source": [
    "\n",
    "**Multivariate Analysis**"
   ]
  },
  {
   "cell_type": "code",
   "execution_count": 19,
   "metadata": {},
   "outputs": [
    {
     "data": {
      "image/png": "[encoded data removed]",
      "text/plain": [
       "<Figure size 864x504 with 2 Axes>"
      ]
     },
     "metadata": {
      "needs_background": "light"
     },
     "output_type": "display_data"
    }
   ],
   "source": [
    "plt.figure(figsize=(12,7))\n",
    "sns.heatmap(df_num.corr(), annot=True, fmt='.2f', cmap='Blues')\n",
    "plt.show()"
   ]
  },
  {
   "cell_type": "markdown",
   "metadata": {},
   "source": [
    "**Observations of Multivariate Analysis**\n",
    "\n",
    "There are both positive and negative correlations in the data. \n",
    "\n",
    "'Apps', 'Accept', 'Enroll' & \"F.Undergrad\" are highly correlated with each other.\n",
    "\n",
    "'P.Undergrad', 'Books', 'PhD', 'Terminal', 'S.F.Ratio', 'perc.alumni','Expend', 'Grad.rate' does not have much higher or lower correlation with most fields in the data.\n",
    "\n",
    "'Top10perc' has high correlation with 'Top25perc'.\n",
    "\n",
    "'Outstate' has positive correlation with 'Room.Board' and 'Expend\".\n",
    "\n",
    "'S.F.Ratio' has the lowest correlation with 'perc.alumni'.\n",
    "\n",
    "'PhD' and \"Terminal\" have high correlation.\n",
    "\n",
    "There is interdependency observed between some of the variables observed which gives room for PCA."
   ]
  },
  {
   "cell_type": "markdown",
   "metadata": {},
   "source": [
    "## 2.2 Is scaling necessary for PCA in this case? Give justification and perform scaling."
   ]
  },
  {
   "cell_type": "markdown",
   "metadata": {},
   "source": [
    "**Yes, scaling is necessary for PCA in this case. We need to scale data as the scale of measurements used across the provided variables is not standard and varies according to set of variables. While, the scale of measurements are provided in level of percentage terms for some variables such as 'Top10perc', 'Top25perc', 'PhD', 'Terminal' and 'perc.alumni' for some it is denoted in amount spend for certain items such as 'Room.Board', 'Books', 'Personal' and 'Expend' or in ratios such as 'S.F.Ratio' and 'Grad.Rate'and for rest of the variables it is in plain figures such as 'Apps', 'Accept', 'Enroll', 'F.Undergrad', 'P.Undergrad'and 'Outstate'. As in this case, we choose not to remove any variable componenets from the given dataset to perform the PCA, it is essential that we scale the data**"
   ]
  },
  {
   "cell_type": "code",
   "execution_count": 23,
   "metadata": {},
   "outputs": [
    {
     "data": {
      "text/html": [
       "<div>\n",
       "<style scoped>\n",
       "    .dataframe tbody tr th:only-of-type {\n",
       "        vertical-align: middle;\n",
       "    }\n",
       "\n",
       "    .dataframe tbody tr th {\n",
       "        vertical-align: top;\n",
       "    }\n",
       "\n",
       "    .dataframe thead th {\n",
       "        text-align: right;\n",
       "    }\n",
       "</style>\n",
       "<table border=\"1\" class=\"dataframe\">\n",
       "  <thead>\n",
       "    <tr style=\"text-align: right;\">\n",
       "      <th></th>\n",
       "      <th>Apps</th>\n",
       "      <th>Accept</th>\n",
       "      <th>Enroll</th>\n",
       "      <th>Top10perc</th>\n",
       "      <th>Top25perc</th>\n",
       "      <th>F.Undergrad</th>\n",
       "      <th>P.Undergrad</th>\n",
       "      <th>Outstate</th>\n",
       "      <th>Room.Board</th>\n",
       "      <th>Books</th>\n",
       "      <th>Personal</th>\n",
       "      <th>PhD</th>\n",
       "      <th>Terminal</th>\n",
       "      <th>S.F.Ratio</th>\n",
       "      <th>perc.alumni</th>\n",
       "      <th>Expend</th>\n",
       "      <th>Grad.Rate</th>\n",
       "    </tr>\n",
       "  </thead>\n",
       "  <tbody>\n",
       "    <tr>\n",
       "      <th>0</th>\n",
       "      <td>-0.346882</td>\n",
       "      <td>-0.321205</td>\n",
       "      <td>-0.063509</td>\n",
       "      <td>-0.258583</td>\n",
       "      <td>-0.191827</td>\n",
       "      <td>-0.168116</td>\n",
       "      <td>-0.209207</td>\n",
       "      <td>-0.746356</td>\n",
       "      <td>-0.964905</td>\n",
       "      <td>-0.602312</td>\n",
       "      <td>1.270045</td>\n",
       "      <td>-0.161177</td>\n",
       "      <td>-0.115729</td>\n",
       "      <td>1.013776</td>\n",
       "      <td>-0.867574</td>\n",
       "      <td>-0.501910</td>\n",
       "      <td>-0.316192</td>\n",
       "    </tr>\n",
       "    <tr>\n",
       "      <th>1</th>\n",
       "      <td>-0.210884</td>\n",
       "      <td>-0.038703</td>\n",
       "      <td>-0.288584</td>\n",
       "      <td>-0.655656</td>\n",
       "      <td>-1.353911</td>\n",
       "      <td>-0.209788</td>\n",
       "      <td>0.244307</td>\n",
       "      <td>0.457496</td>\n",
       "      <td>1.909208</td>\n",
       "      <td>1.215880</td>\n",
       "      <td>0.235515</td>\n",
       "      <td>-2.679375</td>\n",
       "      <td>-3.378176</td>\n",
       "      <td>-0.477704</td>\n",
       "      <td>-0.544572</td>\n",
       "      <td>0.166110</td>\n",
       "      <td>-0.550621</td>\n",
       "    </tr>\n",
       "    <tr>\n",
       "      <th>2</th>\n",
       "      <td>-0.406866</td>\n",
       "      <td>-0.376318</td>\n",
       "      <td>-0.478121</td>\n",
       "      <td>-0.315307</td>\n",
       "      <td>-0.292878</td>\n",
       "      <td>-0.549565</td>\n",
       "      <td>-0.497090</td>\n",
       "      <td>0.201305</td>\n",
       "      <td>-0.554317</td>\n",
       "      <td>-0.905344</td>\n",
       "      <td>-0.259582</td>\n",
       "      <td>-1.205308</td>\n",
       "      <td>-0.931341</td>\n",
       "      <td>-0.300749</td>\n",
       "      <td>0.585935</td>\n",
       "      <td>-0.177290</td>\n",
       "      <td>-0.667836</td>\n",
       "    </tr>\n",
       "    <tr>\n",
       "      <th>3</th>\n",
       "      <td>-0.668261</td>\n",
       "      <td>-0.681682</td>\n",
       "      <td>-0.692427</td>\n",
       "      <td>1.840231</td>\n",
       "      <td>1.677612</td>\n",
       "      <td>-0.658079</td>\n",
       "      <td>-0.520752</td>\n",
       "      <td>0.626633</td>\n",
       "      <td>0.996791</td>\n",
       "      <td>-0.602312</td>\n",
       "      <td>-0.688173</td>\n",
       "      <td>1.190052</td>\n",
       "      <td>1.175657</td>\n",
       "      <td>-1.615274</td>\n",
       "      <td>1.151188</td>\n",
       "      <td>1.792851</td>\n",
       "      <td>-0.374800</td>\n",
       "    </tr>\n",
       "    <tr>\n",
       "      <th>4</th>\n",
       "      <td>-0.726176</td>\n",
       "      <td>-0.764555</td>\n",
       "      <td>-0.780735</td>\n",
       "      <td>-0.655656</td>\n",
       "      <td>-0.596031</td>\n",
       "      <td>-0.711924</td>\n",
       "      <td>0.009005</td>\n",
       "      <td>-0.716508</td>\n",
       "      <td>-0.216723</td>\n",
       "      <td>1.518912</td>\n",
       "      <td>0.235515</td>\n",
       "      <td>0.207340</td>\n",
       "      <td>-0.523535</td>\n",
       "      <td>-0.553542</td>\n",
       "      <td>-1.675079</td>\n",
       "      <td>0.241803</td>\n",
       "      <td>-2.953517</td>\n",
       "    </tr>\n",
       "  </tbody>\n",
       "</table>\n",
       "</div>"
      ],
      "text/plain": [
       "       Apps    Accept    Enroll  Top10perc  Top25perc  F.Undergrad  \\\n",
       "0 -0.346882 -0.321205 -0.063509  -0.258583  -0.191827    -0.168116   \n",
       "1 -0.210884 -0.038703 -0.288584  -0.655656  -1.353911    -0.209788   \n",
       "2 -0.406866 -0.376318 -0.478121  -0.315307  -0.292878    -0.549565   \n",
       "3 -0.668261 -0.681682 -0.692427   1.840231   1.677612    -0.658079   \n",
       "4 -0.726176 -0.764555 -0.780735  -0.655656  -0.596031    -0.711924   \n",
       "\n",
       "   P.Undergrad  Outstate  Room.Board     Books  Personal       PhD  Terminal  \\\n",
       "0    -0.209207 -0.746356   -0.964905 -0.602312  1.270045 -0.161177 -0.115729   \n",
       "1     0.244307  0.457496    1.909208  1.215880  0.235515 -2.679375 -3.378176   \n",
       "2    -0.497090  0.201305   -0.554317 -0.905344 -0.259582 -1.205308 -0.931341   \n",
       "3    -0.520752  0.626633    0.996791 -0.602312 -0.688173  1.190052  1.175657   \n",
       "4     0.009005 -0.716508   -0.216723  1.518912  0.235515  0.207340 -0.523535   \n",
       "\n",
       "   S.F.Ratio  perc.alumni    Expend  Grad.Rate  \n",
       "0   1.013776    -0.867574 -0.501910  -0.316192  \n",
       "1  -0.477704    -0.544572  0.166110  -0.550621  \n",
       "2  -0.300749     0.585935 -0.177290  -0.667836  \n",
       "3  -1.615274     1.151188  1.792851  -0.374800  \n",
       "4  -0.553542    -1.675079  0.241803  -2.953517  "
      ]
     },
     "execution_count": 23,
     "metadata": {},
     "output_type": "execute_result"
    }
   ],
   "source": [
    "df_num_scaled = df_num.apply(zscore)\n",
    "df_num_scaled.head()"
   ]
  },
  {
   "cell_type": "markdown",
   "metadata": {},
   "source": [
    "## 2.3 Comment on the comparison between the covariance and the correlation matrices from this data."
   ]
  },
  {
   "cell_type": "code",
   "execution_count": 24,
   "metadata": {},
   "outputs": [
    {
     "data": {
      "text/html": [
       "<div>\n",
       "<style scoped>\n",
       "    .dataframe tbody tr th:only-of-type {\n",
       "        vertical-align: middle;\n",
       "    }\n",
       "\n",
       "    .dataframe tbody tr th {\n",
       "        vertical-align: top;\n",
       "    }\n",
       "\n",
       "    .dataframe thead th {\n",
       "        text-align: right;\n",
       "    }\n",
       "</style>\n",
       "<table border=\"1\" class=\"dataframe\">\n",
       "  <thead>\n",
       "    <tr style=\"text-align: right;\">\n",
       "      <th></th>\n",
       "      <th>Apps</th>\n",
       "      <th>Accept</th>\n",
       "      <th>Enroll</th>\n",
       "      <th>Top10perc</th>\n",
       "      <th>Top25perc</th>\n",
       "      <th>F.Undergrad</th>\n",
       "      <th>P.Undergrad</th>\n",
       "      <th>Outstate</th>\n",
       "      <th>Room.Board</th>\n",
       "      <th>Books</th>\n",
       "      <th>Personal</th>\n",
       "      <th>PhD</th>\n",
       "      <th>Terminal</th>\n",
       "      <th>S.F.Ratio</th>\n",
       "      <th>perc.alumni</th>\n",
       "      <th>Expend</th>\n",
       "      <th>Grad.Rate</th>\n",
       "    </tr>\n",
       "  </thead>\n",
       "  <tbody>\n",
       "    <tr>\n",
       "      <th>Apps</th>\n",
       "      <td>1.000000</td>\n",
       "      <td>0.943451</td>\n",
       "      <td>0.846822</td>\n",
       "      <td>0.338834</td>\n",
       "      <td>0.351640</td>\n",
       "      <td>0.814491</td>\n",
       "      <td>0.398264</td>\n",
       "      <td>0.050159</td>\n",
       "      <td>0.164939</td>\n",
       "      <td>0.132559</td>\n",
       "      <td>0.178731</td>\n",
       "      <td>0.392980</td>\n",
       "      <td>0.369491</td>\n",
       "      <td>0.095633</td>\n",
       "      <td>-0.090226</td>\n",
       "      <td>0.259592</td>\n",
       "      <td>0.146775</td>\n",
       "    </tr>\n",
       "    <tr>\n",
       "      <th>Accept</th>\n",
       "      <td>0.943451</td>\n",
       "      <td>1.000000</td>\n",
       "      <td>0.911637</td>\n",
       "      <td>0.192447</td>\n",
       "      <td>0.247476</td>\n",
       "      <td>0.874223</td>\n",
       "      <td>0.441271</td>\n",
       "      <td>-0.025755</td>\n",
       "      <td>0.090899</td>\n",
       "      <td>0.113525</td>\n",
       "      <td>0.200989</td>\n",
       "      <td>0.357938</td>\n",
       "      <td>0.337583</td>\n",
       "      <td>0.176229</td>\n",
       "      <td>-0.159990</td>\n",
       "      <td>0.124717</td>\n",
       "      <td>0.065414</td>\n",
       "    </tr>\n",
       "    <tr>\n",
       "      <th>Enroll</th>\n",
       "      <td>0.846822</td>\n",
       "      <td>0.911637</td>\n",
       "      <td>1.000000</td>\n",
       "      <td>0.181294</td>\n",
       "      <td>0.226745</td>\n",
       "      <td>0.964640</td>\n",
       "      <td>0.513069</td>\n",
       "      <td>-0.155477</td>\n",
       "      <td>-0.040232</td>\n",
       "      <td>0.112711</td>\n",
       "      <td>0.280929</td>\n",
       "      <td>0.333485</td>\n",
       "      <td>0.308274</td>\n",
       "      <td>0.237271</td>\n",
       "      <td>-0.180794</td>\n",
       "      <td>0.064169</td>\n",
       "      <td>-0.021388</td>\n",
       "    </tr>\n",
       "    <tr>\n",
       "      <th>Top10perc</th>\n",
       "      <td>0.338834</td>\n",
       "      <td>0.192447</td>\n",
       "      <td>0.181294</td>\n",
       "      <td>1.000000</td>\n",
       "      <td>0.891995</td>\n",
       "      <td>0.141289</td>\n",
       "      <td>-0.105356</td>\n",
       "      <td>0.562331</td>\n",
       "      <td>0.371480</td>\n",
       "      <td>0.118858</td>\n",
       "      <td>-0.093316</td>\n",
       "      <td>0.533707</td>\n",
       "      <td>0.491135</td>\n",
       "      <td>-0.384875</td>\n",
       "      <td>0.455485</td>\n",
       "      <td>0.660913</td>\n",
       "      <td>0.502212</td>\n",
       "    </tr>\n",
       "    <tr>\n",
       "      <th>Top25perc</th>\n",
       "      <td>0.351640</td>\n",
       "      <td>0.247476</td>\n",
       "      <td>0.226745</td>\n",
       "      <td>0.891995</td>\n",
       "      <td>1.000000</td>\n",
       "      <td>0.199445</td>\n",
       "      <td>-0.053577</td>\n",
       "      <td>0.489394</td>\n",
       "      <td>0.331490</td>\n",
       "      <td>0.115527</td>\n",
       "      <td>-0.080810</td>\n",
       "      <td>0.548058</td>\n",
       "      <td>0.524749</td>\n",
       "      <td>-0.294629</td>\n",
       "      <td>0.417864</td>\n",
       "      <td>0.527447</td>\n",
       "      <td>0.484388</td>\n",
       "    </tr>\n",
       "    <tr>\n",
       "      <th>F.Undergrad</th>\n",
       "      <td>0.814491</td>\n",
       "      <td>0.874223</td>\n",
       "      <td>0.964640</td>\n",
       "      <td>0.141289</td>\n",
       "      <td>0.199445</td>\n",
       "      <td>1.000000</td>\n",
       "      <td>0.570512</td>\n",
       "      <td>-0.215742</td>\n",
       "      <td>-0.068890</td>\n",
       "      <td>0.115550</td>\n",
       "      <td>0.317200</td>\n",
       "      <td>0.320183</td>\n",
       "      <td>0.300019</td>\n",
       "      <td>0.279703</td>\n",
       "      <td>-0.229462</td>\n",
       "      <td>0.018652</td>\n",
       "      <td>-0.077034</td>\n",
       "    </tr>\n",
       "    <tr>\n",
       "      <th>P.Undergrad</th>\n",
       "      <td>0.398264</td>\n",
       "      <td>0.441271</td>\n",
       "      <td>0.513069</td>\n",
       "      <td>-0.105356</td>\n",
       "      <td>-0.053577</td>\n",
       "      <td>0.570512</td>\n",
       "      <td>1.000000</td>\n",
       "      <td>-0.253512</td>\n",
       "      <td>-0.061326</td>\n",
       "      <td>0.081200</td>\n",
       "      <td>0.319882</td>\n",
       "      <td>0.150495</td>\n",
       "      <td>0.141904</td>\n",
       "      <td>0.232531</td>\n",
       "      <td>-0.280792</td>\n",
       "      <td>-0.083568</td>\n",
       "      <td>-0.256350</td>\n",
       "    </tr>\n",
       "    <tr>\n",
       "      <th>Outstate</th>\n",
       "      <td>0.050159</td>\n",
       "      <td>-0.025755</td>\n",
       "      <td>-0.155477</td>\n",
       "      <td>0.562331</td>\n",
       "      <td>0.489394</td>\n",
       "      <td>-0.215742</td>\n",
       "      <td>-0.253512</td>\n",
       "      <td>1.000000</td>\n",
       "      <td>0.654256</td>\n",
       "      <td>0.038855</td>\n",
       "      <td>-0.299087</td>\n",
       "      <td>0.386905</td>\n",
       "      <td>0.407983</td>\n",
       "      <td>-0.554821</td>\n",
       "      <td>0.566262</td>\n",
       "      <td>0.672779</td>\n",
       "      <td>0.575820</td>\n",
       "    </tr>\n",
       "    <tr>\n",
       "      <th>Room.Board</th>\n",
       "      <td>0.164939</td>\n",
       "      <td>0.090899</td>\n",
       "      <td>-0.040232</td>\n",
       "      <td>0.371480</td>\n",
       "      <td>0.331490</td>\n",
       "      <td>-0.068890</td>\n",
       "      <td>-0.061326</td>\n",
       "      <td>0.654256</td>\n",
       "      <td>1.000000</td>\n",
       "      <td>0.127963</td>\n",
       "      <td>-0.199428</td>\n",
       "      <td>0.332429</td>\n",
       "      <td>0.374540</td>\n",
       "      <td>-0.362628</td>\n",
       "      <td>0.272363</td>\n",
       "      <td>0.501739</td>\n",
       "      <td>0.425769</td>\n",
       "    </tr>\n",
       "    <tr>\n",
       "      <th>Books</th>\n",
       "      <td>0.132559</td>\n",
       "      <td>0.113525</td>\n",
       "      <td>0.112711</td>\n",
       "      <td>0.118858</td>\n",
       "      <td>0.115527</td>\n",
       "      <td>0.115550</td>\n",
       "      <td>0.081200</td>\n",
       "      <td>0.038855</td>\n",
       "      <td>0.127963</td>\n",
       "      <td>1.000000</td>\n",
       "      <td>0.179295</td>\n",
       "      <td>0.026286</td>\n",
       "      <td>0.099955</td>\n",
       "      <td>-0.031929</td>\n",
       "      <td>-0.040208</td>\n",
       "      <td>0.112409</td>\n",
       "      <td>-0.000159</td>\n",
       "    </tr>\n",
       "    <tr>\n",
       "      <th>Personal</th>\n",
       "      <td>0.178731</td>\n",
       "      <td>0.200989</td>\n",
       "      <td>0.280929</td>\n",
       "      <td>-0.093316</td>\n",
       "      <td>-0.080810</td>\n",
       "      <td>0.317200</td>\n",
       "      <td>0.319882</td>\n",
       "      <td>-0.299087</td>\n",
       "      <td>-0.199428</td>\n",
       "      <td>0.179295</td>\n",
       "      <td>1.000000</td>\n",
       "      <td>-0.008701</td>\n",
       "      <td>-0.030613</td>\n",
       "      <td>0.136345</td>\n",
       "      <td>-0.285968</td>\n",
       "      <td>-0.097892</td>\n",
       "      <td>-0.266018</td>\n",
       "    </tr>\n",
       "    <tr>\n",
       "      <th>PhD</th>\n",
       "      <td>0.392980</td>\n",
       "      <td>0.357938</td>\n",
       "      <td>0.333485</td>\n",
       "      <td>0.533707</td>\n",
       "      <td>0.548058</td>\n",
       "      <td>0.320183</td>\n",
       "      <td>0.150495</td>\n",
       "      <td>0.386905</td>\n",
       "      <td>0.332429</td>\n",
       "      <td>0.026286</td>\n",
       "      <td>-0.008701</td>\n",
       "      <td>1.000000</td>\n",
       "      <td>0.850226</td>\n",
       "      <td>-0.132672</td>\n",
       "      <td>0.250767</td>\n",
       "      <td>0.435099</td>\n",
       "      <td>0.322921</td>\n",
       "    </tr>\n",
       "    <tr>\n",
       "      <th>Terminal</th>\n",
       "      <td>0.369491</td>\n",
       "      <td>0.337583</td>\n",
       "      <td>0.308274</td>\n",
       "      <td>0.491135</td>\n",
       "      <td>0.524749</td>\n",
       "      <td>0.300019</td>\n",
       "      <td>0.141904</td>\n",
       "      <td>0.407983</td>\n",
       "      <td>0.374540</td>\n",
       "      <td>0.099955</td>\n",
       "      <td>-0.030613</td>\n",
       "      <td>0.850226</td>\n",
       "      <td>1.000000</td>\n",
       "      <td>-0.160104</td>\n",
       "      <td>0.267130</td>\n",
       "      <td>0.438799</td>\n",
       "      <td>0.300176</td>\n",
       "    </tr>\n",
       "    <tr>\n",
       "      <th>S.F.Ratio</th>\n",
       "      <td>0.095633</td>\n",
       "      <td>0.176229</td>\n",
       "      <td>0.237271</td>\n",
       "      <td>-0.384875</td>\n",
       "      <td>-0.294629</td>\n",
       "      <td>0.279703</td>\n",
       "      <td>0.232531</td>\n",
       "      <td>-0.554821</td>\n",
       "      <td>-0.362628</td>\n",
       "      <td>-0.031929</td>\n",
       "      <td>0.136345</td>\n",
       "      <td>-0.132672</td>\n",
       "      <td>-0.160104</td>\n",
       "      <td>1.000000</td>\n",
       "      <td>-0.402929</td>\n",
       "      <td>-0.583832</td>\n",
       "      <td>-0.308791</td>\n",
       "    </tr>\n",
       "    <tr>\n",
       "      <th>perc.alumni</th>\n",
       "      <td>-0.090226</td>\n",
       "      <td>-0.159990</td>\n",
       "      <td>-0.180794</td>\n",
       "      <td>0.455485</td>\n",
       "      <td>0.417864</td>\n",
       "      <td>-0.229462</td>\n",
       "      <td>-0.280792</td>\n",
       "      <td>0.566262</td>\n",
       "      <td>0.272363</td>\n",
       "      <td>-0.040208</td>\n",
       "      <td>-0.285968</td>\n",
       "      <td>0.250767</td>\n",
       "      <td>0.267130</td>\n",
       "      <td>-0.402929</td>\n",
       "      <td>1.000000</td>\n",
       "      <td>0.417712</td>\n",
       "      <td>0.494773</td>\n",
       "    </tr>\n",
       "    <tr>\n",
       "      <th>Expend</th>\n",
       "      <td>0.259592</td>\n",
       "      <td>0.124717</td>\n",
       "      <td>0.064169</td>\n",
       "      <td>0.660913</td>\n",
       "      <td>0.527447</td>\n",
       "      <td>0.018652</td>\n",
       "      <td>-0.083568</td>\n",
       "      <td>0.672779</td>\n",
       "      <td>0.501739</td>\n",
       "      <td>0.112409</td>\n",
       "      <td>-0.097892</td>\n",
       "      <td>0.435099</td>\n",
       "      <td>0.438799</td>\n",
       "      <td>-0.583832</td>\n",
       "      <td>0.417712</td>\n",
       "      <td>1.000000</td>\n",
       "      <td>0.394224</td>\n",
       "    </tr>\n",
       "    <tr>\n",
       "      <th>Grad.Rate</th>\n",
       "      <td>0.146775</td>\n",
       "      <td>0.065414</td>\n",
       "      <td>-0.021388</td>\n",
       "      <td>0.502212</td>\n",
       "      <td>0.484388</td>\n",
       "      <td>-0.077034</td>\n",
       "      <td>-0.256350</td>\n",
       "      <td>0.575820</td>\n",
       "      <td>0.425769</td>\n",
       "      <td>-0.000159</td>\n",
       "      <td>-0.266018</td>\n",
       "      <td>0.322921</td>\n",
       "      <td>0.300176</td>\n",
       "      <td>-0.308791</td>\n",
       "      <td>0.494773</td>\n",
       "      <td>0.394224</td>\n",
       "      <td>1.000000</td>\n",
       "    </tr>\n",
       "  </tbody>\n",
       "</table>\n",
       "</div>"
      ],
      "text/plain": [
       "                 Apps    Accept    Enroll  Top10perc  Top25perc  F.Undergrad  \\\n",
       "Apps         1.000000  0.943451  0.846822   0.338834   0.351640     0.814491   \n",
       "Accept       0.943451  1.000000  0.911637   0.192447   0.247476     0.874223   \n",
       "Enroll       0.846822  0.911637  1.000000   0.181294   0.226745     0.964640   \n",
       "Top10perc    0.338834  0.192447  0.181294   1.000000   0.891995     0.141289   \n",
       "Top25perc    0.351640  0.247476  0.226745   0.891995   1.000000     0.199445   \n",
       "F.Undergrad  0.814491  0.874223  0.964640   0.141289   0.199445     1.000000   \n",
       "P.Undergrad  0.398264  0.441271  0.513069  -0.105356  -0.053577     0.570512   \n",
       "Outstate     0.050159 -0.025755 -0.155477   0.562331   0.489394    -0.215742   \n",
       "Room.Board   0.164939  0.090899 -0.040232   0.371480   0.331490    -0.068890   \n",
       "Books        0.132559  0.113525  0.112711   0.118858   0.115527     0.115550   \n",
       "Personal     0.178731  0.200989  0.280929  -0.093316  -0.080810     0.317200   \n",
       "PhD          0.392980  0.357938  0.333485   0.533707   0.548058     0.320183   \n",
       "Terminal     0.369491  0.337583  0.308274   0.491135   0.524749     0.300019   \n",
       "S.F.Ratio    0.095633  0.176229  0.237271  -0.384875  -0.294629     0.279703   \n",
       "perc.alumni -0.090226 -0.159990 -0.180794   0.455485   0.417864    -0.229462   \n",
       "Expend       0.259592  0.124717  0.064169   0.660913   0.527447     0.018652   \n",
       "Grad.Rate    0.146775  0.065414 -0.021388   0.502212   0.484388    -0.077034   \n",
       "\n",
       "             P.Undergrad  Outstate  Room.Board     Books  Personal       PhD  \\\n",
       "Apps            0.398264  0.050159    0.164939  0.132559  0.178731  0.392980   \n",
       "Accept          0.441271 -0.025755    0.090899  0.113525  0.200989  0.357938   \n",
       "Enroll          0.513069 -0.155477   -0.040232  0.112711  0.280929  0.333485   \n",
       "Top10perc      -0.105356  0.562331    0.371480  0.118858 -0.093316  0.533707   \n",
       "Top25perc      -0.053577  0.489394    0.331490  0.115527 -0.080810  0.548058   \n",
       "F.Undergrad     0.570512 -0.215742   -0.068890  0.115550  0.317200  0.320183   \n",
       "P.Undergrad     1.000000 -0.253512   -0.061326  0.081200  0.319882  0.150495   \n",
       "Outstate       -0.253512  1.000000    0.654256  0.038855 -0.299087  0.386905   \n",
       "Room.Board     -0.061326  0.654256    1.000000  0.127963 -0.199428  0.332429   \n",
       "Books           0.081200  0.038855    0.127963  1.000000  0.179295  0.026286   \n",
       "Personal        0.319882 -0.299087   -0.199428  0.179295  1.000000 -0.008701   \n",
       "PhD             0.150495  0.386905    0.332429  0.026286 -0.008701  1.000000   \n",
       "Terminal        0.141904  0.407983    0.374540  0.099955 -0.030613  0.850226   \n",
       "S.F.Ratio       0.232531 -0.554821   -0.362628 -0.031929  0.136345 -0.132672   \n",
       "perc.alumni    -0.280792  0.566262    0.272363 -0.040208 -0.285968  0.250767   \n",
       "Expend         -0.083568  0.672779    0.501739  0.112409 -0.097892  0.435099   \n",
       "Grad.Rate      -0.256350  0.575820    0.425769 -0.000159 -0.266018  0.322921   \n",
       "\n",
       "             Terminal  S.F.Ratio  perc.alumni    Expend  Grad.Rate  \n",
       "Apps         0.369491   0.095633    -0.090226  0.259592   0.146775  \n",
       "Accept       0.337583   0.176229    -0.159990  0.124717   0.065414  \n",
       "Enroll       0.308274   0.237271    -0.180794  0.064169  -0.021388  \n",
       "Top10perc    0.491135  -0.384875     0.455485  0.660913   0.502212  \n",
       "Top25perc    0.524749  -0.294629     0.417864  0.527447   0.484388  \n",
       "F.Undergrad  0.300019   0.279703    -0.229462  0.018652  -0.077034  \n",
       "P.Undergrad  0.141904   0.232531    -0.280792 -0.083568  -0.256350  \n",
       "Outstate     0.407983  -0.554821     0.566262  0.672779   0.575820  \n",
       "Room.Board   0.374540  -0.362628     0.272363  0.501739   0.425769  \n",
       "Books        0.099955  -0.031929    -0.040208  0.112409  -0.000159  \n",
       "Personal    -0.030613   0.136345    -0.285968 -0.097892  -0.266018  \n",
       "PhD          0.850226  -0.132672     0.250767  0.435099   0.322921  \n",
       "Terminal     1.000000  -0.160104     0.267130  0.438799   0.300176  \n",
       "S.F.Ratio   -0.160104   1.000000    -0.402929 -0.583832  -0.308791  \n",
       "perc.alumni  0.267130  -0.402929     1.000000  0.417712   0.494773  \n",
       "Expend       0.438799  -0.583832     0.417712  1.000000   0.394224  \n",
       "Grad.Rate    0.300176  -0.308791     0.494773  0.394224   1.000000  "
      ]
     },
     "execution_count": 24,
     "metadata": {},
     "output_type": "execute_result"
    }
   ],
   "source": [
    "corr_scaled = df_num_scaled.corr(method='pearson')\n",
    "corr_scaled"
   ]
  },
  {
   "cell_type": "code",
   "execution_count": 25,
   "metadata": {},
   "outputs": [
    {
     "name": "stdout",
     "output_type": "stream",
     "text": [
      "Covariance Matrix \n",
      "%s [[ 1.00128866e+00  9.44666359e-01  8.47913316e-01  3.39270321e-01\n",
      "   3.52093041e-01  8.15540181e-01  3.98777500e-01  5.02236717e-02\n",
      "   1.65151509e-01  1.32729421e-01  1.78961168e-01  3.93486554e-01\n",
      "   3.69967622e-01  9.57562670e-02 -9.03421565e-02  2.59926503e-01\n",
      "   1.46963658e-01]\n",
      " [ 9.44666359e-01  1.00128866e+00  9.12811453e-01  1.92694926e-01\n",
      "   2.47794654e-01  8.75349854e-01  4.41839380e-01 -2.57877355e-02\n",
      "   9.10157685e-02  1.13671647e-01  2.01247673e-01  3.58398858e-01\n",
      "   3.38018401e-01  1.76456113e-01 -1.60196038e-01  1.24877730e-01\n",
      "   6.54987779e-02]\n",
      " [ 8.47913316e-01  9.12811453e-01  1.00128866e+00  1.81527154e-01\n",
      "   2.27037304e-01  9.65882744e-01  5.13729774e-01 -1.55677702e-01\n",
      "  -4.02835287e-02  1.12856137e-01  2.81291483e-01  3.33915060e-01\n",
      "   3.08671332e-01  2.37577072e-01 -1.81027112e-01  6.42519204e-02\n",
      "  -2.14155645e-02]\n",
      " [ 3.39270321e-01  1.92694926e-01  1.81527154e-01  1.00128866e+00\n",
      "   8.93144451e-01  1.41470801e-01 -1.05492050e-01  5.63055197e-01\n",
      "   3.71959090e-01  1.19011599e-01 -9.34366503e-02  5.34394970e-01\n",
      "   4.91767929e-01 -3.85370484e-01  4.56072227e-01  6.61765100e-01\n",
      "   5.02859166e-01]\n",
      " [ 3.52093041e-01  2.47794654e-01  2.27037304e-01  8.93144451e-01\n",
      "   1.00128866e+00  1.99701672e-01 -5.36456855e-02  4.90024494e-01\n",
      "   3.31917067e-01  1.15676005e-01 -8.09144060e-02  5.48764667e-01\n",
      "   5.25425061e-01 -2.95008517e-01  4.18402770e-01  5.28127127e-01\n",
      "   4.85012418e-01]\n",
      " [ 8.15540181e-01  8.75349854e-01  9.65882744e-01  1.41470801e-01\n",
      "   1.99701672e-01  1.00128866e+00  5.71247383e-01 -2.16020017e-01\n",
      "  -6.89791682e-02  1.15698665e-01  3.17608307e-01  3.20595414e-01\n",
      "   3.00405566e-01  2.80063790e-01 -2.29757920e-01  1.86756541e-02\n",
      "  -7.71336806e-02]\n",
      " [ 3.98777500e-01  4.41839380e-01  5.13729774e-01 -1.05492050e-01\n",
      "  -5.36456855e-02  5.71247383e-01  1.00128866e+00 -2.53839009e-01\n",
      "  -6.14045345e-02  8.13041591e-02  3.20293836e-01  1.50688668e-01\n",
      "   1.42086439e-01  2.32830164e-01 -2.81154208e-01 -8.36761155e-02\n",
      "  -2.56680587e-01]\n",
      " [ 5.02236717e-02 -2.57877355e-02 -1.55677702e-01  5.63055197e-01\n",
      "   4.90024494e-01 -2.16020017e-01 -2.53839009e-01  1.00128866e+00\n",
      "   6.55099513e-01  3.89049389e-02 -2.99472320e-01  3.87403939e-01\n",
      "   4.08508951e-01 -5.55536252e-01  5.66992142e-01  6.73645602e-01\n",
      "   5.76561592e-01]\n",
      " [ 1.65151509e-01  9.10157685e-02 -4.02835287e-02  3.71959090e-01\n",
      "   3.31917067e-01 -6.89791682e-02 -6.14045345e-02  6.55099513e-01\n",
      "   1.00128866e+00  1.28127871e-01 -1.99685176e-01  3.32857005e-01\n",
      "   3.75022201e-01 -3.63095039e-01  2.72714436e-01  5.02385989e-01\n",
      "   4.26318111e-01]\n",
      " [ 1.32729421e-01  1.13671647e-01  1.12856137e-01  1.19011599e-01\n",
      "   1.15676005e-01  1.15698665e-01  8.13041591e-02  3.89049389e-02\n",
      "   1.28127871e-01  1.00128866e+00  1.79525813e-01  2.63203598e-02\n",
      "   1.00083507e-01 -3.19704202e-02 -4.02595501e-02  1.12553932e-01\n",
      "  -1.59267669e-04]\n",
      " [ 1.78961168e-01  2.01247673e-01  2.81291483e-01 -9.34366503e-02\n",
      "  -8.09144060e-02  3.17608307e-01  3.20293836e-01 -2.99472320e-01\n",
      "  -1.99685176e-01  1.79525813e-01  1.00128866e+00 -8.71216635e-03\n",
      "  -3.06525590e-02  1.36520535e-01 -2.86336597e-01 -9.80180427e-02\n",
      "  -2.66360340e-01]\n",
      " [ 3.93486554e-01  3.58398858e-01  3.33915060e-01  5.34394970e-01\n",
      "   5.48764667e-01  3.20595414e-01  1.50688668e-01  3.87403939e-01\n",
      "   3.32857005e-01  2.63203598e-02 -8.71216635e-03  1.00128866e+00\n",
      "   8.51321608e-01 -1.32843167e-01  2.51090225e-01  4.35660027e-01\n",
      "   3.23337064e-01]\n",
      " [ 3.69967622e-01  3.38018401e-01  3.08671332e-01  4.91767929e-01\n",
      "   5.25425061e-01  3.00405566e-01  1.42086439e-01  4.08508951e-01\n",
      "   3.75022201e-01  1.00083507e-01 -3.06525590e-02  8.51321608e-01\n",
      "   1.00128866e+00 -1.60310273e-01  2.67474531e-01  4.39364686e-01\n",
      "   3.00562873e-01]\n",
      " [ 9.57562670e-02  1.76456113e-01  2.37577072e-01 -3.85370484e-01\n",
      "  -2.95008517e-01  2.80063790e-01  2.32830164e-01 -5.55536252e-01\n",
      "  -3.63095039e-01 -3.19704202e-02  1.36520535e-01 -1.32843167e-01\n",
      "  -1.60310273e-01  1.00128866e+00 -4.03448404e-01 -5.84584402e-01\n",
      "  -3.09188605e-01]\n",
      " [-9.03421565e-02 -1.60196038e-01 -1.81027112e-01  4.56072227e-01\n",
      "   4.18402770e-01 -2.29757920e-01 -2.81154208e-01  5.66992142e-01\n",
      "   2.72714436e-01 -4.02595501e-02 -2.86336597e-01  2.51090225e-01\n",
      "   2.67474531e-01 -4.03448404e-01  1.00128866e+00  4.18250007e-01\n",
      "   4.95410302e-01]\n",
      " [ 2.59926503e-01  1.24877730e-01  6.42519204e-02  6.61765100e-01\n",
      "   5.28127127e-01  1.86756541e-02 -8.36761155e-02  6.73645602e-01\n",
      "   5.02385989e-01  1.12553932e-01 -9.80180427e-02  4.35660027e-01\n",
      "   4.39364686e-01 -5.84584402e-01  4.18250007e-01  1.00128866e+00\n",
      "   3.94731682e-01]\n",
      " [ 1.46963658e-01  6.54987779e-02 -2.14155645e-02  5.02859166e-01\n",
      "   4.85012418e-01 -7.71336806e-02 -2.56680587e-01  5.76561592e-01\n",
      "   4.26318111e-01 -1.59267669e-04 -2.66360340e-01  3.23337064e-01\n",
      "   3.00562873e-01 -3.09188605e-01  4.95410302e-01  3.94731682e-01\n",
      "   1.00128866e+00]]\n"
     ]
    }
   ],
   "source": [
    "cov_matrix = np.cov(df_num_scaled.T)\n",
    "print('Covariance Matrix \\n%s', cov_matrix)"
   ]
  },
  {
   "cell_type": "markdown",
   "metadata": {},
   "source": [
    "**Covariance and Correlation are identical for standardized data or once the data is scaled where attribute means are all 0 and variances are all 1. In other words, Correlation is nothing but covariance of standardized data.**\n",
    "\n",
    "**In corr_scaled above, the off diagonal elements are covariances and similarly in cov_matrix, the off diagonal elements are the correlation elements.**\n",
    "\n"
   ]
  },
  {
   "cell_type": "markdown",
   "metadata": {},
   "source": [
    "## 2.4 Check the dataset for outliers before and after scaling. What insight do you derive here?"
   ]
  },
  {
   "cell_type": "markdown",
   "metadata": {},
   "source": [
    "**Outliers observed before Scaling :**"
   ]
  },
  {
   "cell_type": "code",
   "execution_count": 20,
   "metadata": {},
   "outputs": [
    {
     "data": {
      "image/png": "[encoded data removed]",
      "text/plain": [
       "<Figure size 1080x504 with 1 Axes>"
      ]
     },
     "metadata": {
      "needs_background": "light"
     },
     "output_type": "display_data"
    }
   ],
   "source": [
    "df.boxplot(figsize=(15,7))\n",
    "plt.xticks(rotation=90)\n",
    "plt.show()"
   ]
  },
  {
   "cell_type": "code",
   "execution_count": 21,
   "metadata": {},
   "outputs": [],
   "source": [
    "def box_plot(column,nbins):\n",
    "    \n",
    "    plt.figure()\n",
    "    print(\"BoxPlot of \" + column)\n",
    "    print(\"----------------------------------------------------------------------------\")\n",
    "    ax = sns.boxplot(x=df[column])\n",
    "    plt.show()"
   ]
  },
  {
   "cell_type": "code",
   "execution_count": 22,
   "metadata": {},
   "outputs": [
    {
     "name": "stdout",
     "output_type": "stream",
     "text": [
      "BoxPlot of Apps\n",
      "----------------------------------------------------------------------------\n"
     ]
    },
    {
     "data": {
      "image/png": "[encoded data removed]",
      "text/plain": [
       "<Figure size 432x288 with 1 Axes>"
      ]
     },
     "metadata": {
      "needs_background": "light"
     },
     "output_type": "display_data"
    },
    {
     "name": "stdout",
     "output_type": "stream",
     "text": [
      "BoxPlot of Accept\n",
      "----------------------------------------------------------------------------\n"
     ]
    },
    {
     "data": {
      "image/png": "[encoded data removed]",
      "text/plain": [
       "<Figure size 432x288 with 1 Axes>"
      ]
     },
     "metadata": {
      "needs_background": "light"
     },
     "output_type": "display_data"
    },
    {
     "name": "stdout",
     "output_type": "stream",
     "text": [
      "BoxPlot of Enroll\n",
      "----------------------------------------------------------------------------\n"
     ]
    },
    {
     "data": {
      "image/png": "[encoded data removed]",
      "text/plain": [
       "<Figure size 432x288 with 1 Axes>"
      ]
     },
     "metadata": {
      "needs_background": "light"
     },
     "output_type": "display_data"
    },
    {
     "name": "stdout",
     "output_type": "stream",
     "text": [
      "BoxPlot of Top10perc\n",
      "----------------------------------------------------------------------------\n"
     ]
    },
    {
     "data": {
      "image/png": "[encoded data removed]",
      "text/plain": [
       "<Figure size 432x288 with 1 Axes>"
      ]
     },
     "metadata": {
      "needs_background": "light"
     },
     "output_type": "display_data"
    },
    {
     "name": "stdout",
     "output_type": "stream",
     "text": [
      "BoxPlot of Top25perc\n",
      "----------------------------------------------------------------------------\n"
     ]
    },
    {
     "data": {
      "image/png": "[encoded data removed]",
      "text/plain": [
       "<Figure size 432x288 with 1 Axes>"
      ]
     },
     "metadata": {
      "needs_background": "light"
     },
     "output_type": "display_data"
    },
    {
     "name": "stdout",
     "output_type": "stream",
     "text": [
      "BoxPlot of F.Undergrad\n",
      "----------------------------------------------------------------------------\n"
     ]
    },
    {
     "data": {
      "image/png": "[encoded data removed]",
      "text/plain": [
       "<Figure size 432x288 with 1 Axes>"
      ]
     },
     "metadata": {
      "needs_background": "light"
     },
     "output_type": "display_data"
    },
    {
     "name": "stdout",
     "output_type": "stream",
     "text": [
      "BoxPlot of P.Undergrad\n",
      "----------------------------------------------------------------------------\n"
     ]
    },
    {
     "data": {
      "image/png": "[encoded data removed]",
      "text/plain": [
       "<Figure size 432x288 with 1 Axes>"
      ]
     },
     "metadata": {
      "needs_background": "light"
     },
     "output_type": "display_data"
    },
    {
     "name": "stdout",
     "output_type": "stream",
     "text": [
      "BoxPlot of Outstate\n",
      "----------------------------------------------------------------------------\n"
     ]
    },
    {
     "data": {
      "image/png": "[encoded data removed]",
      "text/plain": [
       "<Figure size 432x288 with 1 Axes>"
      ]
     },
     "metadata": {
      "needs_background": "light"
     },
     "output_type": "display_data"
    },
    {
     "name": "stdout",
     "output_type": "stream",
     "text": [
      "BoxPlot of Room.Board\n",
      "----------------------------------------------------------------------------\n"
     ]
    },
    {
     "data": {
      "image/png": "[encoded data removed]",
      "text/plain": [
       "<Figure size 432x288 with 1 Axes>"
      ]
     },
     "metadata": {
      "needs_background": "light"
     },
     "output_type": "display_data"
    },
    {
     "name": "stdout",
     "output_type": "stream",
     "text": [
      "BoxPlot of Books\n",
      "----------------------------------------------------------------------------\n"
     ]
    },
    {
     "data": {
      "image/png": "[encoded data removed]",
      "text/plain": [
       "<Figure size 432x288 with 1 Axes>"
      ]
     },
     "metadata": {
      "needs_background": "light"
     },
     "output_type": "display_data"
    },
    {
     "name": "stdout",
     "output_type": "stream",
     "text": [
      "BoxPlot of Personal\n",
      "----------------------------------------------------------------------------\n"
     ]
    },
    {
     "data": {
      "image/png": "[encoded data removed]",
      "text/plain": [
       "<Figure size 432x288 with 1 Axes>"
      ]
     },
     "metadata": {
      "needs_background": "light"
     },
     "output_type": "display_data"
    },
    {
     "name": "stdout",
     "output_type": "stream",
     "text": [
      "BoxPlot of PhD\n",
      "----------------------------------------------------------------------------\n"
     ]
    },
    {
     "data": {
      "image/png": "[encoded data removed]",
      "text/plain": [
       "<Figure size 432x288 with 1 Axes>"
      ]
     },
     "metadata": {
      "needs_background": "light"
     },
     "output_type": "display_data"
    },
    {
     "name": "stdout",
     "output_type": "stream",
     "text": [
      "BoxPlot of Terminal\n",
      "----------------------------------------------------------------------------\n"
     ]
    },
    {
     "data": {
      "image/png": "[encoded data removed]",
      "text/plain": [
       "<Figure size 432x288 with 1 Axes>"
      ]
     },
     "metadata": {
      "needs_background": "light"
     },
     "output_type": "display_data"
    },
    {
     "name": "stdout",
     "output_type": "stream",
     "text": [
      "BoxPlot of S.F.Ratio\n",
      "----------------------------------------------------------------------------\n"
     ]
    },
    {
     "data": {
      "image/png": "[encoded data removed]",
      "text/plain": [
       "<Figure size 432x288 with 1 Axes>"
      ]
     },
     "metadata": {
      "needs_background": "light"
     },
     "output_type": "display_data"
    },
    {
     "name": "stdout",
     "output_type": "stream",
     "text": [
      "BoxPlot of perc.alumni\n",
      "----------------------------------------------------------------------------\n"
     ]
    },
    {
     "data": {
      "image/png": "[encoded data removed]",
      "text/plain": [
       "<Figure size 432x288 with 1 Axes>"
      ]
     },
     "metadata": {
      "needs_background": "light"
     },
     "output_type": "display_data"
    },
    {
     "name": "stdout",
     "output_type": "stream",
     "text": [
      "BoxPlot of Expend\n",
      "----------------------------------------------------------------------------\n"
     ]
    },
    {
     "data": {
      "image/png": "[encoded data removed]",
      "text/plain": [
       "<Figure size 432x288 with 1 Axes>"
      ]
     },
     "metadata": {
      "needs_background": "light"
     },
     "output_type": "display_data"
    },
    {
     "name": "stdout",
     "output_type": "stream",
     "text": [
      "BoxPlot of Grad.Rate\n",
      "----------------------------------------------------------------------------\n"
     ]
    },
    {
     "data": {
      "image/png": "[encoded data removed]",
      "text/plain": [
       "<Figure size 432x288 with 1 Axes>"
      ]
     },
     "metadata": {
      "needs_background": "light"
     },
     "output_type": "display_data"
    }
   ],
   "source": [
    "for x in lstnumericcolumns:\n",
    "    box_plot(x,20)"
   ]
  },
  {
   "cell_type": "markdown",
   "metadata": {},
   "source": [
    "**Outliers observed after Scaling :**"
   ]
  },
  {
   "cell_type": "code",
   "execution_count": 26,
   "metadata": {},
   "outputs": [
    {
     "data": {
      "image/png": "[encoded data removed]",
      "text/plain": [
       "<Figure size 1080x504 with 1 Axes>"
      ]
     },
     "metadata": {
      "needs_background": "light"
     },
     "output_type": "display_data"
    }
   ],
   "source": [
    "df_num_scaled.boxplot(figsize=(15,7))\n",
    "plt.xticks(rotation=90)\n",
    "plt.show()"
   ]
  },
  {
   "cell_type": "code",
   "execution_count": 27,
   "metadata": {},
   "outputs": [],
   "source": [
    "def box_plot_scaled(column,nbins):\n",
    "    \n",
    "    plt.figure()\n",
    "    print(\"BoxPlot of \" + column)\n",
    "    print(\"----------------------------------------------------------------------------\")\n",
    "    ax = sns.boxplot(x=df_num_scaled[column])\n",
    "    plt.show()"
   ]
  },
  {
   "cell_type": "code",
   "execution_count": 28,
   "metadata": {},
   "outputs": [
    {
     "data": {
      "text/plain": [
       "17"
      ]
     },
     "execution_count": 28,
     "metadata": {},
     "output_type": "execute_result"
    }
   ],
   "source": [
    "df_num_new = df_num_scaled.select_dtypes(include = ['float64', 'int64'])\n",
    "lstnumericcolumns_scaled = list(df_num_scaled.columns.values)\n",
    "len(lstnumericcolumns_scaled)"
   ]
  },
  {
   "cell_type": "code",
   "execution_count": 29,
   "metadata": {},
   "outputs": [
    {
     "name": "stdout",
     "output_type": "stream",
     "text": [
      "BoxPlot of Apps\n",
      "----------------------------------------------------------------------------\n"
     ]
    },
    {
     "data": {
      "image/png": "[encoded data removed]",
      "text/plain": [
       "<Figure size 432x288 with 1 Axes>"
      ]
     },
     "metadata": {
      "needs_background": "light"
     },
     "output_type": "display_data"
    },
    {
     "name": "stdout",
     "output_type": "stream",
     "text": [
      "BoxPlot of Accept\n",
      "----------------------------------------------------------------------------\n"
     ]
    },
    {
     "data": {
      "image/png": "[encoded data removed]",
      "text/plain": [
       "<Figure size 432x288 with 1 Axes>"
      ]
     },
     "metadata": {
      "needs_background": "light"
     },
     "output_type": "display_data"
    },
    {
     "name": "stdout",
     "output_type": "stream",
     "text": [
      "BoxPlot of Enroll\n",
      "----------------------------------------------------------------------------\n"
     ]
    },
    {
     "data": {
      "image/png": "[encoded data removed]",
      "text/plain": [
       "<Figure size 432x288 with 1 Axes>"
      ]
     },
     "metadata": {
      "needs_background": "light"
     },
     "output_type": "display_data"
    },
    {
     "name": "stdout",
     "output_type": "stream",
     "text": [
      "BoxPlot of Top10perc\n",
      "----------------------------------------------------------------------------\n"
     ]
    },
    {
     "data": {
      "image/png": "[encoded data removed]",
      "text/plain": [
       "<Figure size 432x288 with 1 Axes>"
      ]
     },
     "metadata": {
      "needs_background": "light"
     },
     "output_type": "display_data"
    },
    {
     "name": "stdout",
     "output_type": "stream",
     "text": [
      "BoxPlot of Top25perc\n",
      "----------------------------------------------------------------------------\n"
     ]
    },
    {
     "data": {
      "image/png": "[encoded data removed]",
      "text/plain": [
       "<Figure size 432x288 with 1 Axes>"
      ]
     },
     "metadata": {
      "needs_background": "light"
     },
     "output_type": "display_data"
    },
    {
     "name": "stdout",
     "output_type": "stream",
     "text": [
      "BoxPlot of F.Undergrad\n",
      "----------------------------------------------------------------------------\n"
     ]
    },
    {
     "data": {
      "image/png": "[encoded data removed]",
      "text/plain": [
       "<Figure size 432x288 with 1 Axes>"
      ]
     },
     "metadata": {
      "needs_background": "light"
     },
     "output_type": "display_data"
    },
    {
     "name": "stdout",
     "output_type": "stream",
     "text": [
      "BoxPlot of P.Undergrad\n",
      "----------------------------------------------------------------------------\n"
     ]
    },
    {
     "data": {
      "image/png": "[encoded data removed]",
      "text/plain": [
       "<Figure size 432x288 with 1 Axes>"
      ]
     },
     "metadata": {
      "needs_background": "light"
     },
     "output_type": "display_data"
    },
    {
     "name": "stdout",
     "output_type": "stream",
     "text": [
      "BoxPlot of Outstate\n",
      "----------------------------------------------------------------------------\n"
     ]
    },
    {
     "data": {
      "image/png": "[encoded data removed]",
      "text/plain": [
       "<Figure size 432x288 with 1 Axes>"
      ]
     },
     "metadata": {
      "needs_background": "light"
     },
     "output_type": "display_data"
    },
    {
     "name": "stdout",
     "output_type": "stream",
     "text": [
      "BoxPlot of Room.Board\n",
      "----------------------------------------------------------------------------\n"
     ]
    },
    {
     "data": {
      "image/png": "[encoded data removed]",
      "text/plain": [
       "<Figure size 432x288 with 1 Axes>"
      ]
     },
     "metadata": {
      "needs_background": "light"
     },
     "output_type": "display_data"
    },
    {
     "name": "stdout",
     "output_type": "stream",
     "text": [
      "BoxPlot of Books\n",
      "----------------------------------------------------------------------------\n"
     ]
    },
    {
     "data": {
      "image/png": "[encoded data removed]",
      "text/plain": [
       "<Figure size 432x288 with 1 Axes>"
      ]
     },
     "metadata": {
      "needs_background": "light"
     },
     "output_type": "display_data"
    },
    {
     "name": "stdout",
     "output_type": "stream",
     "text": [
      "BoxPlot of Personal\n",
      "----------------------------------------------------------------------------\n"
     ]
    },
    {
     "data": {
      "image/png": "[encoded data removed]",
      "text/plain": [
       "<Figure size 432x288 with 1 Axes>"
      ]
     },
     "metadata": {
      "needs_background": "light"
     },
     "output_type": "display_data"
    },
    {
     "name": "stdout",
     "output_type": "stream",
     "text": [
      "BoxPlot of PhD\n",
      "----------------------------------------------------------------------------\n"
     ]
    },
    {
     "data": {
      "image/png": "[encoded data removed]",
      "text/plain": [
       "<Figure size 432x288 with 1 Axes>"
      ]
     },
     "metadata": {
      "needs_background": "light"
     },
     "output_type": "display_data"
    },
    {
     "name": "stdout",
     "output_type": "stream",
     "text": [
      "BoxPlot of Terminal\n",
      "----------------------------------------------------------------------------\n"
     ]
    },
    {
     "data": {
      "image/png": "[encoded data removed]",
      "text/plain": [
       "<Figure size 432x288 with 1 Axes>"
      ]
     },
     "metadata": {
      "needs_background": "light"
     },
     "output_type": "display_data"
    },
    {
     "name": "stdout",
     "output_type": "stream",
     "text": [
      "BoxPlot of S.F.Ratio\n",
      "----------------------------------------------------------------------------\n"
     ]
    },
    {
     "data": {
      "image/png": "[encoded data removed]",
      "text/plain": [
       "<Figure size 432x288 with 1 Axes>"
      ]
     },
     "metadata": {
      "needs_background": "light"
     },
     "output_type": "display_data"
    },
    {
     "name": "stdout",
     "output_type": "stream",
     "text": [
      "BoxPlot of perc.alumni\n",
      "----------------------------------------------------------------------------\n"
     ]
    },
    {
     "data": {
      "image/png": "[encoded data removed]",
      "text/plain": [
       "<Figure size 432x288 with 1 Axes>"
      ]
     },
     "metadata": {
      "needs_background": "light"
     },
     "output_type": "display_data"
    },
    {
     "name": "stdout",
     "output_type": "stream",
     "text": [
      "BoxPlot of Expend\n",
      "----------------------------------------------------------------------------\n"
     ]
    },
    {
     "data": {
      "image/png": "[encoded data removed]",
      "text/plain": [
       "<Figure size 432x288 with 1 Axes>"
      ]
     },
     "metadata": {
      "needs_background": "light"
     },
     "output_type": "display_data"
    },
    {
     "name": "stdout",
     "output_type": "stream",
     "text": [
      "BoxPlot of Grad.Rate\n",
      "----------------------------------------------------------------------------\n"
     ]
    },
    {
     "data": {
      "image/png": "[encoded data removed]",
      "text/plain": [
       "<Figure size 432x288 with 1 Axes>"
      ]
     },
     "metadata": {
      "needs_background": "light"
     },
     "output_type": "display_data"
    }
   ],
   "source": [
    "for x in lstnumericcolumns_scaled:\n",
    "    box_plot_scaled(x,20)"
   ]
  },
  {
   "cell_type": "markdown",
   "metadata": {},
   "source": [
    "**Insights Derived:**"
   ]
  },
  {
   "cell_type": "markdown",
   "metadata": {},
   "source": [
    "**We have not treated the outliers before scaling. Hence, the there are no changes in the outliers for all the variables.**\n",
    "\n",
    "**The only difference is that the outliers are placed in the boxplot post scaling as per their scaled values.**\n",
    "\n",
    "**Hence, there are no difference in the outliers for variables post scaling of the data.**\n"
   ]
  },
  {
   "cell_type": "markdown",
   "metadata": {},
   "source": [
    "## 2.5 Perform PCA and export the data of the Principal Component scores into a data frame."
   ]
  },
  {
   "cell_type": "code",
   "execution_count": 30,
   "metadata": {},
   "outputs": [
    {
     "name": "stdout",
     "output_type": "stream",
     "text": [
      "<class 'pandas.core.frame.DataFrame'>\n",
      "RangeIndex: 777 entries, 0 to 776\n",
      "Data columns (total 17 columns):\n",
      " #   Column       Non-Null Count  Dtype  \n",
      "---  ------       --------------  -----  \n",
      " 0   Apps         777 non-null    float64\n",
      " 1   Accept       777 non-null    float64\n",
      " 2   Enroll       777 non-null    float64\n",
      " 3   Top10perc    777 non-null    float64\n",
      " 4   Top25perc    777 non-null    float64\n",
      " 5   F.Undergrad  777 non-null    float64\n",
      " 6   P.Undergrad  777 non-null    float64\n",
      " 7   Outstate     777 non-null    float64\n",
      " 8   Room.Board   777 non-null    float64\n",
      " 9   Books        777 non-null    float64\n",
      " 10  Personal     777 non-null    float64\n",
      " 11  PhD          777 non-null    float64\n",
      " 12  Terminal     777 non-null    float64\n",
      " 13  S.F.Ratio    777 non-null    float64\n",
      " 14  perc.alumni  777 non-null    float64\n",
      " 15  Expend       777 non-null    float64\n",
      " 16  Grad.Rate    777 non-null    float64\n",
      "dtypes: float64(17)\n",
      "memory usage: 103.3 KB\n"
     ]
    }
   ],
   "source": [
    "df_num_scaled.info()"
   ]
  },
  {
   "cell_type": "code",
   "execution_count": 31,
   "metadata": {},
   "outputs": [
    {
     "data": {
      "text/plain": [
       "0.0"
      ]
     },
     "execution_count": 31,
     "metadata": {},
     "output_type": "execute_result"
    }
   ],
   "source": [
    "chi_square_value,p_value=calculate_bartlett_sphericity(df_num_scaled)\n",
    "p_value"
   ]
  },
  {
   "cell_type": "markdown",
   "metadata": {},
   "source": [
    "**P-value is low, then we can reject the null hypothesis (All variables in the data are uncorrelated) and agree that there is atleast one pair of variables in the data which are correlated hence PCA is recommended.**"
   ]
  },
  {
   "cell_type": "code",
   "execution_count": 32,
   "metadata": {},
   "outputs": [
    {
     "data": {
      "text/plain": [
       "0.8131776428730134"
      ]
     },
     "execution_count": 32,
     "metadata": {},
     "output_type": "execute_result"
    }
   ],
   "source": [
    "kmo_all,kmo_model=calculate_kmo(df_num_scaled)\n",
    "kmo_model"
   ]
  },
  {
   "cell_type": "markdown",
   "metadata": {},
   "source": [
    "**MSA is > 0.7. Hence, we can expect PCA to provide a considerable reduction is the dimension and extraction of meaningful components.**"
   ]
  },
  {
   "cell_type": "code",
   "execution_count": 38,
   "metadata": {},
   "outputs": [
    {
     "data": {
      "image/png": "[encoded data removed]",
      "text/plain": [
       "<Figure size 864x504 with 1 Axes>"
      ]
     },
     "metadata": {
      "needs_background": "light"
     },
     "output_type": "display_data"
    }
   ],
   "source": [
    "plt.figure(figsize=(12,7))\n",
    "sns.lineplot(y=var_exp,x=range(1,len(var_exp)+1),marker='o')\n",
    "plt.xlabel('Number of Components',fontsize=15)\n",
    "plt.ylabel('Variance Explained',fontsize=15)\n",
    "plt.title('Scree Plot',fontsize=15)\n",
    "plt.grid()\n",
    "plt.show()"
   ]
  },
  {
   "cell_type": "code",
   "execution_count": 36,
   "metadata": {},
   "outputs": [
    {
     "data": {
      "text/plain": [
       "[32.09887440472291,\n",
       " 26.343586756264354,\n",
       " 6.900134493207622,\n",
       " 5.862662971496299,\n",
       " 5.4909169657868455,\n",
       " 4.977964976700813,\n",
       " 3.5593195939891027,\n",
       " 3.453403325686478,\n",
       " 3.114468206318075,\n",
       " 2.370749131119881,\n",
       " 1.8397086375846166,\n",
       " 1.2942408033333521,\n",
       " 0.9856423126916478,\n",
       " 0.8400855603042318,\n",
       " 0.5173721499515699,\n",
       " 0.2156928048436411,\n",
       " 0.13517690599856447]"
      ]
     },
     "execution_count": 36,
     "metadata": {},
     "output_type": "execute_result"
    }
   ],
   "source": [
    "var_exp"
   ]
  },
  {
   "cell_type": "code",
   "execution_count": 69,
   "metadata": {},
   "outputs": [
    {
     "data": {
      "text/plain": [
       "array([[-1.59178367e+00, -2.19726733e+00, -1.43106151e+00, ...,\n",
       "        -7.35654960e-01,  7.92729369e+00, -4.57851960e-01],\n",
       "       [ 7.62095218e-01, -5.82570558e-01, -1.09617695e+00, ...,\n",
       "        -7.85324270e-02, -2.04892384e+00,  3.62098298e-01],\n",
       "       [-1.16124379e-01,  2.31716934e+00, -4.34091526e-01, ...,\n",
       "         1.61309990e-03,  2.08177647e+00, -1.33525852e+00],\n",
       "       [-9.49498371e-01,  3.59194965e+00,  7.02472185e-01, ...,\n",
       "         7.26738246e-02,  8.43365807e-01, -1.78414311e-01]])"
      ]
     },
     "execution_count": 69,
     "metadata": {},
     "output_type": "execute_result"
    }
   ],
   "source": [
    "pca = PCA(n_components=4, random_state=123)\n",
    "df_pca = pca.fit_transform(df_num_scaled)\n",
    "df_pca.transpose()"
   ]
  },
  {
   "cell_type": "code",
   "execution_count": 70,
   "metadata": {},
   "outputs": [
    {
     "data": {
      "text/plain": [
       "array([[ 0.24753254,  0.20629976,  0.17513884,  0.35399056,  0.34370247,\n",
       "         0.15352759,  0.02578593,  0.29496599,  0.24889688,  0.06428278,\n",
       "        -0.04259817,  0.31957923,  0.31677648, -0.17716449,  0.20541801,\n",
       "         0.31860554,  0.25562687],\n",
       "       [ 0.33242688,  0.37287506,  0.40425064, -0.08150778, -0.04391409,\n",
       "         0.4180893 ,  0.31511913, -0.24874817, -0.13692792,  0.05660665,\n",
       "         0.21963415,  0.05885405,  0.04700083,  0.24607666, -0.24602358,\n",
       "        -0.13072737, -0.16868629],\n",
       "       [-0.05967705, -0.09775989, -0.08135756,  0.03428216, -0.02551092,\n",
       "        -0.06056293,  0.13796695,  0.04814918,  0.1521435 ,  0.67969354,\n",
       "         0.49530009, -0.13190398, -0.07097053, -0.29124016, -0.14709007,\n",
       "         0.22791795, -0.20524112],\n",
       "       [ 0.28509536,  0.27178882,  0.16345715, -0.05518457, -0.11585077,\n",
       "         0.1012921 , -0.15895145,  0.13657187,  0.19157617,  0.0713797 ,\n",
       "        -0.24903276, -0.52919381, -0.51814668, -0.16846807,  0.01611471,\n",
       "         0.08606828,  0.2431135 ]])"
      ]
     },
     "execution_count": 70,
     "metadata": {},
     "output_type": "execute_result"
    }
   ],
   "source": [
    "pca.components_"
   ]
  },
  {
   "cell_type": "code",
   "execution_count": 71,
   "metadata": {},
   "outputs": [
    {
     "data": {
      "text/plain": [
       "array([0.32098874, 0.26343587, 0.06900134, 0.05862663])"
      ]
     },
     "execution_count": 71,
     "metadata": {},
     "output_type": "execute_result"
    }
   ],
   "source": [
    "pca.explained_variance_ratio_"
   ]
  },
  {
   "cell_type": "code",
   "execution_count": 72,
   "metadata": {},
   "outputs": [
    {
     "data": {
      "text/plain": [
       "(4, 17)"
      ]
     },
     "execution_count": 72,
     "metadata": {},
     "output_type": "execute_result"
    }
   ],
   "source": [
    "df_pca_loading = pd.DataFrame(pca.components_,columns=list(df_num_scaled))\n",
    "df_pca_loading.shape"
   ]
  },
  {
   "cell_type": "code",
   "execution_count": 73,
   "metadata": {},
   "outputs": [
    {
     "data": {
      "text/html": [
       "<div>\n",
       "<style scoped>\n",
       "    .dataframe tbody tr th:only-of-type {\n",
       "        vertical-align: middle;\n",
       "    }\n",
       "\n",
       "    .dataframe tbody tr th {\n",
       "        vertical-align: top;\n",
       "    }\n",
       "\n",
       "    .dataframe thead th {\n",
       "        text-align: right;\n",
       "    }\n",
       "</style>\n",
       "<table border=\"1\" class=\"dataframe\">\n",
       "  <thead>\n",
       "    <tr style=\"text-align: right;\">\n",
       "      <th></th>\n",
       "      <th>Apps</th>\n",
       "      <th>Accept</th>\n",
       "      <th>Enroll</th>\n",
       "      <th>Top10perc</th>\n",
       "      <th>Top25perc</th>\n",
       "      <th>F.Undergrad</th>\n",
       "      <th>P.Undergrad</th>\n",
       "      <th>Outstate</th>\n",
       "      <th>Room.Board</th>\n",
       "      <th>Books</th>\n",
       "      <th>Personal</th>\n",
       "      <th>PhD</th>\n",
       "      <th>Terminal</th>\n",
       "      <th>S.F.Ratio</th>\n",
       "      <th>perc.alumni</th>\n",
       "      <th>Expend</th>\n",
       "      <th>Grad.Rate</th>\n",
       "    </tr>\n",
       "  </thead>\n",
       "  <tbody>\n",
       "    <tr>\n",
       "      <th>0</th>\n",
       "      <td>0.247533</td>\n",
       "      <td>0.206300</td>\n",
       "      <td>0.175139</td>\n",
       "      <td>0.353991</td>\n",
       "      <td>0.343702</td>\n",
       "      <td>0.153528</td>\n",
       "      <td>0.025786</td>\n",
       "      <td>0.294966</td>\n",
       "      <td>0.248897</td>\n",
       "      <td>0.064283</td>\n",
       "      <td>-0.042598</td>\n",
       "      <td>0.319579</td>\n",
       "      <td>0.316776</td>\n",
       "      <td>-0.177164</td>\n",
       "      <td>0.205418</td>\n",
       "      <td>0.318606</td>\n",
       "      <td>0.255627</td>\n",
       "    </tr>\n",
       "    <tr>\n",
       "      <th>1</th>\n",
       "      <td>0.332427</td>\n",
       "      <td>0.372875</td>\n",
       "      <td>0.404251</td>\n",
       "      <td>-0.081508</td>\n",
       "      <td>-0.043914</td>\n",
       "      <td>0.418089</td>\n",
       "      <td>0.315119</td>\n",
       "      <td>-0.248748</td>\n",
       "      <td>-0.136928</td>\n",
       "      <td>0.056607</td>\n",
       "      <td>0.219634</td>\n",
       "      <td>0.058854</td>\n",
       "      <td>0.047001</td>\n",
       "      <td>0.246077</td>\n",
       "      <td>-0.246024</td>\n",
       "      <td>-0.130727</td>\n",
       "      <td>-0.168686</td>\n",
       "    </tr>\n",
       "    <tr>\n",
       "      <th>2</th>\n",
       "      <td>-0.059677</td>\n",
       "      <td>-0.097760</td>\n",
       "      <td>-0.081358</td>\n",
       "      <td>0.034282</td>\n",
       "      <td>-0.025511</td>\n",
       "      <td>-0.060563</td>\n",
       "      <td>0.137967</td>\n",
       "      <td>0.048149</td>\n",
       "      <td>0.152144</td>\n",
       "      <td>0.679694</td>\n",
       "      <td>0.495300</td>\n",
       "      <td>-0.131904</td>\n",
       "      <td>-0.070971</td>\n",
       "      <td>-0.291240</td>\n",
       "      <td>-0.147090</td>\n",
       "      <td>0.227918</td>\n",
       "      <td>-0.205241</td>\n",
       "    </tr>\n",
       "    <tr>\n",
       "      <th>3</th>\n",
       "      <td>0.285095</td>\n",
       "      <td>0.271789</td>\n",
       "      <td>0.163457</td>\n",
       "      <td>-0.055185</td>\n",
       "      <td>-0.115851</td>\n",
       "      <td>0.101292</td>\n",
       "      <td>-0.158951</td>\n",
       "      <td>0.136572</td>\n",
       "      <td>0.191576</td>\n",
       "      <td>0.071380</td>\n",
       "      <td>-0.249033</td>\n",
       "      <td>-0.529194</td>\n",
       "      <td>-0.518147</td>\n",
       "      <td>-0.168468</td>\n",
       "      <td>0.016115</td>\n",
       "      <td>0.086068</td>\n",
       "      <td>0.243114</td>\n",
       "    </tr>\n",
       "  </tbody>\n",
       "</table>\n",
       "</div>"
      ],
      "text/plain": [
       "       Apps    Accept    Enroll  Top10perc  Top25perc  F.Undergrad  \\\n",
       "0  0.247533  0.206300  0.175139   0.353991   0.343702     0.153528   \n",
       "1  0.332427  0.372875  0.404251  -0.081508  -0.043914     0.418089   \n",
       "2 -0.059677 -0.097760 -0.081358   0.034282  -0.025511    -0.060563   \n",
       "3  0.285095  0.271789  0.163457  -0.055185  -0.115851     0.101292   \n",
       "\n",
       "   P.Undergrad  Outstate  Room.Board     Books  Personal       PhD  Terminal  \\\n",
       "0     0.025786  0.294966    0.248897  0.064283 -0.042598  0.319579  0.316776   \n",
       "1     0.315119 -0.248748   -0.136928  0.056607  0.219634  0.058854  0.047001   \n",
       "2     0.137967  0.048149    0.152144  0.679694  0.495300 -0.131904 -0.070971   \n",
       "3    -0.158951  0.136572    0.191576  0.071380 -0.249033 -0.529194 -0.518147   \n",
       "\n",
       "   S.F.Ratio  perc.alumni    Expend  Grad.Rate  \n",
       "0  -0.177164     0.205418  0.318606   0.255627  \n",
       "1   0.246077    -0.246024 -0.130727  -0.168686  \n",
       "2  -0.291240    -0.147090  0.227918  -0.205241  \n",
       "3  -0.168468     0.016115  0.086068   0.243114  "
      ]
     },
     "execution_count": 73,
     "metadata": {},
     "output_type": "execute_result"
    }
   ],
   "source": [
    "df_pca_loading.head(4)"
   ]
  },
  {
   "cell_type": "code",
   "execution_count": 74,
   "metadata": {},
   "outputs": [
    {
     "data": {
      "image/png": "[encoded data removed]",
      "text/plain": [
       "<Figure size 1584x720 with 1 Axes>"
      ]
     },
     "metadata": {},
     "output_type": "display_data"
    }
   ],
   "source": [
    "fig,ax = plt.subplots(figsize=(22, 10), facecolor='w', edgecolor='k')\n",
    "ax = sns.heatmap(df_pca_loading, annot=True, vmax=1.0, vmin=0, cmap='Blues', cbar=False, fmt='.2g', ax=ax,\n",
    "                 yticklabels=['PC0','PC1','PC2','PC3'])\n",
    "\n",
    "column_max = df_pca_loading.abs().idxmax(axis=0)\n",
    "\n",
    "for col, variable in enumerate(df_pca_loading.columns):\n",
    "    position = df_pca_loading.index.get_loc(column_max[variable])\n",
    "    ax.add_patch(Rectangle((col, position),1,1, fill=False, edgecolor='red', lw=3))"
   ]
  },
  {
   "cell_type": "code",
   "execution_count": 76,
   "metadata": {},
   "outputs": [
    {
     "data": {
      "text/html": [
       "<div>\n",
       "<style scoped>\n",
       "    .dataframe tbody tr th:only-of-type {\n",
       "        vertical-align: middle;\n",
       "    }\n",
       "\n",
       "    .dataframe tbody tr th {\n",
       "        vertical-align: top;\n",
       "    }\n",
       "\n",
       "    .dataframe thead th {\n",
       "        text-align: right;\n",
       "    }\n",
       "</style>\n",
       "<table border=\"1\" class=\"dataframe\">\n",
       "  <thead>\n",
       "    <tr style=\"text-align: right;\">\n",
       "      <th></th>\n",
       "      <th>pc_University_Overview</th>\n",
       "      <th>pc_Admissions</th>\n",
       "      <th>pc_Fees&amp;Expenses</th>\n",
       "      <th>pc_Faculty&amp;Staff</th>\n",
       "    </tr>\n",
       "  </thead>\n",
       "  <tbody>\n",
       "    <tr>\n",
       "      <th>0</th>\n",
       "      <td>-1.591784</td>\n",
       "      <td>0.762095</td>\n",
       "      <td>-0.116124</td>\n",
       "      <td>-0.949498</td>\n",
       "    </tr>\n",
       "    <tr>\n",
       "      <th>1</th>\n",
       "      <td>-2.197267</td>\n",
       "      <td>-0.582571</td>\n",
       "      <td>2.317169</td>\n",
       "      <td>3.591950</td>\n",
       "    </tr>\n",
       "    <tr>\n",
       "      <th>2</th>\n",
       "      <td>-1.431062</td>\n",
       "      <td>-1.096177</td>\n",
       "      <td>-0.434092</td>\n",
       "      <td>0.702472</td>\n",
       "    </tr>\n",
       "    <tr>\n",
       "      <th>3</th>\n",
       "      <td>2.860558</td>\n",
       "      <td>-2.623302</td>\n",
       "      <td>0.128980</td>\n",
       "      <td>-1.248898</td>\n",
       "    </tr>\n",
       "    <tr>\n",
       "      <th>4</th>\n",
       "      <td>-2.221481</td>\n",
       "      <td>0.018421</td>\n",
       "      <td>2.378943</td>\n",
       "      <td>-1.069758</td>\n",
       "    </tr>\n",
       "  </tbody>\n",
       "</table>\n",
       "</div>"
      ],
      "text/plain": [
       "   pc_University_Overview  pc_Admissions  pc_Fees&Expenses  pc_Faculty&Staff\n",
       "0               -1.591784       0.762095         -0.116124         -0.949498\n",
       "1               -2.197267      -0.582571          2.317169          3.591950\n",
       "2               -1.431062      -1.096177         -0.434092          0.702472\n",
       "3                2.860558      -2.623302          0.128980         -1.248898\n",
       "4               -2.221481       0.018421          2.378943         -1.069758"
      ]
     },
     "execution_count": 76,
     "metadata": {},
     "output_type": "execute_result"
    }
   ],
   "source": [
    "df_pca = pd.DataFrame(df_pca,columns=['pc_University_Overview','pc_Admissions','pc_Fees&Expenses','pc_Faculty&Staff'])\n",
    "df_pca.head()"
   ]
  },
  {
   "cell_type": "code",
   "execution_count": 77,
   "metadata": {},
   "outputs": [
    {
     "data": {
      "text/plain": [
       "(777, 4)"
      ]
     },
     "execution_count": 77,
     "metadata": {},
     "output_type": "execute_result"
    }
   ],
   "source": [
    "df_pca.shape"
   ]
  },
  {
   "cell_type": "code",
   "execution_count": 78,
   "metadata": {},
   "outputs": [],
   "source": [
    "df_cat = df.select_dtypes(include = ['object'])"
   ]
  },
  {
   "cell_type": "code",
   "execution_count": 79,
   "metadata": {},
   "outputs": [],
   "source": [
    "df_new = pd.concat([df_cat, df_pca], axis=1)"
   ]
  },
  {
   "cell_type": "code",
   "execution_count": 80,
   "metadata": {},
   "outputs": [
    {
     "data": {
      "text/plain": [
       "(777, 5)"
      ]
     },
     "execution_count": 80,
     "metadata": {},
     "output_type": "execute_result"
    }
   ],
   "source": [
    "df_new.shape"
   ]
  },
  {
   "cell_type": "code",
   "execution_count": 81,
   "metadata": {},
   "outputs": [
    {
     "data": {
      "text/html": [
       "<div>\n",
       "<style scoped>\n",
       "    .dataframe tbody tr th:only-of-type {\n",
       "        vertical-align: middle;\n",
       "    }\n",
       "\n",
       "    .dataframe tbody tr th {\n",
       "        vertical-align: top;\n",
       "    }\n",
       "\n",
       "    .dataframe thead th {\n",
       "        text-align: right;\n",
       "    }\n",
       "</style>\n",
       "<table border=\"1\" class=\"dataframe\">\n",
       "  <thead>\n",
       "    <tr style=\"text-align: right;\">\n",
       "      <th></th>\n",
       "      <th>Names</th>\n",
       "      <th>pc_University_Overview</th>\n",
       "      <th>pc_Admissions</th>\n",
       "      <th>pc_Fees&amp;Expenses</th>\n",
       "      <th>pc_Faculty&amp;Staff</th>\n",
       "    </tr>\n",
       "  </thead>\n",
       "  <tbody>\n",
       "    <tr>\n",
       "      <th>0</th>\n",
       "      <td>Abilene Christian University</td>\n",
       "      <td>-1.591784</td>\n",
       "      <td>0.762095</td>\n",
       "      <td>-0.116124</td>\n",
       "      <td>-0.949498</td>\n",
       "    </tr>\n",
       "    <tr>\n",
       "      <th>1</th>\n",
       "      <td>Adelphi University</td>\n",
       "      <td>-2.197267</td>\n",
       "      <td>-0.582571</td>\n",
       "      <td>2.317169</td>\n",
       "      <td>3.591950</td>\n",
       "    </tr>\n",
       "    <tr>\n",
       "      <th>2</th>\n",
       "      <td>Adrian College</td>\n",
       "      <td>-1.431062</td>\n",
       "      <td>-1.096177</td>\n",
       "      <td>-0.434092</td>\n",
       "      <td>0.702472</td>\n",
       "    </tr>\n",
       "    <tr>\n",
       "      <th>3</th>\n",
       "      <td>Agnes Scott College</td>\n",
       "      <td>2.860558</td>\n",
       "      <td>-2.623302</td>\n",
       "      <td>0.128980</td>\n",
       "      <td>-1.248898</td>\n",
       "    </tr>\n",
       "    <tr>\n",
       "      <th>4</th>\n",
       "      <td>Alaska Pacific University</td>\n",
       "      <td>-2.221481</td>\n",
       "      <td>0.018421</td>\n",
       "      <td>2.378943</td>\n",
       "      <td>-1.069758</td>\n",
       "    </tr>\n",
       "  </tbody>\n",
       "</table>\n",
       "</div>"
      ],
      "text/plain": [
       "                          Names  pc_University_Overview  pc_Admissions  \\\n",
       "0  Abilene Christian University               -1.591784       0.762095   \n",
       "1            Adelphi University               -2.197267      -0.582571   \n",
       "2                Adrian College               -1.431062      -1.096177   \n",
       "3           Agnes Scott College                2.860558      -2.623302   \n",
       "4     Alaska Pacific University               -2.221481       0.018421   \n",
       "\n",
       "   pc_Fees&Expenses  pc_Faculty&Staff  \n",
       "0         -0.116124         -0.949498  \n",
       "1          2.317169          3.591950  \n",
       "2         -0.434092          0.702472  \n",
       "3          0.128980         -1.248898  \n",
       "4          2.378943         -1.069758  "
      ]
     },
     "execution_count": 81,
     "metadata": {},
     "output_type": "execute_result"
    }
   ],
   "source": [
    "df_new.head()"
   ]
  },
  {
   "cell_type": "code",
   "execution_count": 82,
   "metadata": {},
   "outputs": [
    {
     "data": {
      "text/html": [
       "<div>\n",
       "<style scoped>\n",
       "    .dataframe tbody tr th:only-of-type {\n",
       "        vertical-align: middle;\n",
       "    }\n",
       "\n",
       "    .dataframe tbody tr th {\n",
       "        vertical-align: top;\n",
       "    }\n",
       "\n",
       "    .dataframe thead th {\n",
       "        text-align: right;\n",
       "    }\n",
       "</style>\n",
       "<table border=\"1\" class=\"dataframe\">\n",
       "  <thead>\n",
       "    <tr style=\"text-align: right;\">\n",
       "      <th></th>\n",
       "      <th>Names</th>\n",
       "      <th>pc_University_Overview</th>\n",
       "      <th>pc_Admissions</th>\n",
       "      <th>pc_Fees&amp;Expenses</th>\n",
       "      <th>pc_Faculty&amp;Staff</th>\n",
       "    </tr>\n",
       "  </thead>\n",
       "  <tbody>\n",
       "    <tr>\n",
       "      <th>count</th>\n",
       "      <td>777</td>\n",
       "      <td>7.770000e+02</td>\n",
       "      <td>7.770000e+02</td>\n",
       "      <td>7.770000e+02</td>\n",
       "      <td>7.770000e+02</td>\n",
       "    </tr>\n",
       "    <tr>\n",
       "      <th>unique</th>\n",
       "      <td>777</td>\n",
       "      <td>NaN</td>\n",
       "      <td>NaN</td>\n",
       "      <td>NaN</td>\n",
       "      <td>NaN</td>\n",
       "    </tr>\n",
       "    <tr>\n",
       "      <th>top</th>\n",
       "      <td>St. Lawrence University</td>\n",
       "      <td>NaN</td>\n",
       "      <td>NaN</td>\n",
       "      <td>NaN</td>\n",
       "      <td>NaN</td>\n",
       "    </tr>\n",
       "    <tr>\n",
       "      <th>freq</th>\n",
       "      <td>1</td>\n",
       "      <td>NaN</td>\n",
       "      <td>NaN</td>\n",
       "      <td>NaN</td>\n",
       "      <td>NaN</td>\n",
       "    </tr>\n",
       "    <tr>\n",
       "      <th>mean</th>\n",
       "      <td>NaN</td>\n",
       "      <td>2.050412e-17</td>\n",
       "      <td>-9.959143e-17</td>\n",
       "      <td>5.429662e-18</td>\n",
       "      <td>1.117367e-16</td>\n",
       "    </tr>\n",
       "    <tr>\n",
       "      <th>std</th>\n",
       "      <td>NaN</td>\n",
       "      <td>2.337486e+00</td>\n",
       "      <td>2.117588e+00</td>\n",
       "      <td>1.083759e+00</td>\n",
       "      <td>9.989680e-01</td>\n",
       "    </tr>\n",
       "    <tr>\n",
       "      <th>min</th>\n",
       "      <td>NaN</td>\n",
       "      <td>-5.671814e+00</td>\n",
       "      <td>-3.578529e+00</td>\n",
       "      <td>-2.935482e+00</td>\n",
       "      <td>-2.978110e+00</td>\n",
       "    </tr>\n",
       "    <tr>\n",
       "      <th>25%</th>\n",
       "      <td>NaN</td>\n",
       "      <td>-1.750032e+00</td>\n",
       "      <td>-1.350500e+00</td>\n",
       "      <td>-6.630521e-01</td>\n",
       "      <td>-6.538644e-01</td>\n",
       "    </tr>\n",
       "    <tr>\n",
       "      <th>50%</th>\n",
       "      <td>NaN</td>\n",
       "      <td>-2.982340e-01</td>\n",
       "      <td>-6.271045e-01</td>\n",
       "      <td>-9.798591e-02</td>\n",
       "      <td>-5.263555e-02</td>\n",
       "    </tr>\n",
       "    <tr>\n",
       "      <th>75%</th>\n",
       "      <td>NaN</td>\n",
       "      <td>1.345788e+00</td>\n",
       "      <td>6.885518e-01</td>\n",
       "      <td>4.948139e-01</td>\n",
       "      <td>5.627185e-01</td>\n",
       "    </tr>\n",
       "    <tr>\n",
       "      <th>max</th>\n",
       "      <td>NaN</td>\n",
       "      <td>8.052714e+00</td>\n",
       "      <td>1.202390e+01</td>\n",
       "      <td>9.069491e+00</td>\n",
       "      <td>5.208984e+00</td>\n",
       "    </tr>\n",
       "  </tbody>\n",
       "</table>\n",
       "</div>"
      ],
      "text/plain": [
       "                          Names  pc_University_Overview  pc_Admissions  \\\n",
       "count                       777            7.770000e+02   7.770000e+02   \n",
       "unique                      777                     NaN            NaN   \n",
       "top     St. Lawrence University                     NaN            NaN   \n",
       "freq                          1                     NaN            NaN   \n",
       "mean                        NaN            2.050412e-17  -9.959143e-17   \n",
       "std                         NaN            2.337486e+00   2.117588e+00   \n",
       "min                         NaN           -5.671814e+00  -3.578529e+00   \n",
       "25%                         NaN           -1.750032e+00  -1.350500e+00   \n",
       "50%                         NaN           -2.982340e-01  -6.271045e-01   \n",
       "75%                         NaN            1.345788e+00   6.885518e-01   \n",
       "max                         NaN            8.052714e+00   1.202390e+01   \n",
       "\n",
       "        pc_Fees&Expenses  pc_Faculty&Staff  \n",
       "count       7.770000e+02      7.770000e+02  \n",
       "unique               NaN               NaN  \n",
       "top                  NaN               NaN  \n",
       "freq                 NaN               NaN  \n",
       "mean        5.429662e-18      1.117367e-16  \n",
       "std         1.083759e+00      9.989680e-01  \n",
       "min        -2.935482e+00     -2.978110e+00  \n",
       "25%        -6.630521e-01     -6.538644e-01  \n",
       "50%        -9.798591e-02     -5.263555e-02  \n",
       "75%         4.948139e-01      5.627185e-01  \n",
       "max         9.069491e+00      5.208984e+00  "
      ]
     },
     "execution_count": 82,
     "metadata": {},
     "output_type": "execute_result"
    }
   ],
   "source": [
    "df_new.describe(include='all')"
   ]
  },
  {
   "cell_type": "markdown",
   "metadata": {},
   "source": [
    "## 2.6 Extract the eigenvalues, and eigenvectors."
   ]
  },
  {
   "cell_type": "code",
   "execution_count": 33,
   "metadata": {},
   "outputs": [
    {
     "name": "stdout",
     "output_type": "stream",
     "text": [
      "\n",
      " Eigen Values \n",
      " %s [5.46384062 4.4841809  1.17453449 0.99793705 0.93465879 0.84734458\n",
      " 0.60586408 0.58783511 0.53014189 0.40354672 0.02300969 0.03671503\n",
      " 0.3131535  0.08806661 0.14299858 0.16777512 0.22030447]\n",
      "\n",
      "\n",
      "Eigen Vectors \n",
      " %s [[-2.47532537e-01  3.32426877e-01 -5.96777039e-02  2.85096690e-01\n",
      "  -1.70019622e-04  1.22811932e-02  3.06596836e-02  1.03577277e-01\n",
      "   8.93297613e-02 -5.07359465e-02  3.59723152e-01 -4.59049537e-01\n",
      "   4.31741045e-02 -1.32822763e-01 -6.60495278e-02 -5.97045093e-01\n",
      "  -2.33859080e-02]\n",
      " [-2.06299756e-01  3.72875058e-01 -9.77593828e-02  2.71787742e-01\n",
      "  -5.06165527e-02 -1.12771266e-02  2.81197218e-03  5.55282328e-02\n",
      "   1.76710689e-01 -4.05496164e-02 -5.44054193e-01  5.17547918e-01\n",
      "  -5.86528967e-02  1.44994783e-01 -2.62518280e-02 -2.92920428e-01\n",
      "   1.46702734e-01]\n",
      " [-1.75138842e-01  4.04250640e-01 -8.13575684e-02  1.63457087e-01\n",
      "   5.87975580e-02  4.01196268e-02  2.35400786e-02 -5.83157504e-02\n",
      "   1.28035155e-01 -3.14617978e-02  6.09048127e-01  4.05328352e-01\n",
      "  -6.83645378e-02 -2.99576263e-02  7.39350561e-02  4.46935450e-01\n",
      "  -1.21051996e-02]\n",
      " [-3.53990557e-01 -8.15077765e-02  3.42794420e-02 -5.51796334e-02\n",
      "   3.94019023e-01  5.41942245e-02  1.64625571e-01  1.29536151e-01\n",
      "  -3.38331896e-01 -6.40272957e-02 -1.44813035e-01  1.47935152e-01\n",
      "  -8.77395752e-03 -6.98036916e-01  1.07536920e-01  1.60339719e-03\n",
      "  -3.78844097e-02]\n",
      " [-3.43702467e-01 -4.39140881e-02 -2.55085723e-02 -1.15855059e-01\n",
      "   4.23913172e-01 -3.08687410e-02  1.25835762e-01  1.08116507e-01\n",
      "  -4.01041645e-01 -1.43050699e-02  8.04965700e-02 -5.19055777e-02\n",
      "  -2.74016941e-01  6.17396656e-01 -1.49296761e-01 -2.48611440e-02\n",
      "   9.11239455e-02]\n",
      " [-1.53527590e-01  4.18089297e-01 -6.05628562e-02  1.01292070e-01\n",
      "   4.54078528e-02  4.17274288e-02  2.40116146e-02 -7.82383577e-02\n",
      "   5.92590638e-02 -1.74906259e-02 -4.14017608e-01 -5.60675304e-01\n",
      "  -7.99532742e-02 -1.00315012e-02  4.28876301e-02  5.25319912e-01\n",
      "  -5.76487187e-02]\n",
      " [-2.57859287e-02  3.15119134e-01  1.37966832e-01 -1.58951251e-01\n",
      "  -3.06058094e-01  1.93339422e-01 -2.51111263e-02 -5.70135018e-01\n",
      "  -5.61028863e-01  2.23974904e-01  8.72484281e-03  5.31278335e-02\n",
      "   1.02020732e-01 -2.09983126e-02 -1.94333337e-02 -1.26509734e-01\n",
      "   6.28499474e-02]\n",
      " [-2.94965994e-01 -2.48748173e-01  4.81491197e-02  1.36572002e-01\n",
      "  -2.20139878e-01  2.67734158e-02 -1.12135600e-01 -1.46220489e-02\n",
      "   1.20304645e-03 -1.81786941e-01  5.14125438e-02 -1.02095362e-01\n",
      "   1.46199343e-01 -3.95392860e-02  2.58416552e-02  1.45891405e-01\n",
      "   8.22908398e-01]\n",
      " [-2.48896885e-01 -1.36927922e-01  1.52143504e-01  1.91576166e-01\n",
      "  -5.56677349e-01 -1.67220434e-01 -2.18058092e-01  2.12995569e-01\n",
      "  -2.80843531e-01 -2.93448662e-01  1.23870180e-03  2.56620894e-02\n",
      "  -3.60912134e-01 -3.69908819e-03  5.72153462e-02  7.18354751e-02\n",
      "  -3.52608505e-01]\n",
      " [-6.42827785e-02  5.66066526e-02  6.79693620e-01  7.13795514e-02\n",
      "   1.31994951e-01 -6.40262169e-01  1.50371205e-01 -2.07821399e-01\n",
      "   1.35859726e-01  8.50316393e-02  7.40409608e-04 -2.85111489e-03\n",
      "   3.34809127e-02  9.57613442e-03  6.82096145e-02 -9.82435927e-03\n",
      "   2.76901401e-02]\n",
      " [ 4.25981738e-02  2.19634151e-01  4.95300078e-01 -2.49032745e-01\n",
      "   2.17223922e-01  3.37697849e-01 -6.37299867e-01  2.08241997e-01\n",
      "   8.38764902e-02 -1.41756567e-01 -1.20672459e-03  1.31210253e-02\n",
      "  -2.07268141e-02  2.65877604e-03 -3.01808078e-02 -4.00538504e-02\n",
      "   4.01144680e-02]\n",
      " [-3.19579232e-01  5.88540448e-02 -1.31903121e-01 -5.29195380e-01\n",
      "  -1.50814264e-01 -8.30924584e-02  2.57764237e-03  7.72742010e-02\n",
      "   1.86611542e-01  1.18174458e-01  1.40741118e-02 -2.98639738e-02\n",
      "   3.98157243e-02  1.10964608e-01  6.96287228e-01 -1.11116039e-01\n",
      "  -1.97930769e-02]\n",
      " [-3.16776477e-01  4.70008357e-02 -7.09715596e-02 -5.18144779e-01\n",
      "  -2.14615639e-01 -1.49282189e-01  4.17554494e-02  1.40630479e-02\n",
      "   2.59934804e-01  7.70099176e-02  6.18241305e-03  2.70252109e-02\n",
      "  -6.25480083e-02 -1.57564764e-01 -6.69882232e-01  3.94111128e-02\n",
      "  -1.86203119e-02]\n",
      " [ 1.77164491e-01  2.46076655e-01 -2.91240091e-01 -1.68468205e-01\n",
      "   7.70591919e-02 -4.85844391e-01 -2.13980087e-01  7.54935950e-02\n",
      "  -2.79116404e-01 -4.73970264e-01 -2.22862123e-03  2.11914505e-02\n",
      "   4.42559093e-01  2.10406761e-02 -4.10690876e-02  1.66448115e-02\n",
      "   1.06883947e-02]\n",
      " [-2.05418014e-01 -2.46023579e-01 -1.47090056e-01  1.61146847e-02\n",
      "   2.15815334e-01  4.71502314e-02 -2.21096515e-01 -6.89202681e-01\n",
      "   2.46797747e-01 -4.23595852e-01 -1.88728215e-02 -3.92402220e-03\n",
      "  -1.33965467e-01  8.21266099e-03  3.13661076e-02 -1.02793833e-01\n",
      "  -1.80051409e-01]\n",
      " [-3.18605544e-01 -1.30727369e-01  2.27918829e-01  8.60666647e-02\n",
      "  -7.49927681e-02  2.97457585e-01  2.24278705e-01  6.26002869e-02\n",
      "   5.30219126e-02 -1.39085118e-01 -3.56405319e-02  4.42782385e-02\n",
      "   6.89350125e-01  2.28296993e-01 -7.37876749e-02  9.04328465e-02\n",
      "  -3.27702760e-01]\n",
      " [-2.55626868e-01 -1.68686285e-01 -2.05241119e-01  2.43113496e-01\n",
      "   1.15718370e-01 -2.15656623e-01 -5.64575953e-01 -1.48592841e-02\n",
      "  -4.94830868e-02  5.91786591e-01 -1.45932934e-02  7.66081425e-03\n",
      "   2.24433233e-01  4.01950518e-03 -4.72561238e-02  6.58020893e-02\n",
      "  -1.27378733e-01]]\n"
     ]
    }
   ],
   "source": [
    "eig_vals, eig_vecs = np.linalg.eig(cov_matrix)\n",
    "print('\\n Eigen Values \\n %s', eig_vals)\n",
    "print('\\n')\n",
    "print('Eigen Vectors \\n %s', eig_vecs)"
   ]
  },
  {
   "cell_type": "markdown",
   "metadata": {},
   "source": [
    "## 2.7 Write down the explicit form of the first PC (in terms of the eigenvectors. Use values with two places of decimals only)."
   ]
  },
  {
   "cell_type": "code",
   "execution_count": 88,
   "metadata": {},
   "outputs": [
    {
     "data": {
      "text/plain": [
       "array([ 0.25,  0.21,  0.18,  0.35,  0.34,  0.15,  0.03,  0.29,  0.25,\n",
       "        0.06, -0.04,  0.32,  0.32, -0.18,  0.21,  0.32,  0.26])"
      ]
     },
     "execution_count": 88,
     "metadata": {},
     "output_type": "execute_result"
    }
   ],
   "source": [
    "np.round(pca.components_[0],2)"
   ]
  },
  {
   "cell_type": "code",
   "execution_count": 91,
   "metadata": {},
   "outputs": [
    {
     "name": "stdout",
     "output_type": "stream",
     "text": [
      "The explicit form of 1st principal component:\n",
      "0.25 * Apps + 0.21 * Accept + 0.18 * Enroll + 0.35 * Top10perc + 0.34 * Top25perc + 0.15 * F.Undergrad + 0.03 * P.Undergrad + 0.29 * Outstate + 0.25 * Room.Board + 0.06 * Books + -0.04 * Personal + 0.32 * PhD + 0.32 * Terminal + -0.18 * S.F.Ratio + 0.21 * perc.alumni + 0.32 * Expend + 0.26 * Grad.Rate + "
     ]
    }
   ],
   "source": [
    "print('The explicit form of 1st principal component:')\n",
    "for i in range(0,df_num_scaled.shape[1]):\n",
    "    print('{} * {}'.format(np.round(pca.components_[0][i],2),df_num_scaled.columns[i]),end=' + ')"
   ]
  },
  {
   "cell_type": "markdown",
   "metadata": {},
   "source": [
    "## 2.8 Consider the cumulative values of the eigenvalues. How does it help you to decide on the optimum number of principal components? What do the eigenvectors indicate?"
   ]
  },
  {
   "cell_type": "code",
   "execution_count": 34,
   "metadata": {},
   "outputs": [
    {
     "name": "stdout",
     "output_type": "stream",
     "text": [
      "Cumulative Variance Explained [ 32.0988744   58.44246116  65.34259565  71.20525863  76.69617559\n",
      "  81.67414057  85.23346016  88.68686349  91.80133169  94.17208083\n",
      "  96.01178946  97.30603027  98.29167258  99.13175814  99.64913029\n",
      "  99.86482309 100.        ]\n"
     ]
    }
   ],
   "source": [
    "tot = sum(eig_vals)\n",
    "var_exp = [( i /tot ) * 100 for i in sorted(eig_vals, reverse=True)]\n",
    "cum_var_exp = np.cumsum(var_exp)\n",
    "print(\"Cumulative Variance Explained\", cum_var_exp)"
   ]
  },
  {
   "cell_type": "markdown",
   "metadata": {},
   "source": [
    "**Cumulative values determines how much proportion of total variance is explained by each of the principal component. Moreover, cumulative values create principal components in decreasing order of magnitude of their variances where 1st principal component explains highest proportion of variance. This very feature of cumulative values helps determine how many principal components should be considered for further analysis and how many should be discarded leading to 'dimension reduction' which is an essential objective of PCA. As a rule of thumb, we choose to keep the number of principal components which explain 70% to 90% of the total variance and discard the rest.**"
   ]
  },
  {
   "cell_type": "markdown",
   "metadata": {},
   "source": [
    "**Eigenvectors are the principal components themselves. They provide linear combination of the variable which carries most of the variance in the data. Each eigenvector represents a direction where there is more variance and each eigenvector is orthogonal to the other.**"
   ]
  },
  {
   "cell_type": "markdown",
   "metadata": {},
   "source": [
    "## 2.9 Explain the business implication of using the Principal Component Analysis for this case study. How may PCs help in the further analysis? [Hint: Write Interpretations of the Principal Components Obtained]"
   ]
  },
  {
   "cell_type": "markdown",
   "metadata": {},
   "source": [
    "**We have decided to keep about 4 PC's in total which cumulatively explain 71.2% of total variance observed in the data. The basis of these four PC's is to provide an overview of the important factors essential to further analyse and differentiate about 777 universities in USA across parameters such as their overall student capacity and student demograpics, university popularity/preference, student facilities/services/lifestyle and additional charges levied for the same, general student expenses and living costs and faculty and staff experience and achievements.** \n",
    "\n",
    "**One business implication using the 4 PC's can help in ranking/rating these universities based on the above parameters**\n",
    "\n",
    "**For Universities, these will help them focus on the core operations within these parameters to improve the overall efficacy and reach to the potential students and more over to promote their university based on their strengths. The rankings/ratings will bring to light the areas which need improvement and can also be used to create effective surveys to attract potential students and maybe also to open more campuses and expand**\n",
    "\n",
    "**The PC's can be used by the governments and private HNI's to provide fundings/grants and donations to these universities**\n",
    "\n",
    "**For employers, these parameters could help them set preferences for the employees they can look to hire and decide on the salaries and positions offered, basically to set their hiring preferences from these universities.**  \n",
    "\n",
    "**For Students, these will help them choose the universities according to their interests, affordability etc**"
   ]
  }
 ],
 "metadata": {
  "kernelspec": {
   "display_name": "Python 3",
   "language": "python",
   "name": "python3"
  },
  "language_info": {
   "codemirror_mode": {
    "name": "ipython",
    "version": 3
   },
   "file_extension": ".py",
   "mimetype": "text/x-python",
   "name": "python",
   "nbconvert_exporter": "python",
   "pygments_lexer": "ipython3",
   "version": "3.8.5"
  }
 },
 "nbformat": 4,
 "nbformat_minor": 4
}
